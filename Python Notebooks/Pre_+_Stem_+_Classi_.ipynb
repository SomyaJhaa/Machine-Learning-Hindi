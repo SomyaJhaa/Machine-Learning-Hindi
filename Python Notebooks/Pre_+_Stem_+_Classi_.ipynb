{
  "nbformat": 4,
  "nbformat_minor": 0,
  "metadata": {
    "colab": {
      "provenance": []
    },
    "kernelspec": {
      "name": "python3",
      "display_name": "Python 3"
    },
    "language_info": {
      "name": "python"
    }
  },
  "cells": [
    {
      "cell_type": "markdown",
      "source": [
        "Done preprocessing which included stopwords removal, punctuations and emojis also, along with stemmed the dataset with hindi grammer."
      ],
      "metadata": {
        "id": "rWpvUAj3k0EZ"
      }
    },
    {
      "cell_type": "markdown",
      "source": [
        "Also done some classification with\n",
        "\n",
        "\n",
        "*   Logistic Regression\n",
        "*   Passive Aggression\n",
        "*   Naive Bayes\n",
        "*   SVM ( it is giving some error after some time of executing )\n",
        "\n",
        "\n",
        "\n",
        "\n"
      ],
      "metadata": {
        "id": "9tRsyXZ3lbHZ"
      }
    },
    {
      "cell_type": "code",
      "source": [
        "from google.colab import drive\n",
        "drive.mount('/content/drive')"
      ],
      "metadata": {
        "colab": {
          "base_uri": "https://localhost:8080/"
        },
        "id": "FyzG-N1QimWW",
        "outputId": "9943651b-7398-4a4d-fe4a-8864e30b3285"
      },
      "execution_count": null,
      "outputs": [
        {
          "output_type": "stream",
          "name": "stdout",
          "text": [
            "Mounted at /content/drive\n"
          ]
        }
      ]
    },
    {
      "cell_type": "code",
      "source": [
        "import pandas as pd"
      ],
      "metadata": {
        "id": "rKCNfYiJxZlE"
      },
      "execution_count": null,
      "outputs": []
    },
    {
      "cell_type": "code",
      "source": [
        "d2 = pd.read_csv(\"/content/drive/MyDrive/Project/Hindi_movies_review_train.csv\")"
      ],
      "metadata": {
        "id": "Ni2jK8h2tOQJ"
      },
      "execution_count": null,
      "outputs": []
    },
    {
      "cell_type": "code",
      "source": [
        "import re"
      ],
      "metadata": {
        "id": "Dq7BXFReBfta"
      },
      "execution_count": null,
      "outputs": []
    },
    {
      "cell_type": "code",
      "metadata": {
        "id": "seMUhOqBTcpX"
      },
      "source": [
        "# Emoticons :)\n",
        "def remove_emojis(text):\n",
        "    # Happy\n",
        "    text = re.sub(\":D\", 'grin',text)\n",
        "    text = re.sub(\" (x|X)D\", 'laugh',text)\n",
        "    text = re.sub(\":\\)+\", 'happy',text)\n",
        "\n",
        "    # Sad\n",
        "    text = re.sub(\":\\(+\", 'sad',text)\n",
        "    text = re.sub(\"-_+-\", 'annoyed',text)\n",
        "    return text"
      ],
      "execution_count": null,
      "outputs": []
    },
    {
      "cell_type": "code",
      "source": [
        "d2['cleaned'] = d2.text.apply(lambda tweet : remove_emojis(tweet))"
      ],
      "metadata": {
        "id": "pxqohfD3yUx-"
      },
      "execution_count": null,
      "outputs": []
    },
    {
      "cell_type": "markdown",
      "metadata": {
        "id": "GKQvLqPZW11b"
      },
      "source": [
        "## Remove URLs"
      ]
    },
    {
      "cell_type": "code",
      "metadata": {
        "id": "bpiHHRBuW1Nv"
      },
      "source": [
        "def remove_urls(text):\n",
        "    text = re.sub(\"https?:\\/\\/t.co\\/[A-Za-z0-9]*\", '', text)\n",
        "    return text"
      ],
      "execution_count": null,
      "outputs": []
    },
    {
      "cell_type": "code",
      "source": [
        "d2['cleaned'] = d2.cleaned.apply(lambda tweet : remove_urls(tweet))"
      ],
      "metadata": {
        "id": "lMG6APKTyWmr"
      },
      "execution_count": null,
      "outputs": []
    },
    {
      "cell_type": "markdown",
      "source": [
        "Tokenize"
      ],
      "metadata": {
        "id": "M1olR8Mut3_7"
      }
    },
    {
      "cell_type": "code",
      "metadata": {
        "id": "CaC_lkEpk0eZ",
        "outputId": "e4c97cf1-2249-4fc1-d716-8483b9770a44",
        "colab": {
          "base_uri": "https://localhost:8080/"
        }
      },
      "source": [
        "# with nltk\n",
        "import nltk\n",
        "from nltk.tokenize import word_tokenize\n",
        "nltk.download('punkt')"
      ],
      "execution_count": null,
      "outputs": [
        {
          "output_type": "stream",
          "name": "stderr",
          "text": [
            "[nltk_data] Downloading package punkt to /root/nltk_data...\n",
            "[nltk_data]   Package punkt is already up-to-date!\n"
          ]
        },
        {
          "output_type": "execute_result",
          "data": {
            "text/plain": [
              "True"
            ]
          },
          "metadata": {},
          "execution_count": 11
        }
      ]
    },
    {
      "cell_type": "code",
      "metadata": {
        "id": "1WniGDX_lBrS"
      },
      "source": [
        "d2['cleaned'] = d2.cleaned.apply(lambda x: word_tokenize(x))"
      ],
      "execution_count": null,
      "outputs": []
    },
    {
      "cell_type": "code",
      "metadata": {
        "id": "UilY8xUhpvnd",
        "outputId": "6d768700-d240-4f15-cbb6-4845ede5891f",
        "colab": {
          "base_uri": "https://localhost:8080/"
        }
      },
      "source": [
        "d2['cleaned'].head()"
      ],
      "execution_count": null,
      "outputs": [
        {
          "output_type": "execute_result",
          "data": {
            "text/plain": [
              "0    [चंद्रमोहन, शर्मा, को-प्रड्यूसर, और, लीड, ऐक्ट...\n",
              "1    [अगर, आप, इस, फिल्म, को, देखने, जा, रहे, हैं, ...\n",
              "2    [बॉलीवुड, वाले, चोरी-छिपे, हॉलीवुड, फिल्मों, स...\n",
              "3    [बैनर, :, संजय, दत्त, प्रोडक्शन्स, प्रा.लि., ,...\n",
              "4    [1959, में, घटित, चर्चित, नानावटी, कांड, में, ...\n",
              "Name: cleaned, dtype: object"
            ]
          },
          "metadata": {},
          "execution_count": 13
        }
      ]
    },
    {
      "cell_type": "markdown",
      "metadata": {
        "id": "YRhQE3A3tXt3"
      },
      "source": [
        "## Removing punctuations"
      ]
    },
    {
      "cell_type": "code",
      "source": [
        "import string"
      ],
      "metadata": {
        "id": "85P4GY0LuIKH"
      },
      "execution_count": null,
      "outputs": []
    },
    {
      "cell_type": "code",
      "metadata": {
        "id": "nEvcHrG2pyYD"
      },
      "source": [
        "def remove_punc(text):\n",
        "    text = text.translate(str.maketrans('', '', string.punctuation))\n",
        "    return text"
      ],
      "execution_count": null,
      "outputs": []
    },
    {
      "cell_type": "code",
      "metadata": {
        "id": "VToRoK405ALS",
        "outputId": "2d99c73d-fdb8-4068-e6d6-7725fd756d08",
        "colab": {
          "base_uri": "https://localhost:8080/"
        }
      },
      "source": [
        "d2['cleaned'] = d2.cleaned.apply(lambda tweet: [remove_punc(w) for w in tweet])\n",
        "d2.cleaned.head()"
      ],
      "execution_count": null,
      "outputs": [
        {
          "output_type": "execute_result",
          "data": {
            "text/plain": [
              "0    [चंद्रमोहन, शर्मा, कोप्रड्यूसर, और, लीड, ऐक्टर...\n",
              "1    [अगर, आप, इस, फिल्म, को, देखने, जा, रहे, हैं, ...\n",
              "2    [बॉलीवुड, वाले, चोरीछिपे, हॉलीवुड, फिल्मों, से...\n",
              "3    [बैनर, , संजय, दत्त, प्रोडक्शन्स, प्रालि, , रु...\n",
              "4    [1959, में, घटित, चर्चित, नानावटी, कांड, में, ...\n",
              "Name: cleaned, dtype: object"
            ]
          },
          "metadata": {},
          "execution_count": 16
        }
      ]
    },
    {
      "cell_type": "code",
      "source": [
        "# it merged the word with '-' , for example in line 1 pyari-si\n",
        "#d2['cleaned'][0]"
      ],
      "metadata": {
        "id": "AJiO9BpGz1Z-"
      },
      "execution_count": null,
      "outputs": []
    },
    {
      "cell_type": "markdown",
      "source": [
        "## Stopwords"
      ],
      "metadata": {
        "id": "SjPUQvVyu3AY"
      }
    },
    {
      "cell_type": "code",
      "source": [
        "stopH = { 'पर' , 'इन' , 'वह' , 'यिह','वुह','जिन्हें','जिन्हों','किन्हों','किन्हें','इत्यादि','द्वारा','इन्हें','इन्हों','उन्हों','बिलकुल','इन्हीं','उन्हीं','उन्हें','इसमें','जितना','दुसरा','कितना','कितने','कितनो','वग़ैरह','दूसरे','कौनसा','लेकिन',\n",
        "         'होता','करने','किया','लिये','अपने','नहीं','दिया','इसका','करना','वाले','सकते','इसके','सबसे','होने','करते','बहुत','करें','होती','अपनी','उनके','कहते','होते','करता','उनकी','इसकी','सकता','रखें','अपना','उसके',\n",
        "          'जिसे','किसे','किसी','काफ़ी','पहले','नीचे','यहाँ','जैसा','जैसे','मानो','अंदर','भीतर','पूरा','सारा','होना','उनको','वहाँ','वहीं','जहाँ','जीधर','उनका','इनका','के','हैं','गया','बनी','एवं','हुआ','साथ','बाद','लिए',\n",
        "          'कुछ','कहा','यदि','हुई','इसे','हुए','अभी','सभी','कुल','रहा','रहे','इसी','उसे','जिस','जिन','कौन','किस','कोई','ऐसे','तरह','संग','यही','उसी','फिर','मगर','का','एक','यह','से','को','इस','कि','जो','कर',\n",
        "          'मे','ने','तो','ही','या','हो','था','तक','आप','ये','थे','दो','वे','थी','जा','ना','उस','पे','उन','भी','और','घर','तब','जब','व','न'}"
      ],
      "metadata": {
        "id": "GK6r5yLpu4EG"
      },
      "execution_count": null,
      "outputs": []
    },
    {
      "cell_type": "code",
      "source": [
        "for i in range(len(d2)):\n",
        "  l = [word for word in d2['cleaned'][i] if word not in stopH]\n",
        "  d2['cleaned'][i] = l"
      ],
      "metadata": {
        "id": "o2EGbt6DvTsI",
        "colab": {
          "base_uri": "https://localhost:8080/"
        },
        "outputId": "d37fdcd7-3642-4eb2-a039-6f9a86df9338"
      },
      "execution_count": null,
      "outputs": [
        {
          "output_type": "stream",
          "name": "stderr",
          "text": [
            "<ipython-input-18-95f0092daec8>:3: SettingWithCopyWarning: \n",
            "A value is trying to be set on a copy of a slice from a DataFrame\n",
            "\n",
            "See the caveats in the documentation: https://pandas.pydata.org/pandas-docs/stable/user_guide/indexing.html#returning-a-view-versus-a-copy\n",
            "  d2['cleaned'][i] = l\n"
          ]
        }
      ]
    },
    {
      "cell_type": "code",
      "source": [
        "d2.head(2)"
      ],
      "metadata": {
        "colab": {
          "base_uri": "https://localhost:8080/",
          "height": 147
        },
        "id": "Wf0KKYtTvljs",
        "outputId": "d2cfef9f-5ff0-481b-8e2f-ad54cfa2d474"
      },
      "execution_count": null,
      "outputs": [
        {
          "output_type": "execute_result",
          "data": {
            "text/plain": [
              "                                                text  experience  \\\n",
              "0  चंद्रमोहन शर्मा को-प्रड्यूसर और लीड ऐक्टर अक्ष...           2   \n",
              "1  अगर आप इस फिल्म को देखने जा रहे हैं तो सबसे पह...           0   \n",
              "\n",
              "                                             cleaned  \n",
              "0  [चंद्रमोहन, शर्मा, कोप्रड्यूसर, लीड, ऐक्टर, अक...  \n",
              "1  [अगर, फिल्म, देखने, जान, लीजिए, बेशक, फिल्म, प...  "
            ],
            "text/html": [
              "\n",
              "  <div id=\"df-84a73839-7da5-40d5-b564-4962aaf32d1d\" class=\"colab-df-container\">\n",
              "    <div>\n",
              "<style scoped>\n",
              "    .dataframe tbody tr th:only-of-type {\n",
              "        vertical-align: middle;\n",
              "    }\n",
              "\n",
              "    .dataframe tbody tr th {\n",
              "        vertical-align: top;\n",
              "    }\n",
              "\n",
              "    .dataframe thead th {\n",
              "        text-align: right;\n",
              "    }\n",
              "</style>\n",
              "<table border=\"1\" class=\"dataframe\">\n",
              "  <thead>\n",
              "    <tr style=\"text-align: right;\">\n",
              "      <th></th>\n",
              "      <th>text</th>\n",
              "      <th>experience</th>\n",
              "      <th>cleaned</th>\n",
              "    </tr>\n",
              "  </thead>\n",
              "  <tbody>\n",
              "    <tr>\n",
              "      <th>0</th>\n",
              "      <td>चंद्रमोहन शर्मा को-प्रड्यूसर और लीड ऐक्टर अक्ष...</td>\n",
              "      <td>2</td>\n",
              "      <td>[चंद्रमोहन, शर्मा, कोप्रड्यूसर, लीड, ऐक्टर, अक...</td>\n",
              "    </tr>\n",
              "    <tr>\n",
              "      <th>1</th>\n",
              "      <td>अगर आप इस फिल्म को देखने जा रहे हैं तो सबसे पह...</td>\n",
              "      <td>0</td>\n",
              "      <td>[अगर, फिल्म, देखने, जान, लीजिए, बेशक, फिल्म, प...</td>\n",
              "    </tr>\n",
              "  </tbody>\n",
              "</table>\n",
              "</div>\n",
              "    <div class=\"colab-df-buttons\">\n",
              "\n",
              "  <div class=\"colab-df-container\">\n",
              "    <button class=\"colab-df-convert\" onclick=\"convertToInteractive('df-84a73839-7da5-40d5-b564-4962aaf32d1d')\"\n",
              "            title=\"Convert this dataframe to an interactive table.\"\n",
              "            style=\"display:none;\">\n",
              "\n",
              "  <svg xmlns=\"http://www.w3.org/2000/svg\" height=\"24px\" viewBox=\"0 -960 960 960\">\n",
              "    <path d=\"M120-120v-720h720v720H120Zm60-500h600v-160H180v160Zm220 220h160v-160H400v160Zm0 220h160v-160H400v160ZM180-400h160v-160H180v160Zm440 0h160v-160H620v160ZM180-180h160v-160H180v160Zm440 0h160v-160H620v160Z\"/>\n",
              "  </svg>\n",
              "    </button>\n",
              "\n",
              "  <style>\n",
              "    .colab-df-container {\n",
              "      display:flex;\n",
              "      gap: 12px;\n",
              "    }\n",
              "\n",
              "    .colab-df-convert {\n",
              "      background-color: #E8F0FE;\n",
              "      border: none;\n",
              "      border-radius: 50%;\n",
              "      cursor: pointer;\n",
              "      display: none;\n",
              "      fill: #1967D2;\n",
              "      height: 32px;\n",
              "      padding: 0 0 0 0;\n",
              "      width: 32px;\n",
              "    }\n",
              "\n",
              "    .colab-df-convert:hover {\n",
              "      background-color: #E2EBFA;\n",
              "      box-shadow: 0px 1px 2px rgba(60, 64, 67, 0.3), 0px 1px 3px 1px rgba(60, 64, 67, 0.15);\n",
              "      fill: #174EA6;\n",
              "    }\n",
              "\n",
              "    .colab-df-buttons div {\n",
              "      margin-bottom: 4px;\n",
              "    }\n",
              "\n",
              "    [theme=dark] .colab-df-convert {\n",
              "      background-color: #3B4455;\n",
              "      fill: #D2E3FC;\n",
              "    }\n",
              "\n",
              "    [theme=dark] .colab-df-convert:hover {\n",
              "      background-color: #434B5C;\n",
              "      box-shadow: 0px 1px 3px 1px rgba(0, 0, 0, 0.15);\n",
              "      filter: drop-shadow(0px 1px 2px rgba(0, 0, 0, 0.3));\n",
              "      fill: #FFFFFF;\n",
              "    }\n",
              "  </style>\n",
              "\n",
              "    <script>\n",
              "      const buttonEl =\n",
              "        document.querySelector('#df-84a73839-7da5-40d5-b564-4962aaf32d1d button.colab-df-convert');\n",
              "      buttonEl.style.display =\n",
              "        google.colab.kernel.accessAllowed ? 'block' : 'none';\n",
              "\n",
              "      async function convertToInteractive(key) {\n",
              "        const element = document.querySelector('#df-84a73839-7da5-40d5-b564-4962aaf32d1d');\n",
              "        const dataTable =\n",
              "          await google.colab.kernel.invokeFunction('convertToInteractive',\n",
              "                                                    [key], {});\n",
              "        if (!dataTable) return;\n",
              "\n",
              "        const docLinkHtml = 'Like what you see? Visit the ' +\n",
              "          '<a target=\"_blank\" href=https://colab.research.google.com/notebooks/data_table.ipynb>data table notebook</a>'\n",
              "          + ' to learn more about interactive tables.';\n",
              "        element.innerHTML = '';\n",
              "        dataTable['output_type'] = 'display_data';\n",
              "        await google.colab.output.renderOutput(dataTable, element);\n",
              "        const docLink = document.createElement('div');\n",
              "        docLink.innerHTML = docLinkHtml;\n",
              "        element.appendChild(docLink);\n",
              "      }\n",
              "    </script>\n",
              "  </div>\n",
              "\n",
              "\n",
              "<div id=\"df-dced3fd6-719a-459c-bb47-942afc4570ed\">\n",
              "  <button class=\"colab-df-quickchart\" onclick=\"quickchart('df-dced3fd6-719a-459c-bb47-942afc4570ed')\"\n",
              "            title=\"Suggest charts\"\n",
              "            style=\"display:none;\">\n",
              "\n",
              "<svg xmlns=\"http://www.w3.org/2000/svg\" height=\"24px\"viewBox=\"0 0 24 24\"\n",
              "     width=\"24px\">\n",
              "    <g>\n",
              "        <path d=\"M19 3H5c-1.1 0-2 .9-2 2v14c0 1.1.9 2 2 2h14c1.1 0 2-.9 2-2V5c0-1.1-.9-2-2-2zM9 17H7v-7h2v7zm4 0h-2V7h2v10zm4 0h-2v-4h2v4z\"/>\n",
              "    </g>\n",
              "</svg>\n",
              "  </button>\n",
              "\n",
              "<style>\n",
              "  .colab-df-quickchart {\n",
              "      --bg-color: #E8F0FE;\n",
              "      --fill-color: #1967D2;\n",
              "      --hover-bg-color: #E2EBFA;\n",
              "      --hover-fill-color: #174EA6;\n",
              "      --disabled-fill-color: #AAA;\n",
              "      --disabled-bg-color: #DDD;\n",
              "  }\n",
              "\n",
              "  [theme=dark] .colab-df-quickchart {\n",
              "      --bg-color: #3B4455;\n",
              "      --fill-color: #D2E3FC;\n",
              "      --hover-bg-color: #434B5C;\n",
              "      --hover-fill-color: #FFFFFF;\n",
              "      --disabled-bg-color: #3B4455;\n",
              "      --disabled-fill-color: #666;\n",
              "  }\n",
              "\n",
              "  .colab-df-quickchart {\n",
              "    background-color: var(--bg-color);\n",
              "    border: none;\n",
              "    border-radius: 50%;\n",
              "    cursor: pointer;\n",
              "    display: none;\n",
              "    fill: var(--fill-color);\n",
              "    height: 32px;\n",
              "    padding: 0;\n",
              "    width: 32px;\n",
              "  }\n",
              "\n",
              "  .colab-df-quickchart:hover {\n",
              "    background-color: var(--hover-bg-color);\n",
              "    box-shadow: 0 1px 2px rgba(60, 64, 67, 0.3), 0 1px 3px 1px rgba(60, 64, 67, 0.15);\n",
              "    fill: var(--button-hover-fill-color);\n",
              "  }\n",
              "\n",
              "  .colab-df-quickchart-complete:disabled,\n",
              "  .colab-df-quickchart-complete:disabled:hover {\n",
              "    background-color: var(--disabled-bg-color);\n",
              "    fill: var(--disabled-fill-color);\n",
              "    box-shadow: none;\n",
              "  }\n",
              "\n",
              "  .colab-df-spinner {\n",
              "    border: 2px solid var(--fill-color);\n",
              "    border-color: transparent;\n",
              "    border-bottom-color: var(--fill-color);\n",
              "    animation:\n",
              "      spin 1s steps(1) infinite;\n",
              "  }\n",
              "\n",
              "  @keyframes spin {\n",
              "    0% {\n",
              "      border-color: transparent;\n",
              "      border-bottom-color: var(--fill-color);\n",
              "      border-left-color: var(--fill-color);\n",
              "    }\n",
              "    20% {\n",
              "      border-color: transparent;\n",
              "      border-left-color: var(--fill-color);\n",
              "      border-top-color: var(--fill-color);\n",
              "    }\n",
              "    30% {\n",
              "      border-color: transparent;\n",
              "      border-left-color: var(--fill-color);\n",
              "      border-top-color: var(--fill-color);\n",
              "      border-right-color: var(--fill-color);\n",
              "    }\n",
              "    40% {\n",
              "      border-color: transparent;\n",
              "      border-right-color: var(--fill-color);\n",
              "      border-top-color: var(--fill-color);\n",
              "    }\n",
              "    60% {\n",
              "      border-color: transparent;\n",
              "      border-right-color: var(--fill-color);\n",
              "    }\n",
              "    80% {\n",
              "      border-color: transparent;\n",
              "      border-right-color: var(--fill-color);\n",
              "      border-bottom-color: var(--fill-color);\n",
              "    }\n",
              "    90% {\n",
              "      border-color: transparent;\n",
              "      border-bottom-color: var(--fill-color);\n",
              "    }\n",
              "  }\n",
              "</style>\n",
              "\n",
              "  <script>\n",
              "    async function quickchart(key) {\n",
              "      const quickchartButtonEl =\n",
              "        document.querySelector('#' + key + ' button');\n",
              "      quickchartButtonEl.disabled = true;  // To prevent multiple clicks.\n",
              "      quickchartButtonEl.classList.add('colab-df-spinner');\n",
              "      try {\n",
              "        const charts = await google.colab.kernel.invokeFunction(\n",
              "            'suggestCharts', [key], {});\n",
              "      } catch (error) {\n",
              "        console.error('Error during call to suggestCharts:', error);\n",
              "      }\n",
              "      quickchartButtonEl.classList.remove('colab-df-spinner');\n",
              "      quickchartButtonEl.classList.add('colab-df-quickchart-complete');\n",
              "    }\n",
              "    (() => {\n",
              "      let quickchartButtonEl =\n",
              "        document.querySelector('#df-dced3fd6-719a-459c-bb47-942afc4570ed button');\n",
              "      quickchartButtonEl.style.display =\n",
              "        google.colab.kernel.accessAllowed ? 'block' : 'none';\n",
              "    })();\n",
              "  </script>\n",
              "</div>\n",
              "\n",
              "    </div>\n",
              "  </div>\n"
            ],
            "application/vnd.google.colaboratory.intrinsic+json": {
              "type": "dataframe",
              "variable_name": "d2",
              "repr_error": "unhashable type: 'list'"
            }
          },
          "metadata": {},
          "execution_count": 19
        }
      ]
    },
    {
      "cell_type": "code",
      "source": [
        "# for just joining tokens\n",
        "\"\"\"\n",
        "d2['cleaned_joined'] = d2['cleaned'].apply(\" \".join)\n",
        "d2.head(1)\n",
        "\"\"\""
      ],
      "metadata": {
        "id": "qSHWkzpIQ0XI",
        "colab": {
          "base_uri": "https://localhost:8080/",
          "height": 115
        },
        "outputId": "f49322b2-b300-41f9-dbfa-d1b7aef8326f"
      },
      "execution_count": null,
      "outputs": [
        {
          "output_type": "execute_result",
          "data": {
            "text/plain": [
              "                                                text  experience  \\\n",
              "0  चंद्रमोहन शर्मा को-प्रड्यूसर और लीड ऐक्टर अक्ष...           2   \n",
              "\n",
              "                                             cleaned  \\\n",
              "0  [चंद्रमोहन, शर्मा, कोप्रड्यूसर, लीड, ऐक्टर, अक...   \n",
              "\n",
              "                                      cleaned_joined  \n",
              "0  चंद्रमोहन शर्मा कोप्रड्यूसर लीड ऐक्टर अक्षय कु...  "
            ],
            "text/html": [
              "\n",
              "  <div id=\"df-a395f9ce-4728-43e4-89d3-0b0faa1a2771\" class=\"colab-df-container\">\n",
              "    <div>\n",
              "<style scoped>\n",
              "    .dataframe tbody tr th:only-of-type {\n",
              "        vertical-align: middle;\n",
              "    }\n",
              "\n",
              "    .dataframe tbody tr th {\n",
              "        vertical-align: top;\n",
              "    }\n",
              "\n",
              "    .dataframe thead th {\n",
              "        text-align: right;\n",
              "    }\n",
              "</style>\n",
              "<table border=\"1\" class=\"dataframe\">\n",
              "  <thead>\n",
              "    <tr style=\"text-align: right;\">\n",
              "      <th></th>\n",
              "      <th>text</th>\n",
              "      <th>experience</th>\n",
              "      <th>cleaned</th>\n",
              "      <th>cleaned_joined</th>\n",
              "    </tr>\n",
              "  </thead>\n",
              "  <tbody>\n",
              "    <tr>\n",
              "      <th>0</th>\n",
              "      <td>चंद्रमोहन शर्मा को-प्रड्यूसर और लीड ऐक्टर अक्ष...</td>\n",
              "      <td>2</td>\n",
              "      <td>[चंद्रमोहन, शर्मा, कोप्रड्यूसर, लीड, ऐक्टर, अक...</td>\n",
              "      <td>चंद्रमोहन शर्मा कोप्रड्यूसर लीड ऐक्टर अक्षय कु...</td>\n",
              "    </tr>\n",
              "  </tbody>\n",
              "</table>\n",
              "</div>\n",
              "    <div class=\"colab-df-buttons\">\n",
              "\n",
              "  <div class=\"colab-df-container\">\n",
              "    <button class=\"colab-df-convert\" onclick=\"convertToInteractive('df-a395f9ce-4728-43e4-89d3-0b0faa1a2771')\"\n",
              "            title=\"Convert this dataframe to an interactive table.\"\n",
              "            style=\"display:none;\">\n",
              "\n",
              "  <svg xmlns=\"http://www.w3.org/2000/svg\" height=\"24px\" viewBox=\"0 -960 960 960\">\n",
              "    <path d=\"M120-120v-720h720v720H120Zm60-500h600v-160H180v160Zm220 220h160v-160H400v160Zm0 220h160v-160H400v160ZM180-400h160v-160H180v160Zm440 0h160v-160H620v160ZM180-180h160v-160H180v160Zm440 0h160v-160H620v160Z\"/>\n",
              "  </svg>\n",
              "    </button>\n",
              "\n",
              "  <style>\n",
              "    .colab-df-container {\n",
              "      display:flex;\n",
              "      gap: 12px;\n",
              "    }\n",
              "\n",
              "    .colab-df-convert {\n",
              "      background-color: #E8F0FE;\n",
              "      border: none;\n",
              "      border-radius: 50%;\n",
              "      cursor: pointer;\n",
              "      display: none;\n",
              "      fill: #1967D2;\n",
              "      height: 32px;\n",
              "      padding: 0 0 0 0;\n",
              "      width: 32px;\n",
              "    }\n",
              "\n",
              "    .colab-df-convert:hover {\n",
              "      background-color: #E2EBFA;\n",
              "      box-shadow: 0px 1px 2px rgba(60, 64, 67, 0.3), 0px 1px 3px 1px rgba(60, 64, 67, 0.15);\n",
              "      fill: #174EA6;\n",
              "    }\n",
              "\n",
              "    .colab-df-buttons div {\n",
              "      margin-bottom: 4px;\n",
              "    }\n",
              "\n",
              "    [theme=dark] .colab-df-convert {\n",
              "      background-color: #3B4455;\n",
              "      fill: #D2E3FC;\n",
              "    }\n",
              "\n",
              "    [theme=dark] .colab-df-convert:hover {\n",
              "      background-color: #434B5C;\n",
              "      box-shadow: 0px 1px 3px 1px rgba(0, 0, 0, 0.15);\n",
              "      filter: drop-shadow(0px 1px 2px rgba(0, 0, 0, 0.3));\n",
              "      fill: #FFFFFF;\n",
              "    }\n",
              "  </style>\n",
              "\n",
              "    <script>\n",
              "      const buttonEl =\n",
              "        document.querySelector('#df-a395f9ce-4728-43e4-89d3-0b0faa1a2771 button.colab-df-convert');\n",
              "      buttonEl.style.display =\n",
              "        google.colab.kernel.accessAllowed ? 'block' : 'none';\n",
              "\n",
              "      async function convertToInteractive(key) {\n",
              "        const element = document.querySelector('#df-a395f9ce-4728-43e4-89d3-0b0faa1a2771');\n",
              "        const dataTable =\n",
              "          await google.colab.kernel.invokeFunction('convertToInteractive',\n",
              "                                                    [key], {});\n",
              "        if (!dataTable) return;\n",
              "\n",
              "        const docLinkHtml = 'Like what you see? Visit the ' +\n",
              "          '<a target=\"_blank\" href=https://colab.research.google.com/notebooks/data_table.ipynb>data table notebook</a>'\n",
              "          + ' to learn more about interactive tables.';\n",
              "        element.innerHTML = '';\n",
              "        dataTable['output_type'] = 'display_data';\n",
              "        await google.colab.output.renderOutput(dataTable, element);\n",
              "        const docLink = document.createElement('div');\n",
              "        docLink.innerHTML = docLinkHtml;\n",
              "        element.appendChild(docLink);\n",
              "      }\n",
              "    </script>\n",
              "  </div>\n",
              "\n",
              "\n",
              "    </div>\n",
              "  </div>\n"
            ]
          },
          "metadata": {},
          "execution_count": 21
        }
      ]
    },
    {
      "cell_type": "markdown",
      "source": [
        "##Stemming"
      ],
      "metadata": {
        "id": "vrlaJuQ_kE9I"
      }
    },
    {
      "cell_type": "code",
      "source": [
        "words_dict  = { \"तैराक\":\"तैर\",\n",
        "                \"चालाक\":\"चाल\",\n",
        "                \"कूलाक\":\"कूल\",\n",
        "                \"बेलन\":\"बेल\",\n",
        "                \"मिलाप\":\"मिल\",\n",
        "                \"चुपचाप\": \"चुप\",\n",
        "                \"निकास\":\"निकस\",\n",
        "                \"लुकास\":\"लुक\",\n",
        "                }"
      ],
      "metadata": {
        "id": "4X60tXOsm5QX"
      },
      "execution_count": null,
      "outputs": []
    },
    {
      "cell_type": "code",
      "source": [
        "# https://github.com/sainimohit23/hindi-stemmer/blob/master/stemmer.py\n",
        "import re\n",
        "\n",
        "suffixes = {\n",
        "\t    1: [\"ो\", \"े\", \"ू\", \"ु\", \"ी\", \"ि\", \"ा\"],\n",
        "            2: [\"तृ\",\"ान\",\"ैत\",\"ने\",\"ाऊ\",\"ाव\",\"कर\", \"ाओ\", \"िए\", \"ाई\", \"ाए\", \"नी\", \"ना\", \"ते\", \"ीं\", \"ती\",\n",
        "                \"ता\", \"ाँ\", \"ां\", \"ों\", \"ें\",\"ीय\", \"ति\",\"या\", \"पन\", \"पा\",\"ित\",\"ीन\",\"लु\",\"यत\",\"वट\",\"लू\"],\n",
        "            3: [\"ेरा\",\"त्व\",\"नीय\",\"ौनी\",\"ौवल\",\"ौती\",\"ौता\",\"ापा\",\"वास\",\"हास\",\"काल\",\"पान\",\"न्त\",\"ौना\",\"सार\",\"पोश\",\"नाक\",\n",
        "                \"ियल\",\"ैया\", \"ौटी\",\"ावा\",\"ाहट\",\"िया\",\"हार\", \"ाकर\", \"ाइए\", \"ाईं\", \"ाया\", \"ेगी\", \"वान\", \"बीन\",\n",
        "                \"ेगा\", \"ोगी\", \"ोगे\", \"ाने\", \"ाना\", \"ाते\", \"ाती\", \"ाता\", \"तीं\", \"ाओं\", \"ाएं\", \"ुओं\", \"ुएं\", \"ुआं\",\"कला\",\"िमा\",\"कार\",\n",
        "                \"गार\", \"दान\",\"खोर\"],\n",
        "            4: [\"ावास\",\"कलाप\",\"हारा\",\"तव्य\",\"वैया\", \"वाला\", \"ाएगी\", \"ाएगा\", \"ाओगी\", \"ाओगे\",\n",
        "                \"एंगी\", \"ेंगी\", \"एंगे\", \"ेंगे\", \"ूंगी\", \"ूंगा\", \"ातीं\", \"नाओं\", \"नाएं\", \"ताओं\", \"ताएं\", \"ियाँ\", \"ियों\", \"ियां\",\n",
        "                \"त्वा\",\"तव्य\",\"कल्प\",\"िष्ठ\",\"जादा\",\"क्कड़\"],\n",
        "            5: [\"ाएंगी\", \"ाएंगे\", \"ाऊंगी\", \"ाऊंगा\", \"ाइयाँ\", \"ाइयों\", \"ाइयां\", \"अक्कड़\",\"तव्य:\",\"निष्ठ\"],\n",
        "}\n",
        "\n",
        "special_suffixes = [\"र्\", \"ज्य\",\"त्य\"]\n",
        "dict_special_suffixes = {\"र्\":\"ृ\",\n",
        "                         \"ज्य\":\"ज्\",\n",
        "                         \"त्य\":\"त्\"}\n",
        "\n",
        "def hi_stem(word, clean=False,chars=None):\n",
        "    if clean == True:\n",
        "        word = clean_text(word, chars)\n",
        "\n",
        "    ans = word\n",
        "    bl = False\n",
        "\n",
        "    if word in words_dict.keys():\n",
        "        return words_dict[word]\n",
        "\n",
        "    for L in 5, 4, 3, 2, 1:\n",
        "        if len(word) > L + 1:\n",
        "            for suf in suffixes[L]:\n",
        "                if word.endswith(suf):\n",
        "                    ans = word[:-L]\n",
        "                    bl =True\n",
        "        if bl == True:\n",
        "            break\n",
        "\n",
        "    if bl == True:\n",
        "        for suf in suffixes[1]:\n",
        "            if ans.endswith(suf):\n",
        "                # use case - गानेवाला\n",
        "                ans = hi_stem(ans)\n",
        "\n",
        "    for suf in special_suffixes:\n",
        "        if ans.endswith(suf):\n",
        "            l = len(suf)\n",
        "            ans = ans[:-l]\n",
        "            ans += dict_special_suffixes[suf]\n",
        "\n",
        "    return ans\n",
        "\n",
        "def clean_text(text, chars=None):\n",
        "    if chars == None:\n",
        "        text = re.sub(r\"[()\\\"#/@;:<>{}`+=~-|!?,']\", \"\", text)\n",
        "    else:\n",
        "        text = re.sub(r\"[\" +chars+ \"()\\\"#/@;:<>{}`+=~|!?,']\", \"\", text)\n",
        "    return text"
      ],
      "metadata": {
        "id": "UYZ5DzaHmxN_"
      },
      "execution_count": null,
      "outputs": []
    },
    {
      "cell_type": "code",
      "source": [
        "\"\"\"\n",
        "t = d2['cleaned'][0]\n",
        "t\n",
        "\"\"\""
      ],
      "metadata": {
        "id": "3x4jAOEaLJPr"
      },
      "execution_count": null,
      "outputs": []
    },
    {
      "cell_type": "code",
      "source": [
        "\"\"\"l = ''\n",
        "for word in t:\n",
        "  l += hi_stem(word)\n",
        "  l += \" \"\n",
        "l\n",
        "\"\"\""
      ],
      "metadata": {
        "id": "OiwMLXWWLX2o"
      },
      "execution_count": null,
      "outputs": []
    },
    {
      "cell_type": "code",
      "source": [
        "d2['stemmed'] = ''\n",
        "for i in range(len(d2)):\n",
        "  l = ''\n",
        "  for word in d2['cleaned'][i]:\n",
        "    l += hi_stem(word)\n",
        "    l += \" \"\n",
        "  d2['stemmed'][i] = l"
      ],
      "metadata": {
        "id": "DUORBkE8NK3e",
        "colab": {
          "base_uri": "https://localhost:8080/"
        },
        "outputId": "8f8f93ec-0078-4f13-9de1-0f7c9be8d3e6"
      },
      "execution_count": null,
      "outputs": [
        {
          "output_type": "stream",
          "name": "stderr",
          "text": [
            "<ipython-input-22-69b4f960b57a>:7: SettingWithCopyWarning: \n",
            "A value is trying to be set on a copy of a slice from a DataFrame\n",
            "\n",
            "See the caveats in the documentation: https://pandas.pydata.org/pandas-docs/stable/user_guide/indexing.html#returning-a-view-versus-a-copy\n",
            "  d2['stemmed'][i] = l\n"
          ]
        }
      ]
    },
    {
      "cell_type": "code",
      "source": [
        "print( d2['text'][0] )\n",
        "print( d2['cleaned'][0] )\n",
        "print( d2['stemmed'][0] )"
      ],
      "metadata": {
        "colab": {
          "base_uri": "https://localhost:8080/"
        },
        "id": "LcMUfGTnNoIy",
        "outputId": "0b9e17cc-33b9-42f5-a446-95572214cb3d"
      },
      "execution_count": null,
      "outputs": [
        {
          "output_type": "stream",
          "name": "stdout",
          "text": [
            "चंद्रमोहन शर्मा को-प्रड्यूसर और लीड ऐक्टर अक्षय कुमार की मानें तो उनकी नई फिल्म एयरलिफ्ट की कहानी और किरदार बिल्कुल सच्चे हैं। पहले खाड़ी युद्ध को कवर करने वाले एक सीनियर रिपोर्टर और उस वक्त एयर इंडिया में उच्च पद पर रहे एक अफसर इस कहानी को सच से परे मानते हैं। हालांकि, स्क्रीन पर आप जो कुछ भी देखेंगे वह सब सच के बेहद करीब है। बॉलिवुड की खबरें अपने फेसबुक पर पाना हो तो लाइक करें Nbt Movies फिल्म की कहानी चार अहम किरदारों के इर्द-गिर्द घूमती है। इन चारों को मिलाकर एक लीड किरदार स्क्रीन पर उतारा गया है, जिसे अक्षय कुमार ने निभाया है। यह फिल्म पहले खाड़ी युद्ध पर आधारित है। इस जंग के दौरान कुवैत में फंसे करीब एक लाख सत्तर हजार भारतीय नागरिकों को देश वापस लाए जाने की घटना को डायरेक्टर ने अपने अंदाज से पेश किया है। किरदारों को पर्दे पर उतारने में कुछ फिल्मी आजादी की जरूरत होती है, यही आजादी फिल्म के डायरेक्टर राजा मेनन ने भी ली है। देखिए, फिल्म का ट्रेलर  इस घटना को और ज्यादा असरदार ढंग से पेश करने के मकसद से राजा ने फिल्म के कुछ सीन्स को दुबई से करीब चार घंटे की दूरी पर स्थित रसेल खेमा में जाकर शूट किया। गुजरात के भुज और राजस्थान की आउटडोर लोकेशन पर इस फिल्म की अधिकांश शूटिंग की गई है।  कहानी : रंजीत कात्याल (अक्षय कुमार), पत्नी अमृता कात्याल (निमरत कौर) और प्यारी-सी बेटी के साथ कुवैत में रहता है। वह शहर का नामी बिज़नसमैन है। खाड़ी युद्ध छिड़ने के बाद बुरी तरह से बर्बाद हुए कुवैत के एक शहर में रह रहे दूसरे भारतीय नागरिकों के साथ रंजीत का परिवार भी फंस जाता है। सरकारी अधिकारी हालात से निपटने के विकल्पों पर विचार कर रहे हैं और ऐसे में कुवैत का रईस बिज़नसमैन रंजीत अपने प्रभाव और रसूख से अपनी फैमिली और फंसे दूसरे भारतीय नागरिकों को वहां से निकालने का मिशन स्टार्ट करता है। कुवैत में हालात खराब हो रहे थे। भारतीय सेना डायरेक्ट कुछ करने में कतरा रही थी। उस वक्त रंजीत ने अपने दम पर दुनिया के सबसे बड़े ऑपरेशन को शुरू करने का फैसला किया। ऐक्टिंग : इस फिल्म में अक्षय कुमार ने एक बार फिर अपने किरदार को पूरी तरह से जीवंत कर दिखाया है। एयरलिफ्ट में अक्षय कुमार ने अब तक के अपने फिल्मी करियर की बेहतरीन ऐक्टिंग की है। अक्षय जब स्क्रीन पर देश के राष्ट्रीय ध्वज के साथ नजर आते हैं, तो उनके चेहरे का एक्सप्रेशन देखकर हॉल में बैठे दर्शक इस सीन से बंध जाते हैं।  अक्षय की पत्नी के किरदार में निमरत कौर ने अच्छा काम किया है। बाकी के कलाकारों में पूरब कोहली, इनामुल हक और कुमुद मिश्रा ने बेहतरीन ऐक्टिंग की है। डायरेक्शन : राजा मेनन ने स्क्रिप्ट के साथ पूरा न्याय किया है। डायरेक्टर की तारीफ करनी होगी कि उन्होंने बॉक्स ऑफिस का मोह त्याग कर कहानी और किरदारों को पूरी तरह से माहौल में समेटा है। वहीं फिल्म के लगभर हर ऐक्टर से उन्होंने बेहतरीन ऐक्टिंग कराई है। वॉर सीन्स को भी उन्होंने पर्दे पर पूरी तरह से जीवंत कर दिखाया है। उनका काम तारीफ के काबिल है। संगीत : ऐसी कहानी में गानों की जरूरत नहीं होती, लेकिन यहां राजा ने गानों का फिल्मांकन ऐसे ढंग से पेश किया है, जो कहानी और माहौल के अनुकूल है। क्यों देखें : अक्षय कुमार को उनके फिल्मी करियर के सबसे बेहतरीन किरदार में देखने के लिए इस फिल्म को देखें। अगर आप अच्छी और मेसेज देने वाली फिल्मों के शौकीन हैं, तो इस फिल्म को फैमिली के साथ देख सकते हैं। \n",
            "['चंद्रमोहन', 'शर्मा', 'कोप्रड्यूसर', 'लीड', 'ऐक्टर', 'अक्षय', 'कुमार', 'की', 'मानें', 'नई', 'फिल्म', 'एयरलिफ्ट', 'की', 'कहानी', 'किरदार', 'बिल्कुल', 'सच्चे', 'हैं।', 'खाड़ी', 'युद्ध', 'कवर', 'सीनियर', 'रिपोर्टर', 'वक्त', 'एयर', 'इंडिया', 'में', 'उच्च', 'पद', 'अफसर', 'कहानी', 'सच', 'परे', 'मानते', 'हैं।', 'हालांकि', '', 'स्क्रीन', 'देखेंगे', 'सब', 'सच', 'बेहद', 'करीब', 'है।', 'बॉलिवुड', 'की', 'खबरें', 'फेसबुक', 'पाना', 'लाइक', 'Nbt', 'Movies', 'फिल्म', 'की', 'कहानी', 'चार', 'अहम', 'किरदारों', 'इर्दगिर्द', 'घूमती', 'है।', 'चारों', 'मिलाकर', 'लीड', 'किरदार', 'स्क्रीन', 'उतारा', 'है', '', 'अक्षय', 'कुमार', 'निभाया', 'है।', 'फिल्म', 'खाड़ी', 'युद्ध', 'आधारित', 'है।', 'जंग', 'दौरान', 'कुवैत', 'में', 'फंसे', 'करीब', 'लाख', 'सत्तर', 'हजार', 'भारतीय', 'नागरिकों', 'देश', 'वापस', 'लाए', 'जाने', 'की', 'घटना', 'डायरेक्टर', 'अंदाज', 'पेश', 'है।', 'किरदारों', 'पर्दे', 'उतारने', 'में', 'फिल्मी', 'आजादी', 'की', 'जरूरत', 'है', '', 'आजादी', 'फिल्म', 'डायरेक्टर', 'राजा', 'मेनन', 'ली', 'है।', 'देखिए', '', 'फिल्म', 'ट्रेलर', 'घटना', 'ज्यादा', 'असरदार', 'ढंग', 'पेश', 'मकसद', 'राजा', 'फिल्म', 'सीन्स', 'दुबई', 'करीब', 'चार', 'घंटे', 'की', 'दूरी', 'स्थित', 'रसेल', 'खेमा', 'में', 'जाकर', 'शूट', 'किया।', 'गुजरात', 'भुज', 'राजस्थान', 'की', 'आउटडोर', 'लोकेशन', 'फिल्म', 'की', 'अधिकांश', 'शूटिंग', 'की', 'गई', 'है।', 'कहानी', '', 'रंजीत', 'कात्याल', '', 'अक्षय', 'कुमार', '', '', 'पत्नी', 'अमृता', 'कात्याल', '', 'निमरत', 'कौर', '', 'प्यारीसी', 'बेटी', 'कुवैत', 'में', 'रहता', 'है।', 'शहर', 'नामी', 'बिज़नसमैन', 'है।', 'खाड़ी', 'युद्ध', 'छिड़ने', 'बुरी', 'बर्बाद', 'कुवैत', 'शहर', 'में', 'रह', 'भारतीय', 'नागरिकों', 'रंजीत', 'परिवार', 'फंस', 'जाता', 'है।', 'सरकारी', 'अधिकारी', 'हालात', 'निपटने', 'विकल्पों', 'विचार', 'में', 'कुवैत', 'रईस', 'बिज़नसमैन', 'रंजीत', 'प्रभाव', 'रसूख', 'फैमिली', 'फंसे', 'भारतीय', 'नागरिकों', 'वहां', 'निकालने', 'मिशन', 'स्टार्ट', 'है।', 'कुवैत', 'में', 'हालात', 'खराब', 'थे।', 'भारतीय', 'सेना', 'डायरेक्ट', 'में', 'कतरा', 'रही', 'थी।', 'वक्त', 'रंजीत', 'दम', 'दुनिया', 'बड़े', 'ऑपरेशन', 'शुरू', 'फैसला', 'किया।', 'ऐक्टिंग', '', 'फिल्म', 'में', 'अक्षय', 'कुमार', 'बार', 'किरदार', 'पूरी', 'जीवंत', 'दिखाया', 'है।', 'एयरलिफ्ट', 'में', 'अक्षय', 'कुमार', 'अब', 'फिल्मी', 'करियर', 'की', 'बेहतरीन', 'ऐक्टिंग', 'की', 'है।', 'अक्षय', 'स्क्रीन', 'देश', 'राष्ट्रीय', 'ध्वज', 'नजर', 'आते', '', 'चेहरे', 'एक्सप्रेशन', 'देखकर', 'हॉल', 'में', 'बैठे', 'दर्शक', 'सीन', 'बंध', 'जाते', 'हैं।', 'अक्षय', 'की', 'पत्नी', 'किरदार', 'में', 'निमरत', 'कौर', 'अच्छा', 'काम', 'है।', 'बाकी', 'कलाकारों', 'में', 'पूरब', 'कोहली', '', 'इनामुल', 'हक', 'कुमुद', 'मिश्रा', 'बेहतरीन', 'ऐक्टिंग', 'की', 'है।', 'डायरेक्शन', '', 'राजा', 'मेनन', 'स्क्रिप्ट', 'न्याय', 'है।', 'डायरेक्टर', 'की', 'तारीफ', 'करनी', 'होगी', 'उन्होंने', 'बॉक्स', 'ऑफिस', 'मोह', 'त्याग', 'कहानी', 'किरदारों', 'पूरी', 'माहौल', 'में', 'समेटा', 'है।', 'फिल्म', 'लगभर', 'हर', 'ऐक्टर', 'उन्होंने', 'बेहतरीन', 'ऐक्टिंग', 'कराई', 'है।', 'वॉर', 'सीन्स', 'उन्होंने', 'पर्दे', 'पूरी', 'जीवंत', 'दिखाया', 'है।', 'काम', 'तारीफ', 'काबिल', 'है।', 'संगीत', '', 'ऐसी', 'कहानी', 'में', 'गानों', 'की', 'जरूरत', '', 'यहां', 'राजा', 'गानों', 'फिल्मांकन', 'ढंग', 'पेश', 'है', '', 'कहानी', 'माहौल', 'अनुकूल', 'है।', 'क्यों', 'देखें', '', 'अक्षय', 'कुमार', 'फिल्मी', 'करियर', 'बेहतरीन', 'किरदार', 'में', 'देखने', 'फिल्म', 'देखें।', 'अगर', 'अच्छी', 'मेसेज', 'देने', 'वाली', 'फिल्मों', 'शौकीन', '', 'फिल्म', 'फैमिली', 'देख', 'हैं।']\n",
            "चंद्रमोहन शर्म कोप्रड्यूसर लीड ऐक्टर अक्षय कुमार की मान नई फिल्म एयरलिफ्ट की कह किरदार बिल्कुल सच्च हैं। खाड़ युद्ध कवर सीनियर रिपोर्टर वक्त एयर इंड में उच्च पद अफसर कह सच पर मान हैं। हालांक  स्क्र देख सब सच बेहद करीब है। बॉलिवुड की खबर फेसबुक पा लाइक Nbt Movies फिल्म की कह चार अहम किरदार इर्दगिर्द घूम है। चार मिल लीड किरदार स्क्र उतार है  अक्षय कुमार निभ है। फिल्म खाड़ युद्ध आधार है। जंग दौर कुव में फंस करीब लाख सत्तर हजार भारत नागरिक देश वापस लाए जा की घट डायरेक्टर अंदाज पेश है। किरदार पर्द उतार में फिल्म आजाद की जरूरत है  आजाद फिल्म डायरेक्टर राज मेनन ली है। देख  फिल्म ट्रेलर घट ज्याद असरदार ढंग पेश मकसद राज फिल्म सीन्स दुबई करीब चार घंट की दूर स्थ रसेल खेम में जा शूट किया। गुजरात भुज राजस्थ की आउटडोर लोकेशन फिल्म की अधिकांश शूटिंग की गई है। कह  रंजीत कात्याल  अक्षय कुमार   पत् अमृ कात्याल  निमरत कौर  प्यारीस बेट कुव में रह है। शहर नाम बिज़नसमैन है। खाड़ युद्ध छिड़ बुर बर्बाद कुव शहर में रह भारत नागरिक रंजीत परिवार फंस जा है। सरकार अधिकार हालात निपट विकल्प विचार में कुव रईस बिज़नसमैन रंजीत प्रभ रसूख फैमिल फंस भारत नागरिक वह निकाल मिशन स्टार्ट है। कुव में हालात खराब थे। भारत से डायरेक्ट में कतर रह थी। वक्त रंजीत दम दुन बड़ ऑपरेशन शुर फैसल किया। ऐक्टिंग  फिल्म में अक्षय कुमार बार किरदार पूर जीवंत दिख है। एयरलिफ्ट में अक्षय कुमार अब फिल्म करियर की बेहतर ऐक्टिंग की है। अक्षय स्क्र देश राष्ट्र ध्वज नजर आत  चेहर एक्सप्रेशन देख हॉल में बैठ दर्शक सीन बंध जा हैं। अक्षय की पत् किरदार में निमरत कौर अच्छ काम है। बाक कलाकार में पूरब कोहल  इनामुल हक कुमुद मिश्र बेहतर ऐक्टिंग की है। डायरेक्शन  राज मेनन स्क्रिप्ट न्याय है। डायरेक्टर की तारीफ कर होग उन्हों बॉक्स ऑफिस मोह त्याग कह किरदार पूर माहौल में समेट है। फिल्म लगभर हर ऐक्टर उन्हों बेहतर ऐक्टिंग कर है। वॉर सीन्स उन्हों पर्द पूर जीवंत दिख है। काम तारीफ काबिल है। संगीत  ऐस कह में गान की जरूरत  यह राज गान फिल्मांकन ढंग पेश है  कह माहौल अनुकूल है। क्य देख  अक्षय कुमार फिल्म करियर बेहतर किरदार में देख फिल्म देखें। अगर अच्छ मेसेज दे वाल फिल्म शौक  फिल्म फैमिल देख हैं। \n"
          ]
        }
      ]
    },
    {
      "cell_type": "markdown",
      "source": [
        "Now, further"
      ],
      "metadata": {
        "id": "L1kfjizDO5om"
      }
    },
    {
      "cell_type": "code",
      "source": [
        "data = d2\n",
        "data.head()"
      ],
      "metadata": {
        "colab": {
          "base_uri": "https://localhost:8080/",
          "height": 379
        },
        "id": "9awTyWHsOz4X",
        "outputId": "748c8eb4-f6d4-416d-f355-92d27f89123d"
      },
      "execution_count": null,
      "outputs": [
        {
          "output_type": "execute_result",
          "data": {
            "text/plain": [
              "                                                text  experience  \\\n",
              "0  चंद्रमोहन शर्मा को-प्रड्यूसर और लीड ऐक्टर अक्ष...           2   \n",
              "1  अगर आप इस फिल्म को देखने जा रहे हैं तो सबसे पह...           0   \n",
              "2  बॉलीवुड वाले चोरी-छिपे हॉलीवुड फिल्मों से कहान...           2   \n",
              "3  बैनर :\\nसंजय दत्त प्रोडक्शन्स प्रा.लि., रुपाली...           0   \n",
              "4  1959 में घटित चर्चित नानावटी कांड में एक क्राइ...           1   \n",
              "\n",
              "                                             cleaned  \\\n",
              "0  [चंद्रमोहन, शर्मा, कोप्रड्यूसर, लीड, ऐक्टर, अक...   \n",
              "1  [अगर, फिल्म, देखने, जान, लीजिए, बेशक, फिल्म, प...   \n",
              "2  [बॉलीवुड, चोरीछिपे, हॉलीवुड, फिल्मों, कहानियां...   \n",
              "3  [बैनर, , संजय, दत्त, प्रोडक्शन्स, प्रालि, , रु...   \n",
              "4  [1959, में, घटित, चर्चित, नानावटी, कांड, में, ...   \n",
              "\n",
              "                                             stemmed  \n",
              "0  चंद्रमोहन शर्म कोप्रड्यूसर लीड ऐक्टर अक्षय कुम...  \n",
              "1  अगर फिल्म देख जान लीज बेशक फिल्म प्रडूयसर कुमा...  \n",
              "2  बॉलीवुड चोरीछिप हॉलीवुड फिल्म कहान दृश्य चुर थ...  \n",
              "3  बैनर  संजय दत्त प्रोडक्शन्स प्राल  रुपाल ओम एं...  \n",
              "4  1959 में घट चर्च नानावट कांड में क्राइम थ्रिलर...  "
            ],
            "text/html": [
              "\n",
              "  <div id=\"df-384342a8-9e18-419d-8e2c-6c768e17bfb6\" class=\"colab-df-container\">\n",
              "    <div>\n",
              "<style scoped>\n",
              "    .dataframe tbody tr th:only-of-type {\n",
              "        vertical-align: middle;\n",
              "    }\n",
              "\n",
              "    .dataframe tbody tr th {\n",
              "        vertical-align: top;\n",
              "    }\n",
              "\n",
              "    .dataframe thead th {\n",
              "        text-align: right;\n",
              "    }\n",
              "</style>\n",
              "<table border=\"1\" class=\"dataframe\">\n",
              "  <thead>\n",
              "    <tr style=\"text-align: right;\">\n",
              "      <th></th>\n",
              "      <th>text</th>\n",
              "      <th>experience</th>\n",
              "      <th>cleaned</th>\n",
              "      <th>stemmed</th>\n",
              "    </tr>\n",
              "  </thead>\n",
              "  <tbody>\n",
              "    <tr>\n",
              "      <th>0</th>\n",
              "      <td>चंद्रमोहन शर्मा को-प्रड्यूसर और लीड ऐक्टर अक्ष...</td>\n",
              "      <td>2</td>\n",
              "      <td>[चंद्रमोहन, शर्मा, कोप्रड्यूसर, लीड, ऐक्टर, अक...</td>\n",
              "      <td>चंद्रमोहन शर्म कोप्रड्यूसर लीड ऐक्टर अक्षय कुम...</td>\n",
              "    </tr>\n",
              "    <tr>\n",
              "      <th>1</th>\n",
              "      <td>अगर आप इस फिल्म को देखने जा रहे हैं तो सबसे पह...</td>\n",
              "      <td>0</td>\n",
              "      <td>[अगर, फिल्म, देखने, जान, लीजिए, बेशक, फिल्म, प...</td>\n",
              "      <td>अगर फिल्म देख जान लीज बेशक फिल्म प्रडूयसर कुमा...</td>\n",
              "    </tr>\n",
              "    <tr>\n",
              "      <th>2</th>\n",
              "      <td>बॉलीवुड वाले चोरी-छिपे हॉलीवुड फिल्मों से कहान...</td>\n",
              "      <td>2</td>\n",
              "      <td>[बॉलीवुड, चोरीछिपे, हॉलीवुड, फिल्मों, कहानियां...</td>\n",
              "      <td>बॉलीवुड चोरीछिप हॉलीवुड फिल्म कहान दृश्य चुर थ...</td>\n",
              "    </tr>\n",
              "    <tr>\n",
              "      <th>3</th>\n",
              "      <td>बैनर :\\nसंजय दत्त प्रोडक्शन्स प्रा.लि., रुपाली...</td>\n",
              "      <td>0</td>\n",
              "      <td>[बैनर, , संजय, दत्त, प्रोडक्शन्स, प्रालि, , रु...</td>\n",
              "      <td>बैनर  संजय दत्त प्रोडक्शन्स प्राल  रुपाल ओम एं...</td>\n",
              "    </tr>\n",
              "    <tr>\n",
              "      <th>4</th>\n",
              "      <td>1959 में घटित चर्चित नानावटी कांड में एक क्राइ...</td>\n",
              "      <td>1</td>\n",
              "      <td>[1959, में, घटित, चर्चित, नानावटी, कांड, में, ...</td>\n",
              "      <td>1959 में घट चर्च नानावट कांड में क्राइम थ्रिलर...</td>\n",
              "    </tr>\n",
              "  </tbody>\n",
              "</table>\n",
              "</div>\n",
              "    <div class=\"colab-df-buttons\">\n",
              "\n",
              "  <div class=\"colab-df-container\">\n",
              "    <button class=\"colab-df-convert\" onclick=\"convertToInteractive('df-384342a8-9e18-419d-8e2c-6c768e17bfb6')\"\n",
              "            title=\"Convert this dataframe to an interactive table.\"\n",
              "            style=\"display:none;\">\n",
              "\n",
              "  <svg xmlns=\"http://www.w3.org/2000/svg\" height=\"24px\" viewBox=\"0 -960 960 960\">\n",
              "    <path d=\"M120-120v-720h720v720H120Zm60-500h600v-160H180v160Zm220 220h160v-160H400v160Zm0 220h160v-160H400v160ZM180-400h160v-160H180v160Zm440 0h160v-160H620v160ZM180-180h160v-160H180v160Zm440 0h160v-160H620v160Z\"/>\n",
              "  </svg>\n",
              "    </button>\n",
              "\n",
              "  <style>\n",
              "    .colab-df-container {\n",
              "      display:flex;\n",
              "      gap: 12px;\n",
              "    }\n",
              "\n",
              "    .colab-df-convert {\n",
              "      background-color: #E8F0FE;\n",
              "      border: none;\n",
              "      border-radius: 50%;\n",
              "      cursor: pointer;\n",
              "      display: none;\n",
              "      fill: #1967D2;\n",
              "      height: 32px;\n",
              "      padding: 0 0 0 0;\n",
              "      width: 32px;\n",
              "    }\n",
              "\n",
              "    .colab-df-convert:hover {\n",
              "      background-color: #E2EBFA;\n",
              "      box-shadow: 0px 1px 2px rgba(60, 64, 67, 0.3), 0px 1px 3px 1px rgba(60, 64, 67, 0.15);\n",
              "      fill: #174EA6;\n",
              "    }\n",
              "\n",
              "    .colab-df-buttons div {\n",
              "      margin-bottom: 4px;\n",
              "    }\n",
              "\n",
              "    [theme=dark] .colab-df-convert {\n",
              "      background-color: #3B4455;\n",
              "      fill: #D2E3FC;\n",
              "    }\n",
              "\n",
              "    [theme=dark] .colab-df-convert:hover {\n",
              "      background-color: #434B5C;\n",
              "      box-shadow: 0px 1px 3px 1px rgba(0, 0, 0, 0.15);\n",
              "      filter: drop-shadow(0px 1px 2px rgba(0, 0, 0, 0.3));\n",
              "      fill: #FFFFFF;\n",
              "    }\n",
              "  </style>\n",
              "\n",
              "    <script>\n",
              "      const buttonEl =\n",
              "        document.querySelector('#df-384342a8-9e18-419d-8e2c-6c768e17bfb6 button.colab-df-convert');\n",
              "      buttonEl.style.display =\n",
              "        google.colab.kernel.accessAllowed ? 'block' : 'none';\n",
              "\n",
              "      async function convertToInteractive(key) {\n",
              "        const element = document.querySelector('#df-384342a8-9e18-419d-8e2c-6c768e17bfb6');\n",
              "        const dataTable =\n",
              "          await google.colab.kernel.invokeFunction('convertToInteractive',\n",
              "                                                    [key], {});\n",
              "        if (!dataTable) return;\n",
              "\n",
              "        const docLinkHtml = 'Like what you see? Visit the ' +\n",
              "          '<a target=\"_blank\" href=https://colab.research.google.com/notebooks/data_table.ipynb>data table notebook</a>'\n",
              "          + ' to learn more about interactive tables.';\n",
              "        element.innerHTML = '';\n",
              "        dataTable['output_type'] = 'display_data';\n",
              "        await google.colab.output.renderOutput(dataTable, element);\n",
              "        const docLink = document.createElement('div');\n",
              "        docLink.innerHTML = docLinkHtml;\n",
              "        element.appendChild(docLink);\n",
              "      }\n",
              "    </script>\n",
              "  </div>\n",
              "\n",
              "\n",
              "<div id=\"df-44b334f3-5431-49e2-bcc4-62bc46a1c1c4\">\n",
              "  <button class=\"colab-df-quickchart\" onclick=\"quickchart('df-44b334f3-5431-49e2-bcc4-62bc46a1c1c4')\"\n",
              "            title=\"Suggest charts\"\n",
              "            style=\"display:none;\">\n",
              "\n",
              "<svg xmlns=\"http://www.w3.org/2000/svg\" height=\"24px\"viewBox=\"0 0 24 24\"\n",
              "     width=\"24px\">\n",
              "    <g>\n",
              "        <path d=\"M19 3H5c-1.1 0-2 .9-2 2v14c0 1.1.9 2 2 2h14c1.1 0 2-.9 2-2V5c0-1.1-.9-2-2-2zM9 17H7v-7h2v7zm4 0h-2V7h2v10zm4 0h-2v-4h2v4z\"/>\n",
              "    </g>\n",
              "</svg>\n",
              "  </button>\n",
              "\n",
              "<style>\n",
              "  .colab-df-quickchart {\n",
              "      --bg-color: #E8F0FE;\n",
              "      --fill-color: #1967D2;\n",
              "      --hover-bg-color: #E2EBFA;\n",
              "      --hover-fill-color: #174EA6;\n",
              "      --disabled-fill-color: #AAA;\n",
              "      --disabled-bg-color: #DDD;\n",
              "  }\n",
              "\n",
              "  [theme=dark] .colab-df-quickchart {\n",
              "      --bg-color: #3B4455;\n",
              "      --fill-color: #D2E3FC;\n",
              "      --hover-bg-color: #434B5C;\n",
              "      --hover-fill-color: #FFFFFF;\n",
              "      --disabled-bg-color: #3B4455;\n",
              "      --disabled-fill-color: #666;\n",
              "  }\n",
              "\n",
              "  .colab-df-quickchart {\n",
              "    background-color: var(--bg-color);\n",
              "    border: none;\n",
              "    border-radius: 50%;\n",
              "    cursor: pointer;\n",
              "    display: none;\n",
              "    fill: var(--fill-color);\n",
              "    height: 32px;\n",
              "    padding: 0;\n",
              "    width: 32px;\n",
              "  }\n",
              "\n",
              "  .colab-df-quickchart:hover {\n",
              "    background-color: var(--hover-bg-color);\n",
              "    box-shadow: 0 1px 2px rgba(60, 64, 67, 0.3), 0 1px 3px 1px rgba(60, 64, 67, 0.15);\n",
              "    fill: var(--button-hover-fill-color);\n",
              "  }\n",
              "\n",
              "  .colab-df-quickchart-complete:disabled,\n",
              "  .colab-df-quickchart-complete:disabled:hover {\n",
              "    background-color: var(--disabled-bg-color);\n",
              "    fill: var(--disabled-fill-color);\n",
              "    box-shadow: none;\n",
              "  }\n",
              "\n",
              "  .colab-df-spinner {\n",
              "    border: 2px solid var(--fill-color);\n",
              "    border-color: transparent;\n",
              "    border-bottom-color: var(--fill-color);\n",
              "    animation:\n",
              "      spin 1s steps(1) infinite;\n",
              "  }\n",
              "\n",
              "  @keyframes spin {\n",
              "    0% {\n",
              "      border-color: transparent;\n",
              "      border-bottom-color: var(--fill-color);\n",
              "      border-left-color: var(--fill-color);\n",
              "    }\n",
              "    20% {\n",
              "      border-color: transparent;\n",
              "      border-left-color: var(--fill-color);\n",
              "      border-top-color: var(--fill-color);\n",
              "    }\n",
              "    30% {\n",
              "      border-color: transparent;\n",
              "      border-left-color: var(--fill-color);\n",
              "      border-top-color: var(--fill-color);\n",
              "      border-right-color: var(--fill-color);\n",
              "    }\n",
              "    40% {\n",
              "      border-color: transparent;\n",
              "      border-right-color: var(--fill-color);\n",
              "      border-top-color: var(--fill-color);\n",
              "    }\n",
              "    60% {\n",
              "      border-color: transparent;\n",
              "      border-right-color: var(--fill-color);\n",
              "    }\n",
              "    80% {\n",
              "      border-color: transparent;\n",
              "      border-right-color: var(--fill-color);\n",
              "      border-bottom-color: var(--fill-color);\n",
              "    }\n",
              "    90% {\n",
              "      border-color: transparent;\n",
              "      border-bottom-color: var(--fill-color);\n",
              "    }\n",
              "  }\n",
              "</style>\n",
              "\n",
              "  <script>\n",
              "    async function quickchart(key) {\n",
              "      const quickchartButtonEl =\n",
              "        document.querySelector('#' + key + ' button');\n",
              "      quickchartButtonEl.disabled = true;  // To prevent multiple clicks.\n",
              "      quickchartButtonEl.classList.add('colab-df-spinner');\n",
              "      try {\n",
              "        const charts = await google.colab.kernel.invokeFunction(\n",
              "            'suggestCharts', [key], {});\n",
              "      } catch (error) {\n",
              "        console.error('Error during call to suggestCharts:', error);\n",
              "      }\n",
              "      quickchartButtonEl.classList.remove('colab-df-spinner');\n",
              "      quickchartButtonEl.classList.add('colab-df-quickchart-complete');\n",
              "    }\n",
              "    (() => {\n",
              "      let quickchartButtonEl =\n",
              "        document.querySelector('#df-44b334f3-5431-49e2-bcc4-62bc46a1c1c4 button');\n",
              "      quickchartButtonEl.style.display =\n",
              "        google.colab.kernel.accessAllowed ? 'block' : 'none';\n",
              "    })();\n",
              "  </script>\n",
              "</div>\n",
              "\n",
              "    </div>\n",
              "  </div>\n"
            ],
            "application/vnd.google.colaboratory.intrinsic+json": {
              "type": "dataframe",
              "variable_name": "data",
              "repr_error": "unhashable type: 'list'"
            }
          },
          "metadata": {},
          "execution_count": 24
        }
      ]
    },
    {
      "cell_type": "code",
      "source": [
        "data = data.drop( ['text' , 'cleaned'], axis =1)\n",
        "#data = data.drop( ['text' , 'cleaned' , 'cleaned_joined'], axis =1)"
      ],
      "metadata": {
        "id": "tZjjVeqEO8CT"
      },
      "execution_count": null,
      "outputs": []
    },
    {
      "cell_type": "code",
      "source": [
        "data.head()"
      ],
      "metadata": {
        "colab": {
          "base_uri": "https://localhost:8080/",
          "height": 206
        },
        "id": "X0SInLvrPLH_",
        "outputId": "ff30a4e4-b21e-4ae2-e420-6b09c668e403"
      },
      "execution_count": null,
      "outputs": [
        {
          "output_type": "execute_result",
          "data": {
            "text/plain": [
              "   experience                                            stemmed\n",
              "0           2  चंद्रमोहन शर्म कोप्रड्यूसर लीड ऐक्टर अक्षय कुम...\n",
              "1           0  अगर फिल्म देख जान लीज बेशक फिल्म प्रडूयसर कुमा...\n",
              "2           2  बॉलीवुड चोरीछिप हॉलीवुड फिल्म कहान दृश्य चुर थ...\n",
              "3           0  बैनर  संजय दत्त प्रोडक्शन्स प्राल  रुपाल ओम एं...\n",
              "4           1  1959 में घट चर्च नानावट कांड में क्राइम थ्रिलर..."
            ],
            "text/html": [
              "\n",
              "  <div id=\"df-cac91253-72d0-4de6-aeae-b3f54c1ab0a5\" class=\"colab-df-container\">\n",
              "    <div>\n",
              "<style scoped>\n",
              "    .dataframe tbody tr th:only-of-type {\n",
              "        vertical-align: middle;\n",
              "    }\n",
              "\n",
              "    .dataframe tbody tr th {\n",
              "        vertical-align: top;\n",
              "    }\n",
              "\n",
              "    .dataframe thead th {\n",
              "        text-align: right;\n",
              "    }\n",
              "</style>\n",
              "<table border=\"1\" class=\"dataframe\">\n",
              "  <thead>\n",
              "    <tr style=\"text-align: right;\">\n",
              "      <th></th>\n",
              "      <th>experience</th>\n",
              "      <th>stemmed</th>\n",
              "    </tr>\n",
              "  </thead>\n",
              "  <tbody>\n",
              "    <tr>\n",
              "      <th>0</th>\n",
              "      <td>2</td>\n",
              "      <td>चंद्रमोहन शर्म कोप्रड्यूसर लीड ऐक्टर अक्षय कुम...</td>\n",
              "    </tr>\n",
              "    <tr>\n",
              "      <th>1</th>\n",
              "      <td>0</td>\n",
              "      <td>अगर फिल्म देख जान लीज बेशक फिल्म प्रडूयसर कुमा...</td>\n",
              "    </tr>\n",
              "    <tr>\n",
              "      <th>2</th>\n",
              "      <td>2</td>\n",
              "      <td>बॉलीवुड चोरीछिप हॉलीवुड फिल्म कहान दृश्य चुर थ...</td>\n",
              "    </tr>\n",
              "    <tr>\n",
              "      <th>3</th>\n",
              "      <td>0</td>\n",
              "      <td>बैनर  संजय दत्त प्रोडक्शन्स प्राल  रुपाल ओम एं...</td>\n",
              "    </tr>\n",
              "    <tr>\n",
              "      <th>4</th>\n",
              "      <td>1</td>\n",
              "      <td>1959 में घट चर्च नानावट कांड में क्राइम थ्रिलर...</td>\n",
              "    </tr>\n",
              "  </tbody>\n",
              "</table>\n",
              "</div>\n",
              "    <div class=\"colab-df-buttons\">\n",
              "\n",
              "  <div class=\"colab-df-container\">\n",
              "    <button class=\"colab-df-convert\" onclick=\"convertToInteractive('df-cac91253-72d0-4de6-aeae-b3f54c1ab0a5')\"\n",
              "            title=\"Convert this dataframe to an interactive table.\"\n",
              "            style=\"display:none;\">\n",
              "\n",
              "  <svg xmlns=\"http://www.w3.org/2000/svg\" height=\"24px\" viewBox=\"0 -960 960 960\">\n",
              "    <path d=\"M120-120v-720h720v720H120Zm60-500h600v-160H180v160Zm220 220h160v-160H400v160Zm0 220h160v-160H400v160ZM180-400h160v-160H180v160Zm440 0h160v-160H620v160ZM180-180h160v-160H180v160Zm440 0h160v-160H620v160Z\"/>\n",
              "  </svg>\n",
              "    </button>\n",
              "\n",
              "  <style>\n",
              "    .colab-df-container {\n",
              "      display:flex;\n",
              "      gap: 12px;\n",
              "    }\n",
              "\n",
              "    .colab-df-convert {\n",
              "      background-color: #E8F0FE;\n",
              "      border: none;\n",
              "      border-radius: 50%;\n",
              "      cursor: pointer;\n",
              "      display: none;\n",
              "      fill: #1967D2;\n",
              "      height: 32px;\n",
              "      padding: 0 0 0 0;\n",
              "      width: 32px;\n",
              "    }\n",
              "\n",
              "    .colab-df-convert:hover {\n",
              "      background-color: #E2EBFA;\n",
              "      box-shadow: 0px 1px 2px rgba(60, 64, 67, 0.3), 0px 1px 3px 1px rgba(60, 64, 67, 0.15);\n",
              "      fill: #174EA6;\n",
              "    }\n",
              "\n",
              "    .colab-df-buttons div {\n",
              "      margin-bottom: 4px;\n",
              "    }\n",
              "\n",
              "    [theme=dark] .colab-df-convert {\n",
              "      background-color: #3B4455;\n",
              "      fill: #D2E3FC;\n",
              "    }\n",
              "\n",
              "    [theme=dark] .colab-df-convert:hover {\n",
              "      background-color: #434B5C;\n",
              "      box-shadow: 0px 1px 3px 1px rgba(0, 0, 0, 0.15);\n",
              "      filter: drop-shadow(0px 1px 2px rgba(0, 0, 0, 0.3));\n",
              "      fill: #FFFFFF;\n",
              "    }\n",
              "  </style>\n",
              "\n",
              "    <script>\n",
              "      const buttonEl =\n",
              "        document.querySelector('#df-cac91253-72d0-4de6-aeae-b3f54c1ab0a5 button.colab-df-convert');\n",
              "      buttonEl.style.display =\n",
              "        google.colab.kernel.accessAllowed ? 'block' : 'none';\n",
              "\n",
              "      async function convertToInteractive(key) {\n",
              "        const element = document.querySelector('#df-cac91253-72d0-4de6-aeae-b3f54c1ab0a5');\n",
              "        const dataTable =\n",
              "          await google.colab.kernel.invokeFunction('convertToInteractive',\n",
              "                                                    [key], {});\n",
              "        if (!dataTable) return;\n",
              "\n",
              "        const docLinkHtml = 'Like what you see? Visit the ' +\n",
              "          '<a target=\"_blank\" href=https://colab.research.google.com/notebooks/data_table.ipynb>data table notebook</a>'\n",
              "          + ' to learn more about interactive tables.';\n",
              "        element.innerHTML = '';\n",
              "        dataTable['output_type'] = 'display_data';\n",
              "        await google.colab.output.renderOutput(dataTable, element);\n",
              "        const docLink = document.createElement('div');\n",
              "        docLink.innerHTML = docLinkHtml;\n",
              "        element.appendChild(docLink);\n",
              "      }\n",
              "    </script>\n",
              "  </div>\n",
              "\n",
              "\n",
              "<div id=\"df-eee3d949-b71c-498c-aeb5-aa2f13b4b064\">\n",
              "  <button class=\"colab-df-quickchart\" onclick=\"quickchart('df-eee3d949-b71c-498c-aeb5-aa2f13b4b064')\"\n",
              "            title=\"Suggest charts\"\n",
              "            style=\"display:none;\">\n",
              "\n",
              "<svg xmlns=\"http://www.w3.org/2000/svg\" height=\"24px\"viewBox=\"0 0 24 24\"\n",
              "     width=\"24px\">\n",
              "    <g>\n",
              "        <path d=\"M19 3H5c-1.1 0-2 .9-2 2v14c0 1.1.9 2 2 2h14c1.1 0 2-.9 2-2V5c0-1.1-.9-2-2-2zM9 17H7v-7h2v7zm4 0h-2V7h2v10zm4 0h-2v-4h2v4z\"/>\n",
              "    </g>\n",
              "</svg>\n",
              "  </button>\n",
              "\n",
              "<style>\n",
              "  .colab-df-quickchart {\n",
              "      --bg-color: #E8F0FE;\n",
              "      --fill-color: #1967D2;\n",
              "      --hover-bg-color: #E2EBFA;\n",
              "      --hover-fill-color: #174EA6;\n",
              "      --disabled-fill-color: #AAA;\n",
              "      --disabled-bg-color: #DDD;\n",
              "  }\n",
              "\n",
              "  [theme=dark] .colab-df-quickchart {\n",
              "      --bg-color: #3B4455;\n",
              "      --fill-color: #D2E3FC;\n",
              "      --hover-bg-color: #434B5C;\n",
              "      --hover-fill-color: #FFFFFF;\n",
              "      --disabled-bg-color: #3B4455;\n",
              "      --disabled-fill-color: #666;\n",
              "  }\n",
              "\n",
              "  .colab-df-quickchart {\n",
              "    background-color: var(--bg-color);\n",
              "    border: none;\n",
              "    border-radius: 50%;\n",
              "    cursor: pointer;\n",
              "    display: none;\n",
              "    fill: var(--fill-color);\n",
              "    height: 32px;\n",
              "    padding: 0;\n",
              "    width: 32px;\n",
              "  }\n",
              "\n",
              "  .colab-df-quickchart:hover {\n",
              "    background-color: var(--hover-bg-color);\n",
              "    box-shadow: 0 1px 2px rgba(60, 64, 67, 0.3), 0 1px 3px 1px rgba(60, 64, 67, 0.15);\n",
              "    fill: var(--button-hover-fill-color);\n",
              "  }\n",
              "\n",
              "  .colab-df-quickchart-complete:disabled,\n",
              "  .colab-df-quickchart-complete:disabled:hover {\n",
              "    background-color: var(--disabled-bg-color);\n",
              "    fill: var(--disabled-fill-color);\n",
              "    box-shadow: none;\n",
              "  }\n",
              "\n",
              "  .colab-df-spinner {\n",
              "    border: 2px solid var(--fill-color);\n",
              "    border-color: transparent;\n",
              "    border-bottom-color: var(--fill-color);\n",
              "    animation:\n",
              "      spin 1s steps(1) infinite;\n",
              "  }\n",
              "\n",
              "  @keyframes spin {\n",
              "    0% {\n",
              "      border-color: transparent;\n",
              "      border-bottom-color: var(--fill-color);\n",
              "      border-left-color: var(--fill-color);\n",
              "    }\n",
              "    20% {\n",
              "      border-color: transparent;\n",
              "      border-left-color: var(--fill-color);\n",
              "      border-top-color: var(--fill-color);\n",
              "    }\n",
              "    30% {\n",
              "      border-color: transparent;\n",
              "      border-left-color: var(--fill-color);\n",
              "      border-top-color: var(--fill-color);\n",
              "      border-right-color: var(--fill-color);\n",
              "    }\n",
              "    40% {\n",
              "      border-color: transparent;\n",
              "      border-right-color: var(--fill-color);\n",
              "      border-top-color: var(--fill-color);\n",
              "    }\n",
              "    60% {\n",
              "      border-color: transparent;\n",
              "      border-right-color: var(--fill-color);\n",
              "    }\n",
              "    80% {\n",
              "      border-color: transparent;\n",
              "      border-right-color: var(--fill-color);\n",
              "      border-bottom-color: var(--fill-color);\n",
              "    }\n",
              "    90% {\n",
              "      border-color: transparent;\n",
              "      border-bottom-color: var(--fill-color);\n",
              "    }\n",
              "  }\n",
              "</style>\n",
              "\n",
              "  <script>\n",
              "    async function quickchart(key) {\n",
              "      const quickchartButtonEl =\n",
              "        document.querySelector('#' + key + ' button');\n",
              "      quickchartButtonEl.disabled = true;  // To prevent multiple clicks.\n",
              "      quickchartButtonEl.classList.add('colab-df-spinner');\n",
              "      try {\n",
              "        const charts = await google.colab.kernel.invokeFunction(\n",
              "            'suggestCharts', [key], {});\n",
              "      } catch (error) {\n",
              "        console.error('Error during call to suggestCharts:', error);\n",
              "      }\n",
              "      quickchartButtonEl.classList.remove('colab-df-spinner');\n",
              "      quickchartButtonEl.classList.add('colab-df-quickchart-complete');\n",
              "    }\n",
              "    (() => {\n",
              "      let quickchartButtonEl =\n",
              "        document.querySelector('#df-eee3d949-b71c-498c-aeb5-aa2f13b4b064 button');\n",
              "      quickchartButtonEl.style.display =\n",
              "        google.colab.kernel.accessAllowed ? 'block' : 'none';\n",
              "    })();\n",
              "  </script>\n",
              "</div>\n",
              "\n",
              "    </div>\n",
              "  </div>\n"
            ],
            "application/vnd.google.colaboratory.intrinsic+json": {
              "type": "dataframe",
              "variable_name": "data",
              "summary": "{\n  \"name\": \"data\",\n  \"rows\": 718,\n  \"fields\": [\n    {\n      \"column\": \"experience\",\n      \"properties\": {\n        \"dtype\": \"number\",\n        \"std\": 0,\n        \"min\": 0,\n        \"max\": 2,\n        \"samples\": [\n          2,\n          0,\n          1\n        ],\n        \"num_unique_values\": 3,\n        \"semantic_type\": \"\",\n        \"description\": \"\"\n      }\n    },\n    {\n      \"column\": \"stemmed\",\n      \"properties\": {\n        \"dtype\": \"string\",\n        \"samples\": [\n          \"\\u092c\\u0949\\u0932\\u093f\\u0935\\u0941\\u0921 \\u092e\\u0947\\u0902 \\u0906\\u091c\\u0915\\u0932 \\u0939\\u0949\\u0930\\u0930 \\u092b\\u093f\\u0932\\u094d\\u092e \\u0928\\u093e\\u092e \\u0938\\u093f\\u0930\\u094d\\u092b 1920 \\u0938\\u0940\\u0930\\u0940\\u091c \\u0915\\u0940 \\u092b\\u093f\\u0932\\u094d\\u092e \\u0906\\u0924 \\u0939\\u0948\\u0902\\u0964 \\u092e\\u0947\\u0902 \\u092d\\u093e\\u0930\\u0924 \\u0926\\u0930\\u094d\\u0936\\u0915 \\u092a\\u093e\\u0938 \\u0939\\u0949\\u0930\\u0930 \\u092b\\u093f\\u0932\\u094d\\u092e \\u0928\\u093e\\u092e \\u0938\\u093f\\u0930\\u094d\\u092b \\u0939\\u0949\\u0932\\u093f\\u0935\\u0941\\u0921 \\u0915\\u0940 \\u0939\\u0949\\u0930\\u0930 \\u092b\\u093f\\u0932\\u094d\\u092e \\u0926\\u0947\\u0916 \\u0911\\u092a\\u094d\\u0936\\u0928 \\u0939\\u0948\\u0964 \\u092c\\u0947\\u0936\\u0915 \\u0935\\u0939 \\u0936\\u0948\\u0924 \\u091c\\u0941\\u095c \\u0922\\u0947\\u0930 \\u0915\\u093f\\u0938\\u094d\\u0938  \\u0939\\u0949\\u0932\\u093f\\u0935\\u0941\\u0921 \\u0928\\u093f\\u0930\\u094d\\u092e \\u0905\\u0915\\u094d\\u0938\\u0930 \\u092b\\u093f\\u0932\\u094d\\u092e \\u092c\\u0928 \\u0930\\u0939 \\u0939\\u0948\\u0902\\u0964 \\u0939\\u0949\\u0932\\u093f\\u0935\\u0941\\u0921 \\u0915\\u0940 \\u091a\\u0930\\u094d\\u091a \\u0939\\u0949\\u0930\\u0930 \\u092b\\u093f\\u0932\\u094d\\u092e \\u092e\\u0947\\u0902 \\u0915\\u0902\\u091c\\u094d\\u092f\\u0942\\u0930\\u093f\\u0902\\u0917 \\u0938\\u0940\\u0930\\u0940\\u091c\\u093c \\u0915\\u0940 \\u092b\\u093f\\u0932\\u094d\\u092e \\u0926\\u0930\\u094d\\u0936\\u0915 \\u0915\\u093e\\u092b \\u092a\\u0938\\u0902\\u0926 \\u0939\\u0948\\u0964  \\u0926 \\u0928\\u0928  \\u0915\\u0902\\u091c\\u094d\\u092f\\u0942\\u0930\\u093f\\u0902\\u0917 \\u0938\\u0940\\u0930\\u0940\\u091c\\u093c \\u0915\\u0940 \\u0905\\u0917\\u0932 \\u092b\\u093f\\u0932\\u094d\\u092e \\u0939\\u0948  \\u0938\\u0940\\u0930\\u0940\\u091c \\u0959\\u094c\\u092b \\u0915\\u093f\\u0938\\u094d\\u0938 \\u092c\\u0924 \\u0939\\u0948\\u0964 \\u092b\\u093f\\u0932\\u094d\\u092e \\u0915\\u094d\\u0930\\u0947\\u091c \\u0906\\u0907\\u0921 \\u092c\\u093e\\u0924 \\u0932\\u0917 \\u0939\\u0948  \\u0926 \\u0928\\u0928  \\u0938\\u0941\\u092c\\u0939 \\u0936\\u094b \\u0939\\u093e\\u0909\\u0938\\u092b\\u0941\\u0932 \\u0925\\u093e\\u0964\\u0907\\u0938 \\u092b\\u093f\\u0932\\u094d\\u092e \\u0915\\u0940 \\u0915\\u0939 \\u0915\\u0940 \\u0936\\u0941\\u0930\\u0941\\u0906\\u0924 1952 \\u092e\\u0947\\u0902 \\u0930\\u094b\\u092e\\u093e\\u0928 \\u0938\\u0948\\u0902\\u091f \\u0915\\u093e\\u0930\\u094d\\u091f \\u092e\\u0947\\u0902 \\u0910\\u092c  \\u0910\\u0938 \\u091c\\u0917\\u0939 \\u091c\\u0939 \\u0928\\u0928 \\u0930\\u0939  \\u0925\\u0940\\u0964 \\u092e\\u093e \\u091c\\u093e \\u0939\\u0948 \\u0910\\u092c \\u0926\\u0930\\u0935\\u093e\\u091c \\u092e\\u0947\\u0902 \\u0936\\u0948\\u0924 \\u0930\\u0939 \\u0939\\u0948 \\u0909\\u0938\\u0938 \\u0906\\u0917 \\u0917\\u0949\\u0921 \\u0930\\u093e\\u091c \\u0939\\u0948\\u0964 \\u0935\\u091c\\u0939 \\u0906\\u0938\\u092a\\u093e\\u0938 \\u0932\\u094b\\u0917 \\u0909\\u0938\\u0938 \\u0926\\u0942\\u0930 \\u0930\\u0939 \\u0939\\u0948\\u0902\\u0964 \\u0926\\u093f\\u0928 \\u0928\\u0928 \\u0926\\u0930\\u0935\\u093e\\u091c \\u0917\\u0908 \\u0936\\u0948\\u0924 \\u0939\\u093e\\u0925 \\u092e\\u093e\\u0930 \\u0917\\u0908  \\u091c\\u092c\\u0915 \\u0926\\u0942\\u0938\\u0930 \\u0928\\u0928 \\u0936\\u0948\\u0924 \\u092c\\u091a \\u0915\\u0940 \\u0917\\u0908 \\u092a\\u094d\\u0932\\u093e\\u0928\\u093f\\u0902\\u0917 \\u0924\\u0939\\u0924 \\u092b\\u093e\\u0902\\u0938 \\u0932\\u0917 \\u0932\\u0940\\u0964 \\u0909\\u0938\\u0915 \\u0932\\u093e\\u0936 \\u0935\\u0939 \\u0938\\u092c\\u094d\\u091c \\u0932\\u093e \\u0906\\u0926\\u092e \\u092e\\u094b\\u0930\\u093f\\u0938 \\u092e\\u093f\\u0932\\u0940\\u0964 \\u0916\\u092c\\u0930 \\u092b\\u0948\\u0932  \\u0935\\u0948\\u091f\\u093f\\u0915\\u0928 \\u091c\\u093e\\u0902\\u091a \\u0926\\u0932 \\u0917\\u0920 \\u0915\\u093f\\u092f\\u093e\\u0964 \\u0909\\u0938\\u092e \\u092a\\u093e\\u0926\\u0930 \\u092b\\u093e\\u0926\\u0930 \\u090f\\u0902\\u0925 \\u092c\\u0941\\u0930\\u094d\\u0915  \\u0921\\u0947\\u092e\\u093f\\u092f\\u0928 \\u092c\\u093f\\u0939\\u093f\\u0930  \\u0928\\u0928 \\u0938\\u093f\\u0938\\u094d\\u091f\\u0930 \\u0907\\u0930  \\u091f\\u0947\\u0938 \\u092b\\u093e\\u0930\\u094d\\u092e\\u093f\\u0917  \\u091c\\u093f\\u0938 \\u0936\\u092a\\u0925 \\u0932\\u0940  \\u0930\\u094b\\u092e\\u093e\\u0928 \\u092d\\u0947\\u091c\\u093e\\u0964 \\u0926\\u094b\\u0928 \\u0938\\u092c\\u094d\\u091c \\u0935\\u0939 \\u091c\\u093e \\u0939\\u0948\\u0902\\u0964 \\u092b\\u093e\\u0926\\u0930 \\u090f\\u0902\\u0925 \\u092a\\u093e\\u0926\\u0930  \\u0905\\u0915\\u094d\\u0938\\u0930 \\u0910\\u0938 \\u0918\\u091f \\u0915\\u0940 \\u091c\\u093e\\u0902\\u091a \\u0939\\u0948\\u0902\\u0964 \\u0935\\u0939 \\u0926\\u094b\\u0928 \\u0905\\u091c\\u0940\\u092c\\u0905\\u091c\\u0940\\u092c \\u0918\\u091f  \\u0939\\u093f\\u092e\\u094d\\u092e\\u0924 \\u0939\\u093e\\u0930 \\u0930\\u0939\\u0938\\u094d\\u092f\\u092e\\u092f \\u0910\\u092c \\u091c\\u0941\\u095c \\u0930\\u0939\\u0938\\u094d\\u092f \\u0916\\u0941\\u0932\\u093e\\u0938 \\u092b\\u0948\\u0938\\u0932 \\u0939\\u0948\\u0902\\u0964 \\u0938\\u092c\\u094d\\u091c \\u092c\\u0947\\u091a \\u0935\\u093e\\u0932 \\u092e\\u094b\\u0930\\u093f\\u0938 \\u0926\\u094b\\u0928 \\u0926\\u0947 \\u092b\\u0948\\u0938\\u0932 \\u0939\\u0948\\u0964 \\u0915\\u094d \\u092b\\u093e\\u0926\\u0930 \\u0938\\u093f\\u0938\\u094d\\u091f\\u0930 \\u0910\\u092c \\u0936\\u0948\\u0924 \\u0915\\u093e\\u092c \\u092a\\u093e  \\u0906\\u0916\\u093f\\u0930 \\u0959\\u094c\\u092b \\u0910\\u092c \\u0930\\u093e\\u091c \\u0915\\u094d \\u0939\\u0948  \\u0959\\u094c\\u092b \\u0938\\u0935\\u093e\\u0932 \\u091c\\u0935\\u093e\\u092c \\u0906\\u092a\\u0915 \\u0925\\u093f\\u0905\\u091f\\u0930 \\u091c\\u093e \\u092e\\u093f\\u0932 \\u092a\\u093e\\u090f\\u0917\\u093e\\u0964\\u0939\\u0949\\u0932\\u093f\\u0935\\u0941\\u0921 \\u0915\\u0940 \\u0924\\u092e\\u093e\\u092e \\u0939\\u0949\\u0930\\u0930 \\u092b\\u093f\\u0932\\u094d\\u092e \\u0915\\u0940 \\u092b\\u093f\\u0932\\u094d\\u092e \\u092e\\u0947\\u0902 \\u0936\\u0948\\u0924 \\u091a\\u0930\\u094d\\u091a \\u0915\\u0940 \\u091c\\u0902\\u0917 \\u0926\\u093f\\u0916 \\u0917\\u0908 \\u0939\\u0948\\u0964 \\u0939\\u093e\\u0932\\u093e\\u0902\\u0915  \\u092c\\u093e\\u0930 \\u091a\\u0930\\u094d\\u091a \\u0915\\u0940 \\u0913\\u0930 \\u092e\\u094b\\u0930\\u094d\\u091a \\u092a\\u093e\\u0926\\u0930 \\u0915\\u0940 \\u092c\\u091c\\u093e\\u092f \\u0928\\u0928 \\u0938\\u0902\\u092d\\u093e\\u0932 \\u0939\\u0948\\u0964 \\u0938\\u093f\\u0938\\u094d\\u091f\\u0930 \\u0907\\u0930 \\u0930\\u094b\\u0932 \\u092e\\u0947\\u0902 \\u091f\\u0947\\u0938 \\u092b\\u093e\\u0930\\u094d\\u092e\\u093f\\u0917 \\u0905\\u091a\\u094d\\u091b \\u0910\\u0915\\u094d\\u091f\\u093f\\u0902\\u0917 \\u0915\\u0940 \\u0939\\u0948\\u0964 \\u0916\\u093e\\u0938 \\u0936\\u0948\\u0924 \\u0932\\u095c \\u0938\\u0940\\u0928 \\u092e\\u0947\\u0902 \\u091c\\u094b\\u0930\\u0926\\u093e\\u0930 \\u0932\\u0917 \\u0939\\u0948\\u0902\\u0964 \\u0921\\u0947\\u092e\\u093f\\u092f\\u0928 \\u0920\\u0940\\u0915\\u0920\\u093e\\u0915 \\u0910\\u0915\\u094d\\u091f\\u093f\\u0902\\u0917 \\u0915\\u0940 \\u0939\\u0948\\u0964 \\u0909\\u0927\\u0930 \\u092e\\u094b\\u0930\\u093f\\u0938 \\u0930\\u094b\\u0932 \\u092e\\u0947\\u0902 \\u091c\\u094b\\u0928\\u0938 \\u0926\\u0930\\u094d\\u0936\\u0915 \\u092e\\u0928\\u094b\\u0930\\u0902\\u091c\\u0928 \\u0939\\u0948\\u0902\\u0964 \\u092b\\u093f\\u0932\\u094d\\u092e \\u0915\\u0940 \\u0936\\u0942\\u091f\\u093f\\u0902\\u0917 \\u0915\\u0939 \\u0915\\u0940 \\u0921\\u093f\\u092e\\u093e\\u0902\\u0921 \\u092e\\u0941\\u0924\\u093e\\u092c\\u093f\\u0915 \\u0921\\u0930\\u093e\\u0935 \\u0932\\u094b\\u0915\\u0947\\u0936\\u0928 \\u0915\\u0940 \\u0917\\u0908 \\u0939\\u0948\\u0964 \\u0939\\u0949\\u0930\\u0930 \\u092b\\u093f\\u0932\\u094d\\u092e \\u092e\\u0947\\u0902 \\u092c\\u0948\\u0915\\u0917\\u094d\\u0930\\u093e\\u0909\\u0902\\u0921 \\u0938\\u094d\\u0915\\u094b\\u0930 \\u092e\\u0939\\u0924\\u094d\\u0935\\u092a\\u0942\\u0930\\u094d\\u0923 \\u0939\\u0948\\u0964 \\u092b\\u093f\\u0932\\u094d\\u092e \\u092e\\u0947\\u0902 \\u0936\\u0948\\u0924 \\u091c\\u0902\\u0917 \\u0938\\u0940\\u0928 \\u0906\\u092a\\u0915 \\u0916\\u093e\\u0938 \\u0921\\u0930\\u093e\\u0935 \\u0932\\u0917 \\u0939\\u0948\\u0902\\u0964 \\u0916\\u094c\\u092b \\u0910\\u092c \\u0938\\u0940\\u0928 \\u0916\\u0924\\u0930 \\u0939\\u0948\\u0902\\u0964 \\u0905\\u0917\\u0930 \\u0906\\u092a\\u0915 \\u0939\\u0949\\u0930\\u0930 \\u092b\\u093f\\u0932\\u094d\\u092e \\u0926\\u0947\\u0916 \\u092a\\u0938\\u0902\\u0926 \\u0939\\u0948  \\u0906\\u092a\\u0915 \\u0928\\u0928 \\u091c\\u0930\\u0942\\u0930 \\u092e\\u0941\\u0932\\u093e\\u0915\\u093e\\u0924 \\u0915\\u0930 \\u091a\\u093e\\u0939\\u093f\\u090f\\u0964 \",\n          \"\\u092c\\u0948\\u0902\\u0921 \\u091c\\u094b\\u0921\\u093c \\u0939\\u0948 \\u091c\\u0947\\u0932 \\u0938\\u0947\\u0964 \\u091c\\u0939 \\u092a\\u094d\\u0930\\u0924\\u093f\\u092f\\u094b\\u0917 \\u0932\\u0916\\u0928\\u090a \\u0938\\u0947\\u0902\\u091f\\u094d\\u0930\\u0932 \\u091c\\u0947\\u0932 \\u092c\\u0948\\u0902\\u0921 \\u0924\\u0948\\u092f\\u093e\\u0930 \\u0939\\u0948 \\u091c\\u093f\\u0938\\u092e \\u0915\\u0948\\u0926 \\u092a\\u0930\\u092b\\u0949\\u0930\\u094d\\u092e \\u0939\\u0948\\u0902\\u0964 \\u0915\\u0948\\u0926 \\u092a\\u094d\\u0932 \\u0939\\u0948 \\u0924\\u0948\\u092f\\u093e\\u0930 \\u0915\\u0940 \\u0906\\u0921\\u093c \\u092e\\u0947\\u0902 \\u091c\\u0947\\u0932 \\u092d\\u093e\\u0917 \\u0928\\u093f \\u091c\\u093e\\u090f\\u0964 \\u0939\\u0924\\u094d \\u0906\\u0930\\u094b\\u092a \\u092e\\u0947\\u0902 \\u0915\\u093f\\u0936\\u0928 \\u0932\\u0916\\u0928\\u090a \\u0938\\u0947\\u0902\\u091f\\u094d\\u0930\\u0932 \\u091c\\u0947\\u0932 \\u092e\\u0947\\u0902 \\u0938\\u091c \\u0915\\u093e\\u091f \\u0939\\u0948 \\u0935\\u0939 \\u092c\\u0948\\u0902\\u0921 \\u092c\\u0928 \\u0939\\u0948\\u0964 \\u092c\\u0948\\u0902\\u0921 \\u092e\\u0947\\u0902 \\u0926\\u093f\\u0915\\u094d\\u0915\\u0924 \\u0905\\u0902\\u0938\\u093e\\u0930  \\u0935\\u093f\\u0915\\u094d\\u091f\\u0930 \\u091a\\u091f\\u094b\\u092a\\u093e\\u0927\\u094d\\u092f\\u093e\\u092f  \\u092a\\u0941\\u0930\\u0941\\u0937\\u094b\\u0924\\u094d\\u0924\\u092e \\u092a\\u0902\\u0921 \\u092a\\u0930\\u092e\\u093f\\u0902\\u0926\\u0930 \\u0936\\u093e\\u092e\\u093f\\u0932 \\u0939\\u0948\\u0902\\u0964 \\u092a\\u094d\\u0932\\u093e\\u0928\\u093f\\u0902\\u0917  \\u0915\\u094d \\u091c\\u0947\\u0932 \\u092d\\u093e\\u0917 \\u0928\\u093f\\u0915\\u0932 \\u092e\\u0947\\u0902 \\u0915\\u093e\\u092e\\u092f\\u093e\\u092c  \\u092b\\u093f\\u0932\\u094d\\u092e \\u0938\\u093e\\u0930 \\u0939\\u0948\\u0964 \\u0906\\u0907\\u0921 \\u0905\\u091a\\u094d\\u091b  \\u0906\\u0907\\u0921\\u093f\\u092f \\u0932\\u093f\\u0916 \\u0915\\u0939 \\u0926\\u092e\\u0926\\u093e\\u0930 \\u0939\\u0948\\u0964 \\u0930\\u0902\\u091c\\u0940\\u0924 \\u0924\\u093f\\u0935\\u093e\\u0930 \\u0905\\u0938\\u0940\\u092e \\u0905\\u0930\\u094b\\u0930 \\u0932\\u093f\\u0916 \\u0915\\u0939 \\u092b\\u0949\\u0930\\u094d\\u092e\\u0942\\u0932\\u093e\\u092c\\u0926\\u094d\\u0927 \\u0939\\u0948\\u0964 \\u092c\\u0948\\u0902\\u0921 \\u092e\\u0947\\u0902 \\u0905\\u0932\\u0917\\u0905\\u0932\\u0917 \\u0927\\u0930\\u094d\\u092e \\u0932\\u094b\\u0917 \\u0939\\u0948\\u0964 \\u091c\\u0947\\u0932 \\u092e\\u0947\\u0902 \\u0915\\u0948\\u0926 \\u0906\\u092a\\u0938 \\u0938\\u0902\\u0918\\u0930\\u094d\\u0937 \\u0939\\u0948\\u0964 \\u092b\\u093f\\u0932\\u094d\\u092e \\u092e\\u0947\\u0902 \\u0939\\u0940\\u0930\\u094b\\u0907\\u0928 \\u091a\\u093e\\u0939 \\u0917\\u093e\\u092f\\u0924\\u094d\\u0930 \\u0915\\u0936\\u094d\\u092f\\u092a  \\u0921\\u093e\\u092f \\u092a\\u0947\\u0902\\u091f  \\u0915\\u093f\\u0930\\u0926\\u093e\\u0930 \\u0930\\u0916 \\u0939\\u0948  \\u091c\\u093f\\u0938\\u0915 \\u0915\\u093f\\u0930\\u0926\\u093e\\u0930 \\u0920\\u0940\\u0915 \\u092b\\u093f\\u091f \\u0938\\u093f\\u091a\\u0941\\u090f\\u0936\\u0928 \\u092c\\u0928 \\u0917\\u0908\\u0964 \\u092b\\u093f\\u0932\\u094d\\u092e \\u0932\\u0947\\u0916\\u0928 \\u092e\\u0947\\u0902 \\u0915\\u0908 \\u0915\\u092e\\u091c\\u094b\\u0930 \\u0939\\u0948\\u0902\\u0964 \\u0915\\u093f\\u0936\\u0928 \\u091c\\u0947\\u0932 \\u092e\\u0947\\u0902 \\u0921\\u093e\\u0932 \\u0928\\u093f\\u0915\\u093e\\u0932 \\u0935\\u094b \\u092c\\u0947\\u0939\\u0926 \\u0938\\u0924\\u0939 \\u0939\\u0948\\u0964 \\u091c\\u0947\\u0932 \\u0921\\u094d\\u0930\\u093e\\u092e \\u092c\\u0947\\u0939\\u0926 \\u092c\\u094b\\u0930 \\u0939\\u0948\\u0964 \\u0915\\u093f\\u0930\\u0926\\u093e\\u0930 \\u092a\\u0930\\u093f\\u091a\\u092f \\u0915\\u0930 \\u092c\\u0948\\u0902\\u0921 \\u0915\\u0940 \\u0924\\u0948\\u092f\\u093e\\u0930 \\u092e\\u0947\\u0902 \\u091c\\u094d\\u092f\\u093e\\u0926 \\u092b\\u0941\\u091f\\u0947\\u091c \\u0916\\u0930\\u094d\\u091a \\u0915\\u093f\\u090f \\u0917\\u090f \\u0926\\u0930\\u094d\\u0936\\u0915 \\u0927\\u0948\\u0930\\u094d\\u092f \\u0915\\u0940 \\u092a\\u0930\\u0940\\u0915\\u094d\\u0937 \\u0932\\u0947 \\u0939\\u0948\\u0902\\u0964 \\u0938\\u092e\\u091d \\u092e\\u0947\\u0902 \\u0906\\u0924 \\u092e\\u0941\\u0926\\u094d\\u0926 \\u0906\\u0928 \\u092e\\u0947\\u0902 \\u0907\\u0924 \\u091c\\u094d\\u092f\\u093e\\u0926 \\u0938\\u092e\\u092f \\u0915\\u094d\\u092f \\u0916\\u0930\\u094d\\u091a  \\u091c\\u0947\\u0932 \\u0930\\u0939 \\u0915\\u093f\\u0936\\u0928 \\u0938\\u093e\\u0925 \\u091c\\u0947\\u0932 \\u092d\\u093e\\u0917 \\u0915\\u0940 \\u0924\\u0948\\u092f\\u093e\\u0930 \\u0935\\u094b \\u0935\\u093f\\u0936\\u094d\\u0935\\u0938\\u0940\\u0928\\u092f \\u0939\\u0948\\u0964 \\u0932\\u0916\\u0928\\u090a \\u0938\\u0947\\u0902\\u091f\\u094d\\u0930\\u0932 \\u091c\\u0947\\u0932 \\u091c\\u0947\\u0932\\u0930 \\u0930\\u093e\\u091c \\u0936\\u094d\\u0930\\u0940\\u0935\\u093e\\u0938\\u094d\\u0924\\u0935  \\u0930\\u094b\\u0928 \\u0930\\u0949\\u092f  \\u092c\\u0947\\u0939\\u0926 \\u0916\\u0942\\u0902\\u0916\\u093e\\u0930 \\u092c\\u0924 \\u0939\\u0948\\u0964 \\u092c\\u093e\\u0924 \\u0938\\u0942\\u0902\\u0918 \\u0932\\u0947 \\u0939\\u0948 \\u0915\\u0948\\u0926 \\u092d\\u093e\\u0917 \\u0915\\u0940 \\u0924\\u0948\\u092f\\u093e\\u0930 \\u092e\\u0947\\u0902 \\u0939\\u0948  \\u092c\\u093e\\u0935\\u091c\\u0942\\u0926 \\u0915\\u0921\\u093c \\u0915\\u0926\\u092e \\u0915\\u094d\\u092f \\u0909\\u0920 \\u0938\\u092e\\u091d \\u092a\\u0930 \\u0939\\u0948\\u0964 \\u0915\\u093f\\u0936\\u0928 \\u0938\\u093e\\u0925 \\u092c\\u0921\\u093c \\u0906\\u0938 \\u0915\\u092a\\u0921\\u093c \\u091c\\u0941\\u091f \\u0932\\u0947  \\u0928\\u0915\\u0932 \\u091a\\u093e\\u092c \\u092c\\u0928 \\u0932\\u0947  \\u0927\\u093e\\u0930\\u0926\\u093e\\u0930 \\u091a\\u0940\\u091c \\u092a\\u094d\\u0930\\u093e\\u092a\\u094d\\u0924 \\u0932\\u0947 \\u0939\\u0948\\u0902\\u0964 \\u092b\\u093f\\u0932\\u094d\\u092e \\u0905\\u0902\\u0924\\u093f\\u092e \\u092e\\u093f\\u0928\\u091f \\u092e\\u0947\\u0902 \\u0917\\u0924 \\u092a\\u0915\\u0921\\u093c \\u0939\\u0948 \\u0915\\u0948\\u0926 \\u091c\\u0947\\u0932 \\u092d\\u093e\\u0917 \\u0915\\u0940 \\u0924\\u0948\\u092f\\u093e\\u0930 \\u092e\\u0947\\u0902 \\u0930\\u0939  \\u092b\\u093f\\u0932\\u094d\\u092e \\u092e\\u0947\\u0902 \\u0926\\u0930\\u094d\\u0936\\u0915 \\u0930\\u0942\\u091a \\u0916\\u094b \\u092c\\u0948\\u0920 \\u091a\\u093e\\u0939 \\u092b\\u093f\\u0932\\u094d\\u092e \\u0916\\u0924\\u094d\\u092e \\u0938\\u093f\\u0928\\u0947\\u092e\\u093e\\u0918\\u0930 \\u0915\\u0940 \\u0915\\u0948\\u0926 \\u092e\\u0941\\u0915\\u094d\\u0924 \\u0939\\u094b\\u0902\\u0964 \\u0930\\u0902\\u091c\\u0940\\u0924 \\u0924\\u093f\\u0935\\u093e\\u0930 \\u0928\\u093f\\u0930\\u094d\\u0926\\u0947\\u0936\\u0928 \\u0914\\u0938\\u0924 \\u0939\\u0948\\u0964 \\u0909\\u0928\\u094d\\u0939\\u094b\\u0902 \\u092c\\u093e\\u0924 \\u0915\\u0939 \\u092e\\u0947\\u0902 \\u091c\\u094d\\u092f\\u093e\\u0926 \\u0938\\u092e\\u092f \\u0932\\u093f \\u0939\\u0948\\u0964 \\u092b\\u093f\\u0932\\u094d\\u092e \\u092e\\u0928\\u094b\\u0930\\u0902\\u091c\\u0915 \\u092c\\u0928 \\u092a\\u093e\\u090f \\u091c\\u0947\\u0932 \\u092d\\u093e\\u0917 \\u0925\\u094d\\u0930\\u093f\\u0932 \\u092a\\u0948\\u0926 \\u092a\\u093e\\u090f\\u0964 \\u0915\\u093f\\u0930\\u0926\\u093e\\u0930 \\u092a\\u094d\\u0930 \\u0926\\u0930\\u094d\\u0936\\u0915 \\u092e\\u0947\\u0902 \\u0938\\u0939\\u093e\\u0928\\u0941\\u092d \\u091c\\u0917 \\u092a\\u093e\\u090f\\u0964 \\u0915\\u093f\\u0936\\u0928  \\u0917\\u093e\\u092f\\u0924\\u094d\\u0930 \\u0930\\u093e\\u091c \\u0915\\u093f\\u0930\\u0926\\u093e\\u0930 \\u0909\\u0928\\u094d\\u0939\\u094b\\u0902 \\u0920\\u0940\\u0915 \\u092a\\u0947\\u0936 \\u0939\\u0948\\u0964 \\u0930\\u094b\\u0928 \\u0930\\u0949\\u092f \\u0915\\u093f\\u0930\\u0926\\u093e\\u0930 \\u092a\\u0947\\u0936 \\u0916\\u0932\\u0928\\u093e\\u092f\\u0915  \\u091c\\u092c\\u0915 \\u092a\\u0942\\u0930 \\u092e\\u0941\\u0938\\u094d\\u0924\\u0948\\u0926 \\u091c\\u0947\\u0932\\u0930 \\u092b\\u0930\\u094d\\u091c \\u0928\\u093f\\u092d \\u0939\\u0948\\u0964 \\u0939\\u093e\\u0902  \\u091c\\u0947\\u0932 \\u092e\\u0947\\u0902 \\u0936\\u0930\\u093e\\u092c \\u091c\\u0930\\u0942\\u0930 \\u092a\\u0940 \\u0939\\u0948  \\u0905\\u0932 \\u0915\\u092e \\u0909\\u0938\\u092e \\u0928\\u091c\\u0930 \\u0906\\u0924\\u0940\\u0964 \\u0915\\u093f\\u0936\\u0928 \\u092c\\u0947\\u0935\\u091c\\u0939 \\u0939\\u0940\\u0930 \\u092c\\u0928 \\u0915\\u0940 \\u0915\\u094b\\u0936\\u093f\\u0936 \\u0905\\u0916\\u0930 \\u0939\\u0948\\u0964 \\u092b\\u0930\\u0939 \\u0906\\u092e \\u0915\\u0948\\u0926 \\u0932\\u0917 \\u092d\\u0940\\u0921\\u093c \\u092e\\u0947\\u0902 \\u0905\\u0932\\u0917 \\u0928\\u091c\\u0930 \\u0906\\u0924 \\u0939\\u0948\\u0902\\u0964 \\u0917\\u093e\\u092f\\u0924\\u094d\\u0930 \\u0915\\u093f\\u0930\\u0926\\u093e\\u0930 \\u092e\\u093f\\u0938\\u092b\\u093f\\u091f \\u0939\\u0948\\u0964 \\u092b\\u093f\\u0932\\u094d\\u092e \\u092e\\u0947\\u0902 \\u0915\\u0908 \\u092c\\u0947\\u0924\\u0939\\u0930 \\u0915\\u0932  \\u0930\\u0902\\u091c\\u0940\\u0924 \\u0909\\u092a\\u092f\\u094b\\u0917 \\u0932\\u0947 \\u092a\\u093e\\u090f\\u0964 \\u0915\\u0939 \\u092c\\u0948\\u0902\\u0921 \\u0915\\u0940 \\u092b\\u093f\\u0932\\u094d\\u092e \\u0939\\u0948  \\u0938\\u0902\\u0917\\u0940\\u0924 \\u092c\\u0947\\u0939\\u0926 \\u0915\\u092e\\u091c\\u094b\\u0930 \\u0939\\u0948  \\u091c\\u092c\\u0915 \\u0938\\u0902\\u0917\\u0940\\u0924 \\u092b\\u093f\\u0932\\u094d\\u092e \\u0915\\u0940 \\u091c\\u093e\\u0928 \\u0925\\u093e\\u0964 \\u0932\\u0917\\u092d\\u0917 \\u092a\\u0942\\u0930 \\u092b\\u093f\\u0932\\u094d\\u092e \\u091c\\u0947\\u0932 \\u092b\\u093f\\u0932\\u094d\\u092e \\u0917\\u0908 \\u0939\\u0948 \\u091c\\u093f\\u0938\\u0938 \\u0930\\u093e\\u0939\\u0924 \\u092e\\u093f\\u0932\\u0924\\u0940\\u0964 \\u092b\\u0930\\u0939 \\u0905\\u0916\\u094d\\u0924\\u0930 \\u0905\\u092d\\u093f\\u0928\\u092f \\u0914\\u0938\\u0924 \\u0939\\u0948\\u0964 \\u0915\\u093f\\u0936\\u0928 \\u0930\\u094b\\u0932 \\u092e\\u0947\\u0902 \\u0909\\u0928\\u094d\\u0939\\u094b\\u0902 \\u0905\\u0932\\u0917 \\u0915\\u0940 \\u0915\\u094b\\u0936\\u093f\\u0936 \\u0915\\u0940\\u0964 \\u0921\\u093e\\u092f \\u092a\\u0947\\u0902\\u091f \\u0915\\u093f\\u0930\\u0926\\u093e\\u0930 \\u0920\\u0940\\u0915 \\u0932\\u093f\\u0916 \\u0935\\u0948\\u0938 \\u0905\\u092d\\u093f\\u0928\\u092f \\u0939\\u0948\\u0964 \\u0930\\u094b\\u0928 \\u0930\\u0949\\u092f \\u0926\\u092e\\u0926\\u093e\\u0930 \\u0909\\u092a\\u0938\\u094d\\u0925 \\u0926\\u0930\\u094d\\u091c \\u0915\\u0930 \\u0939\\u0948\\u0902\\u0964 \\u0926\\u0940\\u092a\\u0915 \\u0921\\u094b\\u092c\\u094d\\u0930\\u093f\\u092f\\u093e\\u0932  \\u0917\\u093f\\u092a\\u094d\\u092a \\u0917\\u094d\\u0930\\u0947\\u0935\\u093e\\u0932  \\u0930\\u093e\\u091c\\u0947\\u0936 \\u0936\\u0930\\u094d\\u092e \\u091c\\u094d\\u092f\\u093e\\u0926 \\u0905\\u0935\\u0938\\u0930 \\u092e\\u093f\\u0932\\u093e\\u0964 \\u0930\\u0935 \\u0915\\u093f\\u0936\\u0928 \\u0928\\u093e\\u091f\\u0915 \\u0917\\u090f\\u0964 \\u092e\\u093f\\u0932 \\u0932\\u0916\\u0928\\u090a \\u0938\\u0947\\u0902\\u091f\\u094d\\u0930\\u0932 \\u0909\\u092c \\u092b\\u093f\\u0932\\u094d\\u092e \\u0939\\u0948\\u0964 \\u092e\\u093f\\u0932 \\u0932\\u0916\\u0928\\u090a \\u0938\\u0947\\u0902\\u091f\\u094d\\u0930\\u0932 \\u0909\\u092c \\u092b\\u093f\\u0932\\u094d\\u092e \\u0939\\u0948\\u0964 \\u0928\\u093f\\u0930\\u094d\\u092e  \\u0935\\u093e\\u092f\\u0915\\u0949\\u092e 18 \\u092e\\u094b\\u0936\\u0928 \\u092a\\u093f\\u0915\\u094d\\u091a\\u0930\\u094d\\u0938  \\u0928\\u093f\\u0916\\u093f\\u0932 \\u0905\\u0921\\u0935\\u093e\\u0923  \\u092e\\u094b\\u0928\\u093f\\u0937 \\u0905\\u0921\\u0935\\u093e\\u0923  \\u092e\\u0927 \\u092d\\u094b\\u091c\\u0935 \\u0928\\u093f\\u0930\\u094d\\u0926\\u0947\\u0936\\u0915  \\u0930\\u0902\\u091c\\u0940\\u0924 \\u0924\\u093f\\u0935\\u093e\\u0930 \\u0938\\u0902\\u0917\\u0940\\u0924  \\u0905\\u0930\\u094d\\u091c\\u0941\\u0928 \\u0939\\u0930\\u091c  \\u0930\\u094b\\u091a\\u0915 \\u0915\\u094b\\u0939\\u0932  \\u0924\\u0928\\u093f\\u0937\\u094d\\u0915 \\u092c\\u093e\\u0917\\u091a \\u0915\\u0932  \\u092b\\u0930\\u0939 \\u0905\\u0916\\u094d\\u0924\\u0930  \\u0921\\u093e\\u092f \\u092a\\u0947\\u0902\\u091f  \\u0917\\u093f\\u092a\\u094d\\u092a \\u0917\\u094d\\u0930\\u0947\\u0935\\u093e\\u0932  \\u0930\\u094b\\u0928 \\u0930\\u0949\\u092f  \\u0926\\u0940\\u092a\\u0915 \\u0921\\u094b\\u092c\\u094d\\u0930\\u093f\\u092f\\u093e\\u0932  \\u0907\\u0928\\u093e\\u092e \\u0909\\u0932 \\u0939\\u0915  \\u0930\\u093e\\u091c\\u0947\\u0936 \\u0936\\u0930\\u094d\\u092e \\u0938\\u0947\\u0902\\u0938\\u0930 \\u0938\\u0930\\u094d\\u091f\\u093f\\u092b\\u093f\\u0915\\u0947\\u091f  \\u092f\\u0942\\u090f  2 \\u0918\\u0902\\u091f 27 \\u092e\\u093f\\u0928\\u091f \",\n          \"\\u092c\\u0948\\u0928\\u0930  \\u092d\\u0902\\u0921\\u093e\\u0930 \\u090f\\u0902\\u091f\\u0930\\u091f\\u0947\\u0928\\u092e\\u0947\\u0902\\u091f  \\u0935\\u093e\\u0907\\u0921 \\u092b\\u094d\\u0930\\u0947\\u092e \\u092a\\u093f\\u0915\\u094d\\u091a\\u0930\\u094d\\u0938 \\u0928\\u093f\\u0930\\u094d\\u092e  \\u0915\\u0941\\u092e\\u093e\\u0930 \\u092e\\u0902\\u0917\\u0924 \\u092a\\u093e\\u0920\\u0915  \\u092e\\u0927\\u0941\\u0930 \\u092d\\u0902\\u0921\\u093e\\u0930 \\u0928\\u093f\\u0930\\u094d\\u0926\\u0947\\u0936\\u0915  \\u092e\\u0927\\u0941\\u0930 \\u092d\\u0902\\u0921\\u093e\\u0930 \\u0938\\u0902\\u0917\\u0940\\u0924  \\u092a\\u094d\\u0930\\u0940\\u0924\\u092e \\u091a\\u0915\\u094d\\u0930\\u0935\\u0943 \\u0915\\u0932  \\u0905\\u091c\\u092f \\u0926\\u0947\\u0935\\u0917\\u0928  \\u0907\\u092e\\u0930 \\u0939\\u093e\\u0936\\u092e  \\u0913\\u092e \\u0935\\u0948\\u0926\\u094d\\u092f  \\u0936\\u094d\\u0930 \\u0939\\u093e\\u0938\\u0928  \\u0936\\u093e\\u091c \\u092a\\u0926\\u094d\\u092e\\u0938  \\u0936\\u094d\\u0930\\u0926\\u094d\\u0927 \\u0926\\u093e\\u0938  \\u091f\\u093f\\u0938\\u094d\\u0915 \\u091a\\u094b\\u092a\\u0921\\u093c  \\u0930\\u093f\\u0924\\u0941\\u092a\\u0930\\u094d\\u0923 \\u0938\\u0947\\u0928\\u0917\\u0941\\u092a\\u094d \\u0938\\u0947\\u0902\\u0938\\u0930 \\u0938\\u0930\\u094d\\u091f\\u093f\\u092b\\u093f\\u0915\\u0947\\u091f  \\u090f  2 \\u0918\\u0902\\u091f 28 \\u092e\\u093f\\u0928\\u091f  16 \\u0930\\u0940\\u0932 \\u0936\\u0941\\u0915\\u094d\\u0930 \\u0939\\u0948 \\u092e\\u0927\\u0941\\u0930 \\u092d\\u0902\\u0921\\u093e\\u0930 \\u091f\\u094d\\u0930\\u0947\\u0915 \\u092c\\u0926\\u0932 \\u0935\\u0930 \\u091c\\u0948\\u0938 \\u092b\\u093f\\u0932\\u094d\\u092e \\u092c\\u0928 \\u091f\\u093e\\u0907\\u092a\\u094d\\u0921 \\u0932\\u0917 \\u0925\\u0947\\u0964 \\u092a\\u093f\\u091b\\u0932 \\u092b\\u093f\\u0932\\u094d\\u092e \\u2018 \\u091c\\u0947\\u0932 \\u2019 \\u0915\\u0940 \\u0905\\u0938\\u092b\\u0932 \\u0909\\u0928\\u094d\\u0939\\u094b\\u0902 \\u0938\\u092c\\u0915 \\u0938\\u0940\\u0916 \\u092c\\u093e\\u0930 \\u0939\\u0932\\u094d\\u0915\\u0940\\u092b\\u0941\\u0932\\u094d\\u0915 \\u0930\\u094b\\u092e\\u093e\\u0902\\u091f\\u093f\\u0915 \\u092b\\u093f\\u0932\\u094d\\u092e \\u2018 \\u0926\\u093f\\u0932 \\u092c\\u091a\\u094d\\u091a \\u0939\\u0948 \\u091c\\u0940 \\u2019 \\u092c\\u0928\\u093e\\u0908\\u0964 \\u091c\\u094d\\u092f\\u093e\\u0926\\u093e\\u0924\\u0930 \\u0928\\u093f\\u0930\\u094d\\u0926\\u0947\\u0936\\u0915 \\u0915\\u092e\\u094d\\u092b\\u0930\\u094d\\u091f \\u091c\\u094b\\u0928 \\u092c\\u093e\\u0939\\u0930 \\u0906\\u0924 \\u092c\\u0947\\u0939\\u0924\\u0930 \\u092b\\u093f\\u0932\\u094d\\u092e \\u092c\\u0928 \\u092a\\u093e \\u0939\\u0948\\u0902\\u0964 \\u0928\\u092f \\u0915\\u0940 \\u0915\\u094b\\u0936\\u093f\\u0936 \\u092e\\u0947\\u0902 \\u092c\\u0939\\u0915 \\u091c\\u093e \\u0939\\u0948\\u0902\\u0964 \\u2018 \\u0926\\u093f\\u0932 \\u092c\\u091a\\u094d\\u091a \\u0939\\u0948 \\u091c\\u0940 \\u2019 \\u091c\\u0930\\u093f\\u092f \\u092e\\u0927\\u0941\\u0930 \\u092e\\u0939 \\u0930\\u091a \\u0915\\u0940 \\u0939\\u0948  \\u092b\\u093f\\u0932\\u094d\\u092e \\u0914\\u0938\\u0924 \\u092c\\u0947\\u0939\\u0924\\u0930 \\u0939\\u0948\\u0964 \\u0915\\u0908 \\u091c\\u0917\\u0939 \\u0938\\u094d\\u0915\\u094d\\u0930\\u093f\\u092a\\u094d\\u091f \\u092e\\u0947\\u0902 \\u0915\\u0938 \\u0915\\u0940 \\u091c\\u0930\\u0942\\u0930\\u0924 \\u092e\\u0939\\u0938\\u0942\\u0938 \\u0939\\u0948  \\u0938\\u092e\\u0917\\u094d\\u0930 \\u0930\\u0942\\u092a \\u092b\\u093f\\u0932\\u094d\\u092e \\u0926\\u0930\\u094d\\u0936\\u0915 \\u2018 \\u092b\\u0940\\u0932 \\u0917\\u0941\\u0921 \\u2019 \\u0905\\u0939\\u0938\\u093e\\u0938 \\u0915\\u0930 \\u0939\\u0948\\u0964 \\u092a\\u094d\\u092f\\u093e\\u0930 \\u092e\\u093e\\u092f \\u0938\\u092c\\u0915 \\u0905\\u0932\\u0917\\u0905\\u0932\\u0917 \\u0939\\u0948\\u0902\\u0964 \\u0938\\u0947\\u0915\\u094d\\u0938 \\u092a\\u094d\\u092f\\u093e\\u0930 \\u0938\\u092e\\u091d \\u092c\\u0948\\u0920 \\u0939\\u0948\\u0964 \\u0926\\u093f\\u0932 \\u092d\\u0930 \\u092a\\u0942\\u0930 \\u091c\\u093f\\u0902\\u0926\\u0917 \\u0928\\u094d\\u092f\\u094c\\u091b\\u093e\\u0935\\u0930 \\u0926\\u0947 \\u0939\\u0948\\u0964 \\u0907\\u0938\\u0915 \\u0906\\u0927\\u093e\\u0930 \\u092c\\u0928 \\u092e\\u0927\\u0941\\u0930 \\u092d\\u0902\\u0921\\u093e\\u0930  \\u0928\\u0940\\u0930\\u091c \\u0909\\u0921\\u0935 \\u0905\\u0928\\u093f\\u0932 \\u092a\\u093e\\u0902\\u0921 \\u2018 \\u0926\\u093f\\u0932 \\u092c\\u091a\\u094d\\u091a \\u0939\\u0948 \\u091c\\u0940 \\u2019 \\u0915\\u0940 \\u0915\\u0939 \\u0938\\u094d\\u0915\\u094d\\u0930\\u0940\\u0928\\u092a\\u094d\\u0932 \\u0932\\u093f\\u0916 \\u0939\\u0948\\u0964 \\u0935\\u0930\\u094d\\u0937 \\u0928\\u0930\\u0947\\u0928 \\u0906\\u0939\\u0942\\u091c  \\u0905\\u091c\\u092f \\u0926\\u0947\\u0935\\u0917\\u0928  \\u0935\\u0948\\u0935\\u093e\\u0939\\u093f\\u0915 \\u091c\\u0940\\u0935\\u0928 \\u0905\\u0938\\u092b\\u0932 \\u0930\\u0939\\u093e\\u0964 \\u092a\\u0924\\u094d \\u0924\\u0932\\u093e\\u0915 \\u0932\\u0947 \\u0939\\u0948\\u0964 \\u092c\\u0940\\u091a \\u0909\\u092e\\u094d\\u0930 \\u092e\\u0947\\u0902 \\u0906\\u0927 \\u091c\\u0942\\u0928 \\u092a\\u093f\\u0902\\u091f  \\u0936\\u093e\\u091c \\u092a\\u0926\\u094d\\u092e\\u0938  \\u0915\\u0940 \\u0913\\u0930 \\u0906\\u0915\\u0930\\u094d\\u0937 \\u0932\\u0917 \\u0939\\u0948\\u0964 \\u091c\\u0942\\u0928 \\u0906\\u091c \\u0915\\u0940 \\u091c\\u0928\\u0930\\u0947\\u0936\\u0928 \\u0939\\u0948  \\u0926\\u093f\\u0932 \\u0915\\u0940 \\u092c\\u093e\\u0924 \\u092c\\u093f\\u0902\\u0926\\u093e\\u0938 \\u0924\\u0930\\u0940\\u0915 \\u0936\\u0947\\u092f\\u0930 \\u0915\\u0930 \\u0939\\u0948\\u0964 \\u092c\\u0949\\u0938 \\u0928\\u0930\\u0947\\u0928 \\u092a\\u0942\\u091b \\u092c\\u0948\\u0920 \\u0939\\u0948 \\u0909\\u0938 \\u092a\\u0939\\u0932 \\u092c\\u093e\\u0930 \\u0938\\u0947\\u0915\\u094d\\u0938 \\u0909\\u092e\\u094d\\u0930 \\u092e\\u0947\\u0902 \\u0925\\u093e\\u0964 \\u0928\\u0930\\u0947\\u0928 \\u092c\\u093f\\u0902\\u0926\\u093e\\u0938 \\u092a\\u094d\\u092f\\u093e\\u0930 \\u0938\\u092e\\u091d \\u092c\\u0948\\u0920 \\u0939\\u0948\\u0964 \\u0928\\u0930\\u0947\\u0928 \\u092a\\u0947\\u0907\\u0902\\u0917 \\u0917\\u0947\\u0938\\u094d\\u091f  \\u092e\\u093f\\u0932\\u093f\\u0902\\u0926 \\u0915\\u0947\\u0932  \\u0913\\u092e \\u0935\\u0948\\u0926\\u094d\\u092f  \\u0905\\u092d\\u092f  \\u0907\\u092e\\u0930 \\u0939\\u093e\\u0936\\u092e  \\u0964 \\u092e\\u093f\\u0932\\u093f\\u0902\\u0926 \\u092a\\u094d\\u092f\\u093e\\u0930 \\u092e\\u093e\\u092f \\u0936\\u093e\\u0926 \\u092a\\u0930\\u093f\\u0935\\u093e\\u0930\\u0964 \\u092c\\u093e\\u0924 \\u092e\\u0924\\u0932\\u092c \\u0939\\u0948 \\u0917\\u0941\\u0928\\u0917\\u0941\\u0928  \\u0936\\u094d\\u0930\\u0926\\u094d\\u0927 \\u0926\\u093e\\u0938  \\u091a\\u093e\\u0939 \\u0939\\u0948  \\u092d\\u0932 \\u0917\\u0941\\u0928\\u0917\\u0941\\u0928 \\u0909\\u0938\\u0915 \\u092a\\u0948\\u0938 \\u0909\\u092a\\u092f\\u094b\\u0917 \\u0915\\u0930 \\u0939\\u0948\\u0964 \\u0938\\u091a\\u094d\\u091a \\u092a\\u094d\\u092f\\u093e\\u0930 \\u092e\\u093e\\u092f \\u0930\\u0916 \\u0939\\u0948\\u0964 \\u0905\\u092d\\u092f \\u0915\\u0940 \\u091c\\u093f\\u0902\\u0926\\u0917 \\u0924\\u0940\\u0928 \\u2018 \\u090f\\u092b \\u2019 \\u0907\\u0930\\u094d\\u0926\\u0917\\u093f\\u0930\\u094d\\u0926 \\u0918\\u0942\\u092e \\u0939\\u0948\\u0964 \\u092b\\u0928  \\u092b\\u094d\\u0932\\u0930\\u094d\\u091f\\u093f\\u0902\\u0917  \\u0964 \\u0909\\u0938\\u0915 \\u091c\\u093f\\u0902\\u0926\\u0917 \\u0906\\u0926\\u0930\\u094d\\u0936 \\u0935\\u093e\\u0915\\u094d\\u092f \\u0939\\u0948 \\u0938\\u094b \\u0938\\u094b \\u0926\\u094b\\u0964 \\u092a\\u094d\\u092f\\u093e\\u0930\\u0935\\u094d\\u092f\\u093e\\u0930 \\u092c\\u0947 \\u0915\\u0940 \\u092c\\u093e\\u0924 \\u0925\\u0940\\u0902  \\u0928\\u093f\\u0915\\u094d\\u0915  \\u0936\\u094d\\u0930 \\u0939\\u093e\\u0938\\u0928  \\u092e\\u093f\\u0932 \\u0939\\u0948\\u0964 \\u0924\\u0940\\u0928 \\u0915\\u0940 \\u092a\\u094d\\u092f\\u093e\\u0930 \\u0915\\u0940 \\u0917\\u093e\\u0921\\u093c \\u092e\\u0902\\u091c\\u093f\\u0932 \\u092a\\u0939\\u0941\\u0901\\u091a \\u092a\\u093e \\u0939\\u0948  \\u092b\\u093f\\u0932\\u094d\\u092e \\u092e\\u0947\\u0902 \\u0939\\u0932\\u094d\\u0915\\u0947\\u092b\\u0941\\u0932\\u094d\\u0915 \\u0924\\u0930\\u0940\\u0915 \\u0926\\u093f\\u0916 \\u0939\\u0948\\u0964 \\u0915\\u0939 \\u092e\\u0947\\u0902 \\u0939\\u093e\\u0938\\u094d\\u092f \\u0915\\u0940 \\u092d\\u0930\\u092a\\u0942\\u0930 \\u0917\\u0941\\u0902\\u091c\\u093e\\u0907\\u0936  \\u0924\\u0940\\u0928 \\u0932\\u0947\\u0916\\u0915 \\u092e\\u093f\\u0932 \\u092a\\u0942\\u0930 \\u0909\\u092a\\u092f\\u094b\\u0917 \\u092a\\u093e\\u090f\\u0964 \\u0915\\u0908 \\u091c\\u0917\\u0939 \\u092b\\u093f\\u0932\\u094d\\u092e \\u0918\\u0938\\u0940\\u091f \\u0906\\u0917 \\u092c\\u0922\\u093c \\u0939\\u0948  \\u0916\\u093e\\u0938 \\u0939\\u093e\\u092b \\u092e\\u0947\\u0902\\u0964 \\u0924\\u0940\\u0928 \\u0915\\u0948\\u0930\\u0947\\u0915\\u094d\\u091f\\u0930\\u094d\\u0938 \\u0938\\u094d\\u0925\\u093e\\u092a \\u092e\\u0947\\u0902 \\u091c\\u0930\\u0942\\u0930\\u0924 \\u091c\\u094d\\u092f\\u093e\\u0926 \\u0938\\u092e\\u092f \\u0932\\u093f \\u0939\\u0948\\u0964 \\u092c\\u093e\\u0935\\u091c\\u0942\\u0926 \\u0909\\u0928\\u094d\\u0939\\u094b\\u0902 \\u092a\\u0947\\u0936 \\u0939\\u0948  \\u0905\\u091a\\u094d\\u091b \\u0932\\u0917 \\u0939\\u0948\\u0964 \\u0938\\u0902\\u091c\\u092f \\u091b\\u0948\\u0932 \\u0932\\u093f\\u0916 \\u0917\\u090f \\u2018 \\u0906\\u091c\\u0915\\u0932 \\u0939\\u094b\\u0932\\u0938\\u0947\\u0932 \\u092e\\u0947\\u0902 \\u092c\\u0948\\u0921\\u0932\\u0915 \\u091a\\u0932 \\u0939\\u0948 \\u2019 \\u091a\\u0941\\u091f\\u0940\\u0932 \\u0938\\u0902\\u0935\\u093e\\u0926 \\u0915\\u0908 \\u091c\\u0917\\u0939 \\u0917\\u0941\\u0926\\u0917\\u0941\\u0926 \\u0939\\u0948\\u0902\\u0964 \\u0905\\u091c\\u092f \\u0936\\u093e\\u091c \\u0915\\u0940 \\u0915\\u0939 \\u091c\\u094d\\u092f\\u093e\\u0926 \\u0926\\u093f\\u0932\\u091a\\u0938\\u094d\\u092a \\u0939\\u0948 \\u0917\\u0941\\u0926\\u0917\\u0941\\u0926 \\u0939\\u0948\\u0964 \\u0928\\u093f\\u0930\\u094d\\u0926\\u0947\\u0936\\u0915 \\u092e\\u0927\\u0941\\u0930 \\u092a\\u094d\\u092f\\u093e\\u0930 \\u0932\\u0947 \\u0905\\u0932\\u0917\\u0905\\u0932\\u0917 \\u0926\\u0943\\u0937\\u094d\\u091f\\u093f\\u0915\\u094b\\u0923 \\u0915\\u0948\\u0930\\u0947\\u0915\\u094d\\u091f\\u0930 \\u091c\\u0930\\u093f\\u092f \\u0938\\u093e\\u092e \\u0930\\u0916 \\u0939\\u0948\\u0964 \\u0924\\u0940\\u0928 \\u092b\\u0940\\u092e\\u0947\\u0932 \\u0915\\u0948\\u0930\\u0947\\u0915\\u094d\\u091f\\u0930\\u094d\\u0938 \\u092c\\u0947\\u0939\\u0926 \\u092a\\u094d\\u0930\\u0947\\u0915\\u094d\\u091f\\u093f\\u0915\\u0932 \\u092c\\u094b\\u0932\\u094d\\u0921 \\u0939\\u0948\\u0902\\u0964 \\u0905\\u092d\\u092f \\u0928\\u093f\\u0915\\u094d\\u0915 \\u0930\\u093e\\u0924 \\u0917\\u0941\\u091c\\u093e\\u0930 \\u0939\\u0948 \\u0938\\u0947\\u0915\\u094d\\u0938 \\u0932\\u0947 \\u0905\\u0938\\u0939\\u091c \\u0939\\u094b\\u0924\\u0940\\u0964 \\u0917\\u0941\\u0928\\u0917\\u0941\\u0928 \\u0938\\u094d\\u0935\\u093e\\u0930\\u094d\\u0925 \\u0915\\u0940 \\u0916\\u093e\\u0924\\u093f\\u0930 \\u092e\\u093f\\u0932\\u093f\\u0902\\u0926 \\u091c\\u092e \\u0936\\u094b\\u0937\\u0923 \\u0915\\u0930 \\u0939\\u0948\\u0964 \\u0928\\u093f\\u0930\\u094d\\u0926\\u0947\\u0936\\u0915 \\u0930\\u0942\\u092a \\u092e\\u0947\\u0902 \\u092e\\u0927\\u0941\\u0930 \\u0915\\u0939 \\u092a\\u0947\\u0936 \\u0939\\u0948 \\u0909\\u0924\\u094d\\u0938\\u0941\\u0915 \\u0930\\u0939 \\u0939\\u0948\\u0964 \\u0939\\u093e\\u0932\\u093e\\u0901\\u0915 \\u0915\\u0908 \\u091c\\u0917\\u0939 \\u0926\\u094b\\u0939\\u0930 \\u0926\\u0947\\u0916 \\u092e\\u093f\\u0932 \\u0939\\u0948\\u0964 \\u092b\\u093f\\u0932\\u094d\\u092e \\u0915\\u0940 \\u0932\\u0902\\u092c \\u091c\\u094d\\u092f\\u093e\\u0926 \\u0939\\u0948 \\u0905\\u0902\\u0924 \\u092a\\u0930\\u092b\\u0947\\u0915\\u094d\\u091f \\u0939\\u0948\\u0964 \\u0905\\u092d\\u093f\\u0928\\u092f \\u092b\\u093f\\u0932\\u094d\\u092e \\u0938\\u0936\\u0915\\u094d\\u0924 \\u092a\\u0939 \\u0939\\u0948\\u0964 \\u0905\\u091c\\u092f \\u0926\\u0947\\u0935\\u0917\\u0928 \\u0909\\u092e\\u094d\\u0930 \\u0906\\u0927 \\u0932\\u0921\\u093c\\u0915 \\u091a\\u093e\\u0939 \\u0915\\u0940 \\u0905\\u0938\\u0939\\u091c \\u092c\\u0947\\u0939\\u0924\\u0930 \\u0924\\u0930\\u0940\\u0915 \\u092a\\u0947\\u0936 \\u0939\\u0948\\u0964 \\u0936\\u093e\\u091c \\u092a\\u0926\\u094d\\u092e\\u0938 \\u092b\\u093f\\u0932\\u094d\\u092e \\u0938\\u0930\\u092a\\u094d\\u0930\\u093e\\u0907\\u091c \\u0939\\u0948\\u0964 \\u0916\\u0942\\u092c\\u0938\\u0942\\u0930\\u0924 \\u092e\\u093e\\u0938\\u0942\\u092e \\u091a\\u0947\\u0939\\u0930 \\u0928\\u093f\\u0930\\u094d\\u0926\\u0947\\u0936\\u0915 \\u091c\\u092e \\u0909\\u092a\\u092f\\u094b\\u0917 \\u0939\\u0948\\u0964 \\u0936\\u093e\\u091c \\u0905\\u092d\\u093f\\u0928\\u092f \\u0909\\u0932\\u094d\\u0932\\u0947\\u0916 \\u0939\\u0948 \\u092b\\u093f\\u0932\\u094d\\u092e \\u092c\\u0947\\u0939\\u0924\\u0930 \\u092e\\u094c\\u0915 \\u092e\\u093f\\u0932 \\u0939\\u0948\\u0902\\u0964 \\u0907\\u092e\\u0930 \\u0939\\u093e\\u0936\\u092e \\u0932\\u0902\\u092a\\u091f \\u0935\\u094d\\u092f\\u0915\\u094d \\u0915\\u093f\\u0930\\u0926\\u093e\\u0930 \\u0928\\u093f\\u092d \\u0939\\u092e\\u0947\\u0936 \\u0906\\u0938 \\u0939\\u0948\\u0964 \\u092b\\u093f\\u0932\\u094d\\u092e \\u092e\\u0947\\u0902 \\u0905\\u092d\\u093f\\u0928\\u092f \\u092e\\u0947\\u0902 \\u0938\\u0941\\u0927\\u093e\\u0930 \\u0928\\u091c\\u0930 \\u0906\\u0924 \\u0939\\u0948\\u0964 \\u0913\\u092e \\u0935\\u0948\\u0926\\u094d\\u092f \\u2018 3 \\u0907\\u0921\\u093f\\u092f\\u091f\\u094d\\u0938 \\u2019 \\u0909\\u0920 \\u0938\\u0940\\u0927 \\u2018 \\u0926\\u093f\\u0932 \\u092c\\u091a\\u094d\\u091a \\u0939\\u0948 \\u091c\\u0940 \\u2019 \\u092e\\u0947\\u0902 \\u091a\\u0932 \\u0906\\u090f \\u0939\\u0948\\u0902\\u0964 \\u0936\\u094d\\u0930 \\u0939\\u093e\\u0938\\u0928 \\u092e\\u0947\\u0902 \\u0906\\u0924\\u094d\\u092e\\u0935\\u093f\\u0936\\u094d \\u0928\\u091c\\u0930 \\u0906\\u092f \\u0936\\u094d\\u0930\\u0926\\u094d\\u0927 \\u0926\\u093e\\u0938 \\u092a\\u094d\\u0930\\u092d\\u093e\\u0935 \\u0915\\u0930 \\u0939\\u0948\\u0902\\u0964 \\u092a\\u094d\\u0930\\u0940\\u0924\\u092e \\u0938\\u0902\\u0917\\u0940\\u0924 \\u092e\\u0927\\u0941\\u0930 \\u0939\\u0948  \\u0939\\u093f\\u091f \\u0917\\u0940\\u0924 \\u0915\\u0940 \\u0915\\u092e \\u0916\\u0932 \\u0939\\u0948\\u0964 \\u0939\\u093f\\u091f \\u0917\\u093e \\u092b\\u093f\\u0932\\u094d\\u092e \\u092e\\u0926\\u0926 \\u0938\\u093e\\u092c \\u0925\\u0947\\u0964 \\u0926\\u093f\\u0928 \\u091c\\u093e\\u0926\\u0942\\u0917\\u0930 \\u0905\\u091a\\u094d\\u091b \\u092c\\u0928 \\u092a\\u0921\\u093c \\u0939\\u0948\\u0902\\u0964 \\u092e\\u093f\\u0932 \\u0915\\u092e \\u092c\\u093e\\u0935\\u091c\\u0942\\u0926 \\u2018 \\u0926\\u093f\\u0932 \\u092c\\u091a\\u094d\\u091a \\u0939\\u0948 \\u091c\\u0940 \\u2019 \\u0930\\u094b\\u091a\\u0915 \\u0939\\u0948\\u0964 \"\n        ],\n        \"num_unique_values\": 718,\n        \"semantic_type\": \"\",\n        \"description\": \"\"\n      }\n    }\n  ]\n}"
            }
          },
          "metadata": {},
          "execution_count": 26
        }
      ]
    },
    {
      "cell_type": "code",
      "source": [
        "# Interchanging columns\n",
        "\"\"\" Not working\n",
        "columns_titles = [\"experience\",\"stemmed\"]\n",
        "data = data.reindex(columns=columns_titles)\n",
        "\"\"\""
      ],
      "metadata": {
        "colab": {
          "base_uri": "https://localhost:8080/",
          "height": 36
        },
        "id": "2h1APoJBQF5b",
        "outputId": "48805182-0dc7-4193-c054-4baa6bd5de1b"
      },
      "execution_count": null,
      "outputs": [
        {
          "output_type": "execute_result",
          "data": {
            "text/plain": [
              "' Not working\\ncolumns_titles = [\"experience\",\"stemmed\"]\\ndata = data.reindex(columns=columns_titles)\\n'"
            ],
            "application/vnd.google.colaboratory.intrinsic+json": {
              "type": "string"
            }
          },
          "metadata": {},
          "execution_count": 40
        }
      ]
    },
    {
      "cell_type": "code",
      "source": [
        "def col_switch(df, column1, column2):\n",
        "    i = list(df.columns)\n",
        "    a, b = i.index(column1), i.index(column2)\n",
        "    i[b], i[a] = i[a], i[b]\n",
        "    df = df[i]\n",
        "    return df"
      ],
      "metadata": {
        "id": "GUtSpeHSCxvc"
      },
      "execution_count": null,
      "outputs": []
    },
    {
      "cell_type": "code",
      "source": [
        "data = col_switch(data, 'experience', 'stemmed')"
      ],
      "metadata": {
        "id": "MiTHT64CDJ17"
      },
      "execution_count": null,
      "outputs": []
    },
    {
      "cell_type": "code",
      "source": [
        "data.head(1)"
      ],
      "metadata": {
        "colab": {
          "base_uri": "https://localhost:8080/",
          "height": 81
        },
        "id": "lS4cHYYyQPJl",
        "outputId": "f67233ed-640b-49f0-f446-dc9edd78ceea"
      },
      "execution_count": null,
      "outputs": [
        {
          "output_type": "execute_result",
          "data": {
            "text/plain": [
              "                                             stemmed  experience\n",
              "0  चंद्रमोहन शर्म कोप्रड्यूसर लीड ऐक्टर अक्षय कुम...           2"
            ],
            "text/html": [
              "\n",
              "  <div id=\"df-c41b4732-ba04-40cf-92a4-851e8e6e16d3\" class=\"colab-df-container\">\n",
              "    <div>\n",
              "<style scoped>\n",
              "    .dataframe tbody tr th:only-of-type {\n",
              "        vertical-align: middle;\n",
              "    }\n",
              "\n",
              "    .dataframe tbody tr th {\n",
              "        vertical-align: top;\n",
              "    }\n",
              "\n",
              "    .dataframe thead th {\n",
              "        text-align: right;\n",
              "    }\n",
              "</style>\n",
              "<table border=\"1\" class=\"dataframe\">\n",
              "  <thead>\n",
              "    <tr style=\"text-align: right;\">\n",
              "      <th></th>\n",
              "      <th>stemmed</th>\n",
              "      <th>experience</th>\n",
              "    </tr>\n",
              "  </thead>\n",
              "  <tbody>\n",
              "    <tr>\n",
              "      <th>0</th>\n",
              "      <td>चंद्रमोहन शर्म कोप्रड्यूसर लीड ऐक्टर अक्षय कुम...</td>\n",
              "      <td>2</td>\n",
              "    </tr>\n",
              "  </tbody>\n",
              "</table>\n",
              "</div>\n",
              "    <div class=\"colab-df-buttons\">\n",
              "\n",
              "  <div class=\"colab-df-container\">\n",
              "    <button class=\"colab-df-convert\" onclick=\"convertToInteractive('df-c41b4732-ba04-40cf-92a4-851e8e6e16d3')\"\n",
              "            title=\"Convert this dataframe to an interactive table.\"\n",
              "            style=\"display:none;\">\n",
              "\n",
              "  <svg xmlns=\"http://www.w3.org/2000/svg\" height=\"24px\" viewBox=\"0 -960 960 960\">\n",
              "    <path d=\"M120-120v-720h720v720H120Zm60-500h600v-160H180v160Zm220 220h160v-160H400v160Zm0 220h160v-160H400v160ZM180-400h160v-160H180v160Zm440 0h160v-160H620v160ZM180-180h160v-160H180v160Zm440 0h160v-160H620v160Z\"/>\n",
              "  </svg>\n",
              "    </button>\n",
              "\n",
              "  <style>\n",
              "    .colab-df-container {\n",
              "      display:flex;\n",
              "      gap: 12px;\n",
              "    }\n",
              "\n",
              "    .colab-df-convert {\n",
              "      background-color: #E8F0FE;\n",
              "      border: none;\n",
              "      border-radius: 50%;\n",
              "      cursor: pointer;\n",
              "      display: none;\n",
              "      fill: #1967D2;\n",
              "      height: 32px;\n",
              "      padding: 0 0 0 0;\n",
              "      width: 32px;\n",
              "    }\n",
              "\n",
              "    .colab-df-convert:hover {\n",
              "      background-color: #E2EBFA;\n",
              "      box-shadow: 0px 1px 2px rgba(60, 64, 67, 0.3), 0px 1px 3px 1px rgba(60, 64, 67, 0.15);\n",
              "      fill: #174EA6;\n",
              "    }\n",
              "\n",
              "    .colab-df-buttons div {\n",
              "      margin-bottom: 4px;\n",
              "    }\n",
              "\n",
              "    [theme=dark] .colab-df-convert {\n",
              "      background-color: #3B4455;\n",
              "      fill: #D2E3FC;\n",
              "    }\n",
              "\n",
              "    [theme=dark] .colab-df-convert:hover {\n",
              "      background-color: #434B5C;\n",
              "      box-shadow: 0px 1px 3px 1px rgba(0, 0, 0, 0.15);\n",
              "      filter: drop-shadow(0px 1px 2px rgba(0, 0, 0, 0.3));\n",
              "      fill: #FFFFFF;\n",
              "    }\n",
              "  </style>\n",
              "\n",
              "    <script>\n",
              "      const buttonEl =\n",
              "        document.querySelector('#df-c41b4732-ba04-40cf-92a4-851e8e6e16d3 button.colab-df-convert');\n",
              "      buttonEl.style.display =\n",
              "        google.colab.kernel.accessAllowed ? 'block' : 'none';\n",
              "\n",
              "      async function convertToInteractive(key) {\n",
              "        const element = document.querySelector('#df-c41b4732-ba04-40cf-92a4-851e8e6e16d3');\n",
              "        const dataTable =\n",
              "          await google.colab.kernel.invokeFunction('convertToInteractive',\n",
              "                                                    [key], {});\n",
              "        if (!dataTable) return;\n",
              "\n",
              "        const docLinkHtml = 'Like what you see? Visit the ' +\n",
              "          '<a target=\"_blank\" href=https://colab.research.google.com/notebooks/data_table.ipynb>data table notebook</a>'\n",
              "          + ' to learn more about interactive tables.';\n",
              "        element.innerHTML = '';\n",
              "        dataTable['output_type'] = 'display_data';\n",
              "        await google.colab.output.renderOutput(dataTable, element);\n",
              "        const docLink = document.createElement('div');\n",
              "        docLink.innerHTML = docLinkHtml;\n",
              "        element.appendChild(docLink);\n",
              "      }\n",
              "    </script>\n",
              "  </div>\n",
              "\n",
              "\n",
              "    </div>\n",
              "  </div>\n"
            ],
            "application/vnd.google.colaboratory.intrinsic+json": {
              "type": "dataframe",
              "variable_name": "data",
              "summary": "{\n  \"name\": \"data\",\n  \"rows\": 718,\n  \"fields\": [\n    {\n      \"column\": \"stemmed\",\n      \"properties\": {\n        \"dtype\": \"string\",\n        \"samples\": [\n          \"\\u092c\\u0949\\u0932\\u093f\\u0935\\u0941\\u0921 \\u092e\\u0947\\u0902 \\u0906\\u091c\\u0915\\u0932 \\u0939\\u0949\\u0930\\u0930 \\u092b\\u093f\\u0932\\u094d\\u092e \\u0928\\u093e\\u092e \\u0938\\u093f\\u0930\\u094d\\u092b 1920 \\u0938\\u0940\\u0930\\u0940\\u091c \\u0915\\u0940 \\u092b\\u093f\\u0932\\u094d\\u092e \\u0906\\u0924 \\u0939\\u0948\\u0902\\u0964 \\u092e\\u0947\\u0902 \\u092d\\u093e\\u0930\\u0924 \\u0926\\u0930\\u094d\\u0936\\u0915 \\u092a\\u093e\\u0938 \\u0939\\u0949\\u0930\\u0930 \\u092b\\u093f\\u0932\\u094d\\u092e \\u0928\\u093e\\u092e \\u0938\\u093f\\u0930\\u094d\\u092b \\u0939\\u0949\\u0932\\u093f\\u0935\\u0941\\u0921 \\u0915\\u0940 \\u0939\\u0949\\u0930\\u0930 \\u092b\\u093f\\u0932\\u094d\\u092e \\u0926\\u0947\\u0916 \\u0911\\u092a\\u094d\\u0936\\u0928 \\u0939\\u0948\\u0964 \\u092c\\u0947\\u0936\\u0915 \\u0935\\u0939 \\u0936\\u0948\\u0924 \\u091c\\u0941\\u095c \\u0922\\u0947\\u0930 \\u0915\\u093f\\u0938\\u094d\\u0938  \\u0939\\u0949\\u0932\\u093f\\u0935\\u0941\\u0921 \\u0928\\u093f\\u0930\\u094d\\u092e \\u0905\\u0915\\u094d\\u0938\\u0930 \\u092b\\u093f\\u0932\\u094d\\u092e \\u092c\\u0928 \\u0930\\u0939 \\u0939\\u0948\\u0902\\u0964 \\u0939\\u0949\\u0932\\u093f\\u0935\\u0941\\u0921 \\u0915\\u0940 \\u091a\\u0930\\u094d\\u091a \\u0939\\u0949\\u0930\\u0930 \\u092b\\u093f\\u0932\\u094d\\u092e \\u092e\\u0947\\u0902 \\u0915\\u0902\\u091c\\u094d\\u092f\\u0942\\u0930\\u093f\\u0902\\u0917 \\u0938\\u0940\\u0930\\u0940\\u091c\\u093c \\u0915\\u0940 \\u092b\\u093f\\u0932\\u094d\\u092e \\u0926\\u0930\\u094d\\u0936\\u0915 \\u0915\\u093e\\u092b \\u092a\\u0938\\u0902\\u0926 \\u0939\\u0948\\u0964  \\u0926 \\u0928\\u0928  \\u0915\\u0902\\u091c\\u094d\\u092f\\u0942\\u0930\\u093f\\u0902\\u0917 \\u0938\\u0940\\u0930\\u0940\\u091c\\u093c \\u0915\\u0940 \\u0905\\u0917\\u0932 \\u092b\\u093f\\u0932\\u094d\\u092e \\u0939\\u0948  \\u0938\\u0940\\u0930\\u0940\\u091c \\u0959\\u094c\\u092b \\u0915\\u093f\\u0938\\u094d\\u0938 \\u092c\\u0924 \\u0939\\u0948\\u0964 \\u092b\\u093f\\u0932\\u094d\\u092e \\u0915\\u094d\\u0930\\u0947\\u091c \\u0906\\u0907\\u0921 \\u092c\\u093e\\u0924 \\u0932\\u0917 \\u0939\\u0948  \\u0926 \\u0928\\u0928  \\u0938\\u0941\\u092c\\u0939 \\u0936\\u094b \\u0939\\u093e\\u0909\\u0938\\u092b\\u0941\\u0932 \\u0925\\u093e\\u0964\\u0907\\u0938 \\u092b\\u093f\\u0932\\u094d\\u092e \\u0915\\u0940 \\u0915\\u0939 \\u0915\\u0940 \\u0936\\u0941\\u0930\\u0941\\u0906\\u0924 1952 \\u092e\\u0947\\u0902 \\u0930\\u094b\\u092e\\u093e\\u0928 \\u0938\\u0948\\u0902\\u091f \\u0915\\u093e\\u0930\\u094d\\u091f \\u092e\\u0947\\u0902 \\u0910\\u092c  \\u0910\\u0938 \\u091c\\u0917\\u0939 \\u091c\\u0939 \\u0928\\u0928 \\u0930\\u0939  \\u0925\\u0940\\u0964 \\u092e\\u093e \\u091c\\u093e \\u0939\\u0948 \\u0910\\u092c \\u0926\\u0930\\u0935\\u093e\\u091c \\u092e\\u0947\\u0902 \\u0936\\u0948\\u0924 \\u0930\\u0939 \\u0939\\u0948 \\u0909\\u0938\\u0938 \\u0906\\u0917 \\u0917\\u0949\\u0921 \\u0930\\u093e\\u091c \\u0939\\u0948\\u0964 \\u0935\\u091c\\u0939 \\u0906\\u0938\\u092a\\u093e\\u0938 \\u0932\\u094b\\u0917 \\u0909\\u0938\\u0938 \\u0926\\u0942\\u0930 \\u0930\\u0939 \\u0939\\u0948\\u0902\\u0964 \\u0926\\u093f\\u0928 \\u0928\\u0928 \\u0926\\u0930\\u0935\\u093e\\u091c \\u0917\\u0908 \\u0936\\u0948\\u0924 \\u0939\\u093e\\u0925 \\u092e\\u093e\\u0930 \\u0917\\u0908  \\u091c\\u092c\\u0915 \\u0926\\u0942\\u0938\\u0930 \\u0928\\u0928 \\u0936\\u0948\\u0924 \\u092c\\u091a \\u0915\\u0940 \\u0917\\u0908 \\u092a\\u094d\\u0932\\u093e\\u0928\\u093f\\u0902\\u0917 \\u0924\\u0939\\u0924 \\u092b\\u093e\\u0902\\u0938 \\u0932\\u0917 \\u0932\\u0940\\u0964 \\u0909\\u0938\\u0915 \\u0932\\u093e\\u0936 \\u0935\\u0939 \\u0938\\u092c\\u094d\\u091c \\u0932\\u093e \\u0906\\u0926\\u092e \\u092e\\u094b\\u0930\\u093f\\u0938 \\u092e\\u093f\\u0932\\u0940\\u0964 \\u0916\\u092c\\u0930 \\u092b\\u0948\\u0932  \\u0935\\u0948\\u091f\\u093f\\u0915\\u0928 \\u091c\\u093e\\u0902\\u091a \\u0926\\u0932 \\u0917\\u0920 \\u0915\\u093f\\u092f\\u093e\\u0964 \\u0909\\u0938\\u092e \\u092a\\u093e\\u0926\\u0930 \\u092b\\u093e\\u0926\\u0930 \\u090f\\u0902\\u0925 \\u092c\\u0941\\u0930\\u094d\\u0915  \\u0921\\u0947\\u092e\\u093f\\u092f\\u0928 \\u092c\\u093f\\u0939\\u093f\\u0930  \\u0928\\u0928 \\u0938\\u093f\\u0938\\u094d\\u091f\\u0930 \\u0907\\u0930  \\u091f\\u0947\\u0938 \\u092b\\u093e\\u0930\\u094d\\u092e\\u093f\\u0917  \\u091c\\u093f\\u0938 \\u0936\\u092a\\u0925 \\u0932\\u0940  \\u0930\\u094b\\u092e\\u093e\\u0928 \\u092d\\u0947\\u091c\\u093e\\u0964 \\u0926\\u094b\\u0928 \\u0938\\u092c\\u094d\\u091c \\u0935\\u0939 \\u091c\\u093e \\u0939\\u0948\\u0902\\u0964 \\u092b\\u093e\\u0926\\u0930 \\u090f\\u0902\\u0925 \\u092a\\u093e\\u0926\\u0930  \\u0905\\u0915\\u094d\\u0938\\u0930 \\u0910\\u0938 \\u0918\\u091f \\u0915\\u0940 \\u091c\\u093e\\u0902\\u091a \\u0939\\u0948\\u0902\\u0964 \\u0935\\u0939 \\u0926\\u094b\\u0928 \\u0905\\u091c\\u0940\\u092c\\u0905\\u091c\\u0940\\u092c \\u0918\\u091f  \\u0939\\u093f\\u092e\\u094d\\u092e\\u0924 \\u0939\\u093e\\u0930 \\u0930\\u0939\\u0938\\u094d\\u092f\\u092e\\u092f \\u0910\\u092c \\u091c\\u0941\\u095c \\u0930\\u0939\\u0938\\u094d\\u092f \\u0916\\u0941\\u0932\\u093e\\u0938 \\u092b\\u0948\\u0938\\u0932 \\u0939\\u0948\\u0902\\u0964 \\u0938\\u092c\\u094d\\u091c \\u092c\\u0947\\u091a \\u0935\\u093e\\u0932 \\u092e\\u094b\\u0930\\u093f\\u0938 \\u0926\\u094b\\u0928 \\u0926\\u0947 \\u092b\\u0948\\u0938\\u0932 \\u0939\\u0948\\u0964 \\u0915\\u094d \\u092b\\u093e\\u0926\\u0930 \\u0938\\u093f\\u0938\\u094d\\u091f\\u0930 \\u0910\\u092c \\u0936\\u0948\\u0924 \\u0915\\u093e\\u092c \\u092a\\u093e  \\u0906\\u0916\\u093f\\u0930 \\u0959\\u094c\\u092b \\u0910\\u092c \\u0930\\u093e\\u091c \\u0915\\u094d \\u0939\\u0948  \\u0959\\u094c\\u092b \\u0938\\u0935\\u093e\\u0932 \\u091c\\u0935\\u093e\\u092c \\u0906\\u092a\\u0915 \\u0925\\u093f\\u0905\\u091f\\u0930 \\u091c\\u093e \\u092e\\u093f\\u0932 \\u092a\\u093e\\u090f\\u0917\\u093e\\u0964\\u0939\\u0949\\u0932\\u093f\\u0935\\u0941\\u0921 \\u0915\\u0940 \\u0924\\u092e\\u093e\\u092e \\u0939\\u0949\\u0930\\u0930 \\u092b\\u093f\\u0932\\u094d\\u092e \\u0915\\u0940 \\u092b\\u093f\\u0932\\u094d\\u092e \\u092e\\u0947\\u0902 \\u0936\\u0948\\u0924 \\u091a\\u0930\\u094d\\u091a \\u0915\\u0940 \\u091c\\u0902\\u0917 \\u0926\\u093f\\u0916 \\u0917\\u0908 \\u0939\\u0948\\u0964 \\u0939\\u093e\\u0932\\u093e\\u0902\\u0915  \\u092c\\u093e\\u0930 \\u091a\\u0930\\u094d\\u091a \\u0915\\u0940 \\u0913\\u0930 \\u092e\\u094b\\u0930\\u094d\\u091a \\u092a\\u093e\\u0926\\u0930 \\u0915\\u0940 \\u092c\\u091c\\u093e\\u092f \\u0928\\u0928 \\u0938\\u0902\\u092d\\u093e\\u0932 \\u0939\\u0948\\u0964 \\u0938\\u093f\\u0938\\u094d\\u091f\\u0930 \\u0907\\u0930 \\u0930\\u094b\\u0932 \\u092e\\u0947\\u0902 \\u091f\\u0947\\u0938 \\u092b\\u093e\\u0930\\u094d\\u092e\\u093f\\u0917 \\u0905\\u091a\\u094d\\u091b \\u0910\\u0915\\u094d\\u091f\\u093f\\u0902\\u0917 \\u0915\\u0940 \\u0939\\u0948\\u0964 \\u0916\\u093e\\u0938 \\u0936\\u0948\\u0924 \\u0932\\u095c \\u0938\\u0940\\u0928 \\u092e\\u0947\\u0902 \\u091c\\u094b\\u0930\\u0926\\u093e\\u0930 \\u0932\\u0917 \\u0939\\u0948\\u0902\\u0964 \\u0921\\u0947\\u092e\\u093f\\u092f\\u0928 \\u0920\\u0940\\u0915\\u0920\\u093e\\u0915 \\u0910\\u0915\\u094d\\u091f\\u093f\\u0902\\u0917 \\u0915\\u0940 \\u0939\\u0948\\u0964 \\u0909\\u0927\\u0930 \\u092e\\u094b\\u0930\\u093f\\u0938 \\u0930\\u094b\\u0932 \\u092e\\u0947\\u0902 \\u091c\\u094b\\u0928\\u0938 \\u0926\\u0930\\u094d\\u0936\\u0915 \\u092e\\u0928\\u094b\\u0930\\u0902\\u091c\\u0928 \\u0939\\u0948\\u0902\\u0964 \\u092b\\u093f\\u0932\\u094d\\u092e \\u0915\\u0940 \\u0936\\u0942\\u091f\\u093f\\u0902\\u0917 \\u0915\\u0939 \\u0915\\u0940 \\u0921\\u093f\\u092e\\u093e\\u0902\\u0921 \\u092e\\u0941\\u0924\\u093e\\u092c\\u093f\\u0915 \\u0921\\u0930\\u093e\\u0935 \\u0932\\u094b\\u0915\\u0947\\u0936\\u0928 \\u0915\\u0940 \\u0917\\u0908 \\u0939\\u0948\\u0964 \\u0939\\u0949\\u0930\\u0930 \\u092b\\u093f\\u0932\\u094d\\u092e \\u092e\\u0947\\u0902 \\u092c\\u0948\\u0915\\u0917\\u094d\\u0930\\u093e\\u0909\\u0902\\u0921 \\u0938\\u094d\\u0915\\u094b\\u0930 \\u092e\\u0939\\u0924\\u094d\\u0935\\u092a\\u0942\\u0930\\u094d\\u0923 \\u0939\\u0948\\u0964 \\u092b\\u093f\\u0932\\u094d\\u092e \\u092e\\u0947\\u0902 \\u0936\\u0948\\u0924 \\u091c\\u0902\\u0917 \\u0938\\u0940\\u0928 \\u0906\\u092a\\u0915 \\u0916\\u093e\\u0938 \\u0921\\u0930\\u093e\\u0935 \\u0932\\u0917 \\u0939\\u0948\\u0902\\u0964 \\u0916\\u094c\\u092b \\u0910\\u092c \\u0938\\u0940\\u0928 \\u0916\\u0924\\u0930 \\u0939\\u0948\\u0902\\u0964 \\u0905\\u0917\\u0930 \\u0906\\u092a\\u0915 \\u0939\\u0949\\u0930\\u0930 \\u092b\\u093f\\u0932\\u094d\\u092e \\u0926\\u0947\\u0916 \\u092a\\u0938\\u0902\\u0926 \\u0939\\u0948  \\u0906\\u092a\\u0915 \\u0928\\u0928 \\u091c\\u0930\\u0942\\u0930 \\u092e\\u0941\\u0932\\u093e\\u0915\\u093e\\u0924 \\u0915\\u0930 \\u091a\\u093e\\u0939\\u093f\\u090f\\u0964 \",\n          \"\\u092c\\u0948\\u0902\\u0921 \\u091c\\u094b\\u0921\\u093c \\u0939\\u0948 \\u091c\\u0947\\u0932 \\u0938\\u0947\\u0964 \\u091c\\u0939 \\u092a\\u094d\\u0930\\u0924\\u093f\\u092f\\u094b\\u0917 \\u0932\\u0916\\u0928\\u090a \\u0938\\u0947\\u0902\\u091f\\u094d\\u0930\\u0932 \\u091c\\u0947\\u0932 \\u092c\\u0948\\u0902\\u0921 \\u0924\\u0948\\u092f\\u093e\\u0930 \\u0939\\u0948 \\u091c\\u093f\\u0938\\u092e \\u0915\\u0948\\u0926 \\u092a\\u0930\\u092b\\u0949\\u0930\\u094d\\u092e \\u0939\\u0948\\u0902\\u0964 \\u0915\\u0948\\u0926 \\u092a\\u094d\\u0932 \\u0939\\u0948 \\u0924\\u0948\\u092f\\u093e\\u0930 \\u0915\\u0940 \\u0906\\u0921\\u093c \\u092e\\u0947\\u0902 \\u091c\\u0947\\u0932 \\u092d\\u093e\\u0917 \\u0928\\u093f \\u091c\\u093e\\u090f\\u0964 \\u0939\\u0924\\u094d \\u0906\\u0930\\u094b\\u092a \\u092e\\u0947\\u0902 \\u0915\\u093f\\u0936\\u0928 \\u0932\\u0916\\u0928\\u090a \\u0938\\u0947\\u0902\\u091f\\u094d\\u0930\\u0932 \\u091c\\u0947\\u0932 \\u092e\\u0947\\u0902 \\u0938\\u091c \\u0915\\u093e\\u091f \\u0939\\u0948 \\u0935\\u0939 \\u092c\\u0948\\u0902\\u0921 \\u092c\\u0928 \\u0939\\u0948\\u0964 \\u092c\\u0948\\u0902\\u0921 \\u092e\\u0947\\u0902 \\u0926\\u093f\\u0915\\u094d\\u0915\\u0924 \\u0905\\u0902\\u0938\\u093e\\u0930  \\u0935\\u093f\\u0915\\u094d\\u091f\\u0930 \\u091a\\u091f\\u094b\\u092a\\u093e\\u0927\\u094d\\u092f\\u093e\\u092f  \\u092a\\u0941\\u0930\\u0941\\u0937\\u094b\\u0924\\u094d\\u0924\\u092e \\u092a\\u0902\\u0921 \\u092a\\u0930\\u092e\\u093f\\u0902\\u0926\\u0930 \\u0936\\u093e\\u092e\\u093f\\u0932 \\u0939\\u0948\\u0902\\u0964 \\u092a\\u094d\\u0932\\u093e\\u0928\\u093f\\u0902\\u0917  \\u0915\\u094d \\u091c\\u0947\\u0932 \\u092d\\u093e\\u0917 \\u0928\\u093f\\u0915\\u0932 \\u092e\\u0947\\u0902 \\u0915\\u093e\\u092e\\u092f\\u093e\\u092c  \\u092b\\u093f\\u0932\\u094d\\u092e \\u0938\\u093e\\u0930 \\u0939\\u0948\\u0964 \\u0906\\u0907\\u0921 \\u0905\\u091a\\u094d\\u091b  \\u0906\\u0907\\u0921\\u093f\\u092f \\u0932\\u093f\\u0916 \\u0915\\u0939 \\u0926\\u092e\\u0926\\u093e\\u0930 \\u0939\\u0948\\u0964 \\u0930\\u0902\\u091c\\u0940\\u0924 \\u0924\\u093f\\u0935\\u093e\\u0930 \\u0905\\u0938\\u0940\\u092e \\u0905\\u0930\\u094b\\u0930 \\u0932\\u093f\\u0916 \\u0915\\u0939 \\u092b\\u0949\\u0930\\u094d\\u092e\\u0942\\u0932\\u093e\\u092c\\u0926\\u094d\\u0927 \\u0939\\u0948\\u0964 \\u092c\\u0948\\u0902\\u0921 \\u092e\\u0947\\u0902 \\u0905\\u0932\\u0917\\u0905\\u0932\\u0917 \\u0927\\u0930\\u094d\\u092e \\u0932\\u094b\\u0917 \\u0939\\u0948\\u0964 \\u091c\\u0947\\u0932 \\u092e\\u0947\\u0902 \\u0915\\u0948\\u0926 \\u0906\\u092a\\u0938 \\u0938\\u0902\\u0918\\u0930\\u094d\\u0937 \\u0939\\u0948\\u0964 \\u092b\\u093f\\u0932\\u094d\\u092e \\u092e\\u0947\\u0902 \\u0939\\u0940\\u0930\\u094b\\u0907\\u0928 \\u091a\\u093e\\u0939 \\u0917\\u093e\\u092f\\u0924\\u094d\\u0930 \\u0915\\u0936\\u094d\\u092f\\u092a  \\u0921\\u093e\\u092f \\u092a\\u0947\\u0902\\u091f  \\u0915\\u093f\\u0930\\u0926\\u093e\\u0930 \\u0930\\u0916 \\u0939\\u0948  \\u091c\\u093f\\u0938\\u0915 \\u0915\\u093f\\u0930\\u0926\\u093e\\u0930 \\u0920\\u0940\\u0915 \\u092b\\u093f\\u091f \\u0938\\u093f\\u091a\\u0941\\u090f\\u0936\\u0928 \\u092c\\u0928 \\u0917\\u0908\\u0964 \\u092b\\u093f\\u0932\\u094d\\u092e \\u0932\\u0947\\u0916\\u0928 \\u092e\\u0947\\u0902 \\u0915\\u0908 \\u0915\\u092e\\u091c\\u094b\\u0930 \\u0939\\u0948\\u0902\\u0964 \\u0915\\u093f\\u0936\\u0928 \\u091c\\u0947\\u0932 \\u092e\\u0947\\u0902 \\u0921\\u093e\\u0932 \\u0928\\u093f\\u0915\\u093e\\u0932 \\u0935\\u094b \\u092c\\u0947\\u0939\\u0926 \\u0938\\u0924\\u0939 \\u0939\\u0948\\u0964 \\u091c\\u0947\\u0932 \\u0921\\u094d\\u0930\\u093e\\u092e \\u092c\\u0947\\u0939\\u0926 \\u092c\\u094b\\u0930 \\u0939\\u0948\\u0964 \\u0915\\u093f\\u0930\\u0926\\u093e\\u0930 \\u092a\\u0930\\u093f\\u091a\\u092f \\u0915\\u0930 \\u092c\\u0948\\u0902\\u0921 \\u0915\\u0940 \\u0924\\u0948\\u092f\\u093e\\u0930 \\u092e\\u0947\\u0902 \\u091c\\u094d\\u092f\\u093e\\u0926 \\u092b\\u0941\\u091f\\u0947\\u091c \\u0916\\u0930\\u094d\\u091a \\u0915\\u093f\\u090f \\u0917\\u090f \\u0926\\u0930\\u094d\\u0936\\u0915 \\u0927\\u0948\\u0930\\u094d\\u092f \\u0915\\u0940 \\u092a\\u0930\\u0940\\u0915\\u094d\\u0937 \\u0932\\u0947 \\u0939\\u0948\\u0902\\u0964 \\u0938\\u092e\\u091d \\u092e\\u0947\\u0902 \\u0906\\u0924 \\u092e\\u0941\\u0926\\u094d\\u0926 \\u0906\\u0928 \\u092e\\u0947\\u0902 \\u0907\\u0924 \\u091c\\u094d\\u092f\\u093e\\u0926 \\u0938\\u092e\\u092f \\u0915\\u094d\\u092f \\u0916\\u0930\\u094d\\u091a  \\u091c\\u0947\\u0932 \\u0930\\u0939 \\u0915\\u093f\\u0936\\u0928 \\u0938\\u093e\\u0925 \\u091c\\u0947\\u0932 \\u092d\\u093e\\u0917 \\u0915\\u0940 \\u0924\\u0948\\u092f\\u093e\\u0930 \\u0935\\u094b \\u0935\\u093f\\u0936\\u094d\\u0935\\u0938\\u0940\\u0928\\u092f \\u0939\\u0948\\u0964 \\u0932\\u0916\\u0928\\u090a \\u0938\\u0947\\u0902\\u091f\\u094d\\u0930\\u0932 \\u091c\\u0947\\u0932 \\u091c\\u0947\\u0932\\u0930 \\u0930\\u093e\\u091c \\u0936\\u094d\\u0930\\u0940\\u0935\\u093e\\u0938\\u094d\\u0924\\u0935  \\u0930\\u094b\\u0928 \\u0930\\u0949\\u092f  \\u092c\\u0947\\u0939\\u0926 \\u0916\\u0942\\u0902\\u0916\\u093e\\u0930 \\u092c\\u0924 \\u0939\\u0948\\u0964 \\u092c\\u093e\\u0924 \\u0938\\u0942\\u0902\\u0918 \\u0932\\u0947 \\u0939\\u0948 \\u0915\\u0948\\u0926 \\u092d\\u093e\\u0917 \\u0915\\u0940 \\u0924\\u0948\\u092f\\u093e\\u0930 \\u092e\\u0947\\u0902 \\u0939\\u0948  \\u092c\\u093e\\u0935\\u091c\\u0942\\u0926 \\u0915\\u0921\\u093c \\u0915\\u0926\\u092e \\u0915\\u094d\\u092f \\u0909\\u0920 \\u0938\\u092e\\u091d \\u092a\\u0930 \\u0939\\u0948\\u0964 \\u0915\\u093f\\u0936\\u0928 \\u0938\\u093e\\u0925 \\u092c\\u0921\\u093c \\u0906\\u0938 \\u0915\\u092a\\u0921\\u093c \\u091c\\u0941\\u091f \\u0932\\u0947  \\u0928\\u0915\\u0932 \\u091a\\u093e\\u092c \\u092c\\u0928 \\u0932\\u0947  \\u0927\\u093e\\u0930\\u0926\\u093e\\u0930 \\u091a\\u0940\\u091c \\u092a\\u094d\\u0930\\u093e\\u092a\\u094d\\u0924 \\u0932\\u0947 \\u0939\\u0948\\u0902\\u0964 \\u092b\\u093f\\u0932\\u094d\\u092e \\u0905\\u0902\\u0924\\u093f\\u092e \\u092e\\u093f\\u0928\\u091f \\u092e\\u0947\\u0902 \\u0917\\u0924 \\u092a\\u0915\\u0921\\u093c \\u0939\\u0948 \\u0915\\u0948\\u0926 \\u091c\\u0947\\u0932 \\u092d\\u093e\\u0917 \\u0915\\u0940 \\u0924\\u0948\\u092f\\u093e\\u0930 \\u092e\\u0947\\u0902 \\u0930\\u0939  \\u092b\\u093f\\u0932\\u094d\\u092e \\u092e\\u0947\\u0902 \\u0926\\u0930\\u094d\\u0936\\u0915 \\u0930\\u0942\\u091a \\u0916\\u094b \\u092c\\u0948\\u0920 \\u091a\\u093e\\u0939 \\u092b\\u093f\\u0932\\u094d\\u092e \\u0916\\u0924\\u094d\\u092e \\u0938\\u093f\\u0928\\u0947\\u092e\\u093e\\u0918\\u0930 \\u0915\\u0940 \\u0915\\u0948\\u0926 \\u092e\\u0941\\u0915\\u094d\\u0924 \\u0939\\u094b\\u0902\\u0964 \\u0930\\u0902\\u091c\\u0940\\u0924 \\u0924\\u093f\\u0935\\u093e\\u0930 \\u0928\\u093f\\u0930\\u094d\\u0926\\u0947\\u0936\\u0928 \\u0914\\u0938\\u0924 \\u0939\\u0948\\u0964 \\u0909\\u0928\\u094d\\u0939\\u094b\\u0902 \\u092c\\u093e\\u0924 \\u0915\\u0939 \\u092e\\u0947\\u0902 \\u091c\\u094d\\u092f\\u093e\\u0926 \\u0938\\u092e\\u092f \\u0932\\u093f \\u0939\\u0948\\u0964 \\u092b\\u093f\\u0932\\u094d\\u092e \\u092e\\u0928\\u094b\\u0930\\u0902\\u091c\\u0915 \\u092c\\u0928 \\u092a\\u093e\\u090f \\u091c\\u0947\\u0932 \\u092d\\u093e\\u0917 \\u0925\\u094d\\u0930\\u093f\\u0932 \\u092a\\u0948\\u0926 \\u092a\\u093e\\u090f\\u0964 \\u0915\\u093f\\u0930\\u0926\\u093e\\u0930 \\u092a\\u094d\\u0930 \\u0926\\u0930\\u094d\\u0936\\u0915 \\u092e\\u0947\\u0902 \\u0938\\u0939\\u093e\\u0928\\u0941\\u092d \\u091c\\u0917 \\u092a\\u093e\\u090f\\u0964 \\u0915\\u093f\\u0936\\u0928  \\u0917\\u093e\\u092f\\u0924\\u094d\\u0930 \\u0930\\u093e\\u091c \\u0915\\u093f\\u0930\\u0926\\u093e\\u0930 \\u0909\\u0928\\u094d\\u0939\\u094b\\u0902 \\u0920\\u0940\\u0915 \\u092a\\u0947\\u0936 \\u0939\\u0948\\u0964 \\u0930\\u094b\\u0928 \\u0930\\u0949\\u092f \\u0915\\u093f\\u0930\\u0926\\u093e\\u0930 \\u092a\\u0947\\u0936 \\u0916\\u0932\\u0928\\u093e\\u092f\\u0915  \\u091c\\u092c\\u0915 \\u092a\\u0942\\u0930 \\u092e\\u0941\\u0938\\u094d\\u0924\\u0948\\u0926 \\u091c\\u0947\\u0932\\u0930 \\u092b\\u0930\\u094d\\u091c \\u0928\\u093f\\u092d \\u0939\\u0948\\u0964 \\u0939\\u093e\\u0902  \\u091c\\u0947\\u0932 \\u092e\\u0947\\u0902 \\u0936\\u0930\\u093e\\u092c \\u091c\\u0930\\u0942\\u0930 \\u092a\\u0940 \\u0939\\u0948  \\u0905\\u0932 \\u0915\\u092e \\u0909\\u0938\\u092e \\u0928\\u091c\\u0930 \\u0906\\u0924\\u0940\\u0964 \\u0915\\u093f\\u0936\\u0928 \\u092c\\u0947\\u0935\\u091c\\u0939 \\u0939\\u0940\\u0930 \\u092c\\u0928 \\u0915\\u0940 \\u0915\\u094b\\u0936\\u093f\\u0936 \\u0905\\u0916\\u0930 \\u0939\\u0948\\u0964 \\u092b\\u0930\\u0939 \\u0906\\u092e \\u0915\\u0948\\u0926 \\u0932\\u0917 \\u092d\\u0940\\u0921\\u093c \\u092e\\u0947\\u0902 \\u0905\\u0932\\u0917 \\u0928\\u091c\\u0930 \\u0906\\u0924 \\u0939\\u0948\\u0902\\u0964 \\u0917\\u093e\\u092f\\u0924\\u094d\\u0930 \\u0915\\u093f\\u0930\\u0926\\u093e\\u0930 \\u092e\\u093f\\u0938\\u092b\\u093f\\u091f \\u0939\\u0948\\u0964 \\u092b\\u093f\\u0932\\u094d\\u092e \\u092e\\u0947\\u0902 \\u0915\\u0908 \\u092c\\u0947\\u0924\\u0939\\u0930 \\u0915\\u0932  \\u0930\\u0902\\u091c\\u0940\\u0924 \\u0909\\u092a\\u092f\\u094b\\u0917 \\u0932\\u0947 \\u092a\\u093e\\u090f\\u0964 \\u0915\\u0939 \\u092c\\u0948\\u0902\\u0921 \\u0915\\u0940 \\u092b\\u093f\\u0932\\u094d\\u092e \\u0939\\u0948  \\u0938\\u0902\\u0917\\u0940\\u0924 \\u092c\\u0947\\u0939\\u0926 \\u0915\\u092e\\u091c\\u094b\\u0930 \\u0939\\u0948  \\u091c\\u092c\\u0915 \\u0938\\u0902\\u0917\\u0940\\u0924 \\u092b\\u093f\\u0932\\u094d\\u092e \\u0915\\u0940 \\u091c\\u093e\\u0928 \\u0925\\u093e\\u0964 \\u0932\\u0917\\u092d\\u0917 \\u092a\\u0942\\u0930 \\u092b\\u093f\\u0932\\u094d\\u092e \\u091c\\u0947\\u0932 \\u092b\\u093f\\u0932\\u094d\\u092e \\u0917\\u0908 \\u0939\\u0948 \\u091c\\u093f\\u0938\\u0938 \\u0930\\u093e\\u0939\\u0924 \\u092e\\u093f\\u0932\\u0924\\u0940\\u0964 \\u092b\\u0930\\u0939 \\u0905\\u0916\\u094d\\u0924\\u0930 \\u0905\\u092d\\u093f\\u0928\\u092f \\u0914\\u0938\\u0924 \\u0939\\u0948\\u0964 \\u0915\\u093f\\u0936\\u0928 \\u0930\\u094b\\u0932 \\u092e\\u0947\\u0902 \\u0909\\u0928\\u094d\\u0939\\u094b\\u0902 \\u0905\\u0932\\u0917 \\u0915\\u0940 \\u0915\\u094b\\u0936\\u093f\\u0936 \\u0915\\u0940\\u0964 \\u0921\\u093e\\u092f \\u092a\\u0947\\u0902\\u091f \\u0915\\u093f\\u0930\\u0926\\u093e\\u0930 \\u0920\\u0940\\u0915 \\u0932\\u093f\\u0916 \\u0935\\u0948\\u0938 \\u0905\\u092d\\u093f\\u0928\\u092f \\u0939\\u0948\\u0964 \\u0930\\u094b\\u0928 \\u0930\\u0949\\u092f \\u0926\\u092e\\u0926\\u093e\\u0930 \\u0909\\u092a\\u0938\\u094d\\u0925 \\u0926\\u0930\\u094d\\u091c \\u0915\\u0930 \\u0939\\u0948\\u0902\\u0964 \\u0926\\u0940\\u092a\\u0915 \\u0921\\u094b\\u092c\\u094d\\u0930\\u093f\\u092f\\u093e\\u0932  \\u0917\\u093f\\u092a\\u094d\\u092a \\u0917\\u094d\\u0930\\u0947\\u0935\\u093e\\u0932  \\u0930\\u093e\\u091c\\u0947\\u0936 \\u0936\\u0930\\u094d\\u092e \\u091c\\u094d\\u092f\\u093e\\u0926 \\u0905\\u0935\\u0938\\u0930 \\u092e\\u093f\\u0932\\u093e\\u0964 \\u0930\\u0935 \\u0915\\u093f\\u0936\\u0928 \\u0928\\u093e\\u091f\\u0915 \\u0917\\u090f\\u0964 \\u092e\\u093f\\u0932 \\u0932\\u0916\\u0928\\u090a \\u0938\\u0947\\u0902\\u091f\\u094d\\u0930\\u0932 \\u0909\\u092c \\u092b\\u093f\\u0932\\u094d\\u092e \\u0939\\u0948\\u0964 \\u092e\\u093f\\u0932 \\u0932\\u0916\\u0928\\u090a \\u0938\\u0947\\u0902\\u091f\\u094d\\u0930\\u0932 \\u0909\\u092c \\u092b\\u093f\\u0932\\u094d\\u092e \\u0939\\u0948\\u0964 \\u0928\\u093f\\u0930\\u094d\\u092e  \\u0935\\u093e\\u092f\\u0915\\u0949\\u092e 18 \\u092e\\u094b\\u0936\\u0928 \\u092a\\u093f\\u0915\\u094d\\u091a\\u0930\\u094d\\u0938  \\u0928\\u093f\\u0916\\u093f\\u0932 \\u0905\\u0921\\u0935\\u093e\\u0923  \\u092e\\u094b\\u0928\\u093f\\u0937 \\u0905\\u0921\\u0935\\u093e\\u0923  \\u092e\\u0927 \\u092d\\u094b\\u091c\\u0935 \\u0928\\u093f\\u0930\\u094d\\u0926\\u0947\\u0936\\u0915  \\u0930\\u0902\\u091c\\u0940\\u0924 \\u0924\\u093f\\u0935\\u093e\\u0930 \\u0938\\u0902\\u0917\\u0940\\u0924  \\u0905\\u0930\\u094d\\u091c\\u0941\\u0928 \\u0939\\u0930\\u091c  \\u0930\\u094b\\u091a\\u0915 \\u0915\\u094b\\u0939\\u0932  \\u0924\\u0928\\u093f\\u0937\\u094d\\u0915 \\u092c\\u093e\\u0917\\u091a \\u0915\\u0932  \\u092b\\u0930\\u0939 \\u0905\\u0916\\u094d\\u0924\\u0930  \\u0921\\u093e\\u092f \\u092a\\u0947\\u0902\\u091f  \\u0917\\u093f\\u092a\\u094d\\u092a \\u0917\\u094d\\u0930\\u0947\\u0935\\u093e\\u0932  \\u0930\\u094b\\u0928 \\u0930\\u0949\\u092f  \\u0926\\u0940\\u092a\\u0915 \\u0921\\u094b\\u092c\\u094d\\u0930\\u093f\\u092f\\u093e\\u0932  \\u0907\\u0928\\u093e\\u092e \\u0909\\u0932 \\u0939\\u0915  \\u0930\\u093e\\u091c\\u0947\\u0936 \\u0936\\u0930\\u094d\\u092e \\u0938\\u0947\\u0902\\u0938\\u0930 \\u0938\\u0930\\u094d\\u091f\\u093f\\u092b\\u093f\\u0915\\u0947\\u091f  \\u092f\\u0942\\u090f  2 \\u0918\\u0902\\u091f 27 \\u092e\\u093f\\u0928\\u091f \",\n          \"\\u092c\\u0948\\u0928\\u0930  \\u092d\\u0902\\u0921\\u093e\\u0930 \\u090f\\u0902\\u091f\\u0930\\u091f\\u0947\\u0928\\u092e\\u0947\\u0902\\u091f  \\u0935\\u093e\\u0907\\u0921 \\u092b\\u094d\\u0930\\u0947\\u092e \\u092a\\u093f\\u0915\\u094d\\u091a\\u0930\\u094d\\u0938 \\u0928\\u093f\\u0930\\u094d\\u092e  \\u0915\\u0941\\u092e\\u093e\\u0930 \\u092e\\u0902\\u0917\\u0924 \\u092a\\u093e\\u0920\\u0915  \\u092e\\u0927\\u0941\\u0930 \\u092d\\u0902\\u0921\\u093e\\u0930 \\u0928\\u093f\\u0930\\u094d\\u0926\\u0947\\u0936\\u0915  \\u092e\\u0927\\u0941\\u0930 \\u092d\\u0902\\u0921\\u093e\\u0930 \\u0938\\u0902\\u0917\\u0940\\u0924  \\u092a\\u094d\\u0930\\u0940\\u0924\\u092e \\u091a\\u0915\\u094d\\u0930\\u0935\\u0943 \\u0915\\u0932  \\u0905\\u091c\\u092f \\u0926\\u0947\\u0935\\u0917\\u0928  \\u0907\\u092e\\u0930 \\u0939\\u093e\\u0936\\u092e  \\u0913\\u092e \\u0935\\u0948\\u0926\\u094d\\u092f  \\u0936\\u094d\\u0930 \\u0939\\u093e\\u0938\\u0928  \\u0936\\u093e\\u091c \\u092a\\u0926\\u094d\\u092e\\u0938  \\u0936\\u094d\\u0930\\u0926\\u094d\\u0927 \\u0926\\u093e\\u0938  \\u091f\\u093f\\u0938\\u094d\\u0915 \\u091a\\u094b\\u092a\\u0921\\u093c  \\u0930\\u093f\\u0924\\u0941\\u092a\\u0930\\u094d\\u0923 \\u0938\\u0947\\u0928\\u0917\\u0941\\u092a\\u094d \\u0938\\u0947\\u0902\\u0938\\u0930 \\u0938\\u0930\\u094d\\u091f\\u093f\\u092b\\u093f\\u0915\\u0947\\u091f  \\u090f  2 \\u0918\\u0902\\u091f 28 \\u092e\\u093f\\u0928\\u091f  16 \\u0930\\u0940\\u0932 \\u0936\\u0941\\u0915\\u094d\\u0930 \\u0939\\u0948 \\u092e\\u0927\\u0941\\u0930 \\u092d\\u0902\\u0921\\u093e\\u0930 \\u091f\\u094d\\u0930\\u0947\\u0915 \\u092c\\u0926\\u0932 \\u0935\\u0930 \\u091c\\u0948\\u0938 \\u092b\\u093f\\u0932\\u094d\\u092e \\u092c\\u0928 \\u091f\\u093e\\u0907\\u092a\\u094d\\u0921 \\u0932\\u0917 \\u0925\\u0947\\u0964 \\u092a\\u093f\\u091b\\u0932 \\u092b\\u093f\\u0932\\u094d\\u092e \\u2018 \\u091c\\u0947\\u0932 \\u2019 \\u0915\\u0940 \\u0905\\u0938\\u092b\\u0932 \\u0909\\u0928\\u094d\\u0939\\u094b\\u0902 \\u0938\\u092c\\u0915 \\u0938\\u0940\\u0916 \\u092c\\u093e\\u0930 \\u0939\\u0932\\u094d\\u0915\\u0940\\u092b\\u0941\\u0932\\u094d\\u0915 \\u0930\\u094b\\u092e\\u093e\\u0902\\u091f\\u093f\\u0915 \\u092b\\u093f\\u0932\\u094d\\u092e \\u2018 \\u0926\\u093f\\u0932 \\u092c\\u091a\\u094d\\u091a \\u0939\\u0948 \\u091c\\u0940 \\u2019 \\u092c\\u0928\\u093e\\u0908\\u0964 \\u091c\\u094d\\u092f\\u093e\\u0926\\u093e\\u0924\\u0930 \\u0928\\u093f\\u0930\\u094d\\u0926\\u0947\\u0936\\u0915 \\u0915\\u092e\\u094d\\u092b\\u0930\\u094d\\u091f \\u091c\\u094b\\u0928 \\u092c\\u093e\\u0939\\u0930 \\u0906\\u0924 \\u092c\\u0947\\u0939\\u0924\\u0930 \\u092b\\u093f\\u0932\\u094d\\u092e \\u092c\\u0928 \\u092a\\u093e \\u0939\\u0948\\u0902\\u0964 \\u0928\\u092f \\u0915\\u0940 \\u0915\\u094b\\u0936\\u093f\\u0936 \\u092e\\u0947\\u0902 \\u092c\\u0939\\u0915 \\u091c\\u093e \\u0939\\u0948\\u0902\\u0964 \\u2018 \\u0926\\u093f\\u0932 \\u092c\\u091a\\u094d\\u091a \\u0939\\u0948 \\u091c\\u0940 \\u2019 \\u091c\\u0930\\u093f\\u092f \\u092e\\u0927\\u0941\\u0930 \\u092e\\u0939 \\u0930\\u091a \\u0915\\u0940 \\u0939\\u0948  \\u092b\\u093f\\u0932\\u094d\\u092e \\u0914\\u0938\\u0924 \\u092c\\u0947\\u0939\\u0924\\u0930 \\u0939\\u0948\\u0964 \\u0915\\u0908 \\u091c\\u0917\\u0939 \\u0938\\u094d\\u0915\\u094d\\u0930\\u093f\\u092a\\u094d\\u091f \\u092e\\u0947\\u0902 \\u0915\\u0938 \\u0915\\u0940 \\u091c\\u0930\\u0942\\u0930\\u0924 \\u092e\\u0939\\u0938\\u0942\\u0938 \\u0939\\u0948  \\u0938\\u092e\\u0917\\u094d\\u0930 \\u0930\\u0942\\u092a \\u092b\\u093f\\u0932\\u094d\\u092e \\u0926\\u0930\\u094d\\u0936\\u0915 \\u2018 \\u092b\\u0940\\u0932 \\u0917\\u0941\\u0921 \\u2019 \\u0905\\u0939\\u0938\\u093e\\u0938 \\u0915\\u0930 \\u0939\\u0948\\u0964 \\u092a\\u094d\\u092f\\u093e\\u0930 \\u092e\\u093e\\u092f \\u0938\\u092c\\u0915 \\u0905\\u0932\\u0917\\u0905\\u0932\\u0917 \\u0939\\u0948\\u0902\\u0964 \\u0938\\u0947\\u0915\\u094d\\u0938 \\u092a\\u094d\\u092f\\u093e\\u0930 \\u0938\\u092e\\u091d \\u092c\\u0948\\u0920 \\u0939\\u0948\\u0964 \\u0926\\u093f\\u0932 \\u092d\\u0930 \\u092a\\u0942\\u0930 \\u091c\\u093f\\u0902\\u0926\\u0917 \\u0928\\u094d\\u092f\\u094c\\u091b\\u093e\\u0935\\u0930 \\u0926\\u0947 \\u0939\\u0948\\u0964 \\u0907\\u0938\\u0915 \\u0906\\u0927\\u093e\\u0930 \\u092c\\u0928 \\u092e\\u0927\\u0941\\u0930 \\u092d\\u0902\\u0921\\u093e\\u0930  \\u0928\\u0940\\u0930\\u091c \\u0909\\u0921\\u0935 \\u0905\\u0928\\u093f\\u0932 \\u092a\\u093e\\u0902\\u0921 \\u2018 \\u0926\\u093f\\u0932 \\u092c\\u091a\\u094d\\u091a \\u0939\\u0948 \\u091c\\u0940 \\u2019 \\u0915\\u0940 \\u0915\\u0939 \\u0938\\u094d\\u0915\\u094d\\u0930\\u0940\\u0928\\u092a\\u094d\\u0932 \\u0932\\u093f\\u0916 \\u0939\\u0948\\u0964 \\u0935\\u0930\\u094d\\u0937 \\u0928\\u0930\\u0947\\u0928 \\u0906\\u0939\\u0942\\u091c  \\u0905\\u091c\\u092f \\u0926\\u0947\\u0935\\u0917\\u0928  \\u0935\\u0948\\u0935\\u093e\\u0939\\u093f\\u0915 \\u091c\\u0940\\u0935\\u0928 \\u0905\\u0938\\u092b\\u0932 \\u0930\\u0939\\u093e\\u0964 \\u092a\\u0924\\u094d \\u0924\\u0932\\u093e\\u0915 \\u0932\\u0947 \\u0939\\u0948\\u0964 \\u092c\\u0940\\u091a \\u0909\\u092e\\u094d\\u0930 \\u092e\\u0947\\u0902 \\u0906\\u0927 \\u091c\\u0942\\u0928 \\u092a\\u093f\\u0902\\u091f  \\u0936\\u093e\\u091c \\u092a\\u0926\\u094d\\u092e\\u0938  \\u0915\\u0940 \\u0913\\u0930 \\u0906\\u0915\\u0930\\u094d\\u0937 \\u0932\\u0917 \\u0939\\u0948\\u0964 \\u091c\\u0942\\u0928 \\u0906\\u091c \\u0915\\u0940 \\u091c\\u0928\\u0930\\u0947\\u0936\\u0928 \\u0939\\u0948  \\u0926\\u093f\\u0932 \\u0915\\u0940 \\u092c\\u093e\\u0924 \\u092c\\u093f\\u0902\\u0926\\u093e\\u0938 \\u0924\\u0930\\u0940\\u0915 \\u0936\\u0947\\u092f\\u0930 \\u0915\\u0930 \\u0939\\u0948\\u0964 \\u092c\\u0949\\u0938 \\u0928\\u0930\\u0947\\u0928 \\u092a\\u0942\\u091b \\u092c\\u0948\\u0920 \\u0939\\u0948 \\u0909\\u0938 \\u092a\\u0939\\u0932 \\u092c\\u093e\\u0930 \\u0938\\u0947\\u0915\\u094d\\u0938 \\u0909\\u092e\\u094d\\u0930 \\u092e\\u0947\\u0902 \\u0925\\u093e\\u0964 \\u0928\\u0930\\u0947\\u0928 \\u092c\\u093f\\u0902\\u0926\\u093e\\u0938 \\u092a\\u094d\\u092f\\u093e\\u0930 \\u0938\\u092e\\u091d \\u092c\\u0948\\u0920 \\u0939\\u0948\\u0964 \\u0928\\u0930\\u0947\\u0928 \\u092a\\u0947\\u0907\\u0902\\u0917 \\u0917\\u0947\\u0938\\u094d\\u091f  \\u092e\\u093f\\u0932\\u093f\\u0902\\u0926 \\u0915\\u0947\\u0932  \\u0913\\u092e \\u0935\\u0948\\u0926\\u094d\\u092f  \\u0905\\u092d\\u092f  \\u0907\\u092e\\u0930 \\u0939\\u093e\\u0936\\u092e  \\u0964 \\u092e\\u093f\\u0932\\u093f\\u0902\\u0926 \\u092a\\u094d\\u092f\\u093e\\u0930 \\u092e\\u093e\\u092f \\u0936\\u093e\\u0926 \\u092a\\u0930\\u093f\\u0935\\u093e\\u0930\\u0964 \\u092c\\u093e\\u0924 \\u092e\\u0924\\u0932\\u092c \\u0939\\u0948 \\u0917\\u0941\\u0928\\u0917\\u0941\\u0928  \\u0936\\u094d\\u0930\\u0926\\u094d\\u0927 \\u0926\\u093e\\u0938  \\u091a\\u093e\\u0939 \\u0939\\u0948  \\u092d\\u0932 \\u0917\\u0941\\u0928\\u0917\\u0941\\u0928 \\u0909\\u0938\\u0915 \\u092a\\u0948\\u0938 \\u0909\\u092a\\u092f\\u094b\\u0917 \\u0915\\u0930 \\u0939\\u0948\\u0964 \\u0938\\u091a\\u094d\\u091a \\u092a\\u094d\\u092f\\u093e\\u0930 \\u092e\\u093e\\u092f \\u0930\\u0916 \\u0939\\u0948\\u0964 \\u0905\\u092d\\u092f \\u0915\\u0940 \\u091c\\u093f\\u0902\\u0926\\u0917 \\u0924\\u0940\\u0928 \\u2018 \\u090f\\u092b \\u2019 \\u0907\\u0930\\u094d\\u0926\\u0917\\u093f\\u0930\\u094d\\u0926 \\u0918\\u0942\\u092e \\u0939\\u0948\\u0964 \\u092b\\u0928  \\u092b\\u094d\\u0932\\u0930\\u094d\\u091f\\u093f\\u0902\\u0917  \\u0964 \\u0909\\u0938\\u0915 \\u091c\\u093f\\u0902\\u0926\\u0917 \\u0906\\u0926\\u0930\\u094d\\u0936 \\u0935\\u093e\\u0915\\u094d\\u092f \\u0939\\u0948 \\u0938\\u094b \\u0938\\u094b \\u0926\\u094b\\u0964 \\u092a\\u094d\\u092f\\u093e\\u0930\\u0935\\u094d\\u092f\\u093e\\u0930 \\u092c\\u0947 \\u0915\\u0940 \\u092c\\u093e\\u0924 \\u0925\\u0940\\u0902  \\u0928\\u093f\\u0915\\u094d\\u0915  \\u0936\\u094d\\u0930 \\u0939\\u093e\\u0938\\u0928  \\u092e\\u093f\\u0932 \\u0939\\u0948\\u0964 \\u0924\\u0940\\u0928 \\u0915\\u0940 \\u092a\\u094d\\u092f\\u093e\\u0930 \\u0915\\u0940 \\u0917\\u093e\\u0921\\u093c \\u092e\\u0902\\u091c\\u093f\\u0932 \\u092a\\u0939\\u0941\\u0901\\u091a \\u092a\\u093e \\u0939\\u0948  \\u092b\\u093f\\u0932\\u094d\\u092e \\u092e\\u0947\\u0902 \\u0939\\u0932\\u094d\\u0915\\u0947\\u092b\\u0941\\u0932\\u094d\\u0915 \\u0924\\u0930\\u0940\\u0915 \\u0926\\u093f\\u0916 \\u0939\\u0948\\u0964 \\u0915\\u0939 \\u092e\\u0947\\u0902 \\u0939\\u093e\\u0938\\u094d\\u092f \\u0915\\u0940 \\u092d\\u0930\\u092a\\u0942\\u0930 \\u0917\\u0941\\u0902\\u091c\\u093e\\u0907\\u0936  \\u0924\\u0940\\u0928 \\u0932\\u0947\\u0916\\u0915 \\u092e\\u093f\\u0932 \\u092a\\u0942\\u0930 \\u0909\\u092a\\u092f\\u094b\\u0917 \\u092a\\u093e\\u090f\\u0964 \\u0915\\u0908 \\u091c\\u0917\\u0939 \\u092b\\u093f\\u0932\\u094d\\u092e \\u0918\\u0938\\u0940\\u091f \\u0906\\u0917 \\u092c\\u0922\\u093c \\u0939\\u0948  \\u0916\\u093e\\u0938 \\u0939\\u093e\\u092b \\u092e\\u0947\\u0902\\u0964 \\u0924\\u0940\\u0928 \\u0915\\u0948\\u0930\\u0947\\u0915\\u094d\\u091f\\u0930\\u094d\\u0938 \\u0938\\u094d\\u0925\\u093e\\u092a \\u092e\\u0947\\u0902 \\u091c\\u0930\\u0942\\u0930\\u0924 \\u091c\\u094d\\u092f\\u093e\\u0926 \\u0938\\u092e\\u092f \\u0932\\u093f \\u0939\\u0948\\u0964 \\u092c\\u093e\\u0935\\u091c\\u0942\\u0926 \\u0909\\u0928\\u094d\\u0939\\u094b\\u0902 \\u092a\\u0947\\u0936 \\u0939\\u0948  \\u0905\\u091a\\u094d\\u091b \\u0932\\u0917 \\u0939\\u0948\\u0964 \\u0938\\u0902\\u091c\\u092f \\u091b\\u0948\\u0932 \\u0932\\u093f\\u0916 \\u0917\\u090f \\u2018 \\u0906\\u091c\\u0915\\u0932 \\u0939\\u094b\\u0932\\u0938\\u0947\\u0932 \\u092e\\u0947\\u0902 \\u092c\\u0948\\u0921\\u0932\\u0915 \\u091a\\u0932 \\u0939\\u0948 \\u2019 \\u091a\\u0941\\u091f\\u0940\\u0932 \\u0938\\u0902\\u0935\\u093e\\u0926 \\u0915\\u0908 \\u091c\\u0917\\u0939 \\u0917\\u0941\\u0926\\u0917\\u0941\\u0926 \\u0939\\u0948\\u0902\\u0964 \\u0905\\u091c\\u092f \\u0936\\u093e\\u091c \\u0915\\u0940 \\u0915\\u0939 \\u091c\\u094d\\u092f\\u093e\\u0926 \\u0926\\u093f\\u0932\\u091a\\u0938\\u094d\\u092a \\u0939\\u0948 \\u0917\\u0941\\u0926\\u0917\\u0941\\u0926 \\u0939\\u0948\\u0964 \\u0928\\u093f\\u0930\\u094d\\u0926\\u0947\\u0936\\u0915 \\u092e\\u0927\\u0941\\u0930 \\u092a\\u094d\\u092f\\u093e\\u0930 \\u0932\\u0947 \\u0905\\u0932\\u0917\\u0905\\u0932\\u0917 \\u0926\\u0943\\u0937\\u094d\\u091f\\u093f\\u0915\\u094b\\u0923 \\u0915\\u0948\\u0930\\u0947\\u0915\\u094d\\u091f\\u0930 \\u091c\\u0930\\u093f\\u092f \\u0938\\u093e\\u092e \\u0930\\u0916 \\u0939\\u0948\\u0964 \\u0924\\u0940\\u0928 \\u092b\\u0940\\u092e\\u0947\\u0932 \\u0915\\u0948\\u0930\\u0947\\u0915\\u094d\\u091f\\u0930\\u094d\\u0938 \\u092c\\u0947\\u0939\\u0926 \\u092a\\u094d\\u0930\\u0947\\u0915\\u094d\\u091f\\u093f\\u0915\\u0932 \\u092c\\u094b\\u0932\\u094d\\u0921 \\u0939\\u0948\\u0902\\u0964 \\u0905\\u092d\\u092f \\u0928\\u093f\\u0915\\u094d\\u0915 \\u0930\\u093e\\u0924 \\u0917\\u0941\\u091c\\u093e\\u0930 \\u0939\\u0948 \\u0938\\u0947\\u0915\\u094d\\u0938 \\u0932\\u0947 \\u0905\\u0938\\u0939\\u091c \\u0939\\u094b\\u0924\\u0940\\u0964 \\u0917\\u0941\\u0928\\u0917\\u0941\\u0928 \\u0938\\u094d\\u0935\\u093e\\u0930\\u094d\\u0925 \\u0915\\u0940 \\u0916\\u093e\\u0924\\u093f\\u0930 \\u092e\\u093f\\u0932\\u093f\\u0902\\u0926 \\u091c\\u092e \\u0936\\u094b\\u0937\\u0923 \\u0915\\u0930 \\u0939\\u0948\\u0964 \\u0928\\u093f\\u0930\\u094d\\u0926\\u0947\\u0936\\u0915 \\u0930\\u0942\\u092a \\u092e\\u0947\\u0902 \\u092e\\u0927\\u0941\\u0930 \\u0915\\u0939 \\u092a\\u0947\\u0936 \\u0939\\u0948 \\u0909\\u0924\\u094d\\u0938\\u0941\\u0915 \\u0930\\u0939 \\u0939\\u0948\\u0964 \\u0939\\u093e\\u0932\\u093e\\u0901\\u0915 \\u0915\\u0908 \\u091c\\u0917\\u0939 \\u0926\\u094b\\u0939\\u0930 \\u0926\\u0947\\u0916 \\u092e\\u093f\\u0932 \\u0939\\u0948\\u0964 \\u092b\\u093f\\u0932\\u094d\\u092e \\u0915\\u0940 \\u0932\\u0902\\u092c \\u091c\\u094d\\u092f\\u093e\\u0926 \\u0939\\u0948 \\u0905\\u0902\\u0924 \\u092a\\u0930\\u092b\\u0947\\u0915\\u094d\\u091f \\u0939\\u0948\\u0964 \\u0905\\u092d\\u093f\\u0928\\u092f \\u092b\\u093f\\u0932\\u094d\\u092e \\u0938\\u0936\\u0915\\u094d\\u0924 \\u092a\\u0939 \\u0939\\u0948\\u0964 \\u0905\\u091c\\u092f \\u0926\\u0947\\u0935\\u0917\\u0928 \\u0909\\u092e\\u094d\\u0930 \\u0906\\u0927 \\u0932\\u0921\\u093c\\u0915 \\u091a\\u093e\\u0939 \\u0915\\u0940 \\u0905\\u0938\\u0939\\u091c \\u092c\\u0947\\u0939\\u0924\\u0930 \\u0924\\u0930\\u0940\\u0915 \\u092a\\u0947\\u0936 \\u0939\\u0948\\u0964 \\u0936\\u093e\\u091c \\u092a\\u0926\\u094d\\u092e\\u0938 \\u092b\\u093f\\u0932\\u094d\\u092e \\u0938\\u0930\\u092a\\u094d\\u0930\\u093e\\u0907\\u091c \\u0939\\u0948\\u0964 \\u0916\\u0942\\u092c\\u0938\\u0942\\u0930\\u0924 \\u092e\\u093e\\u0938\\u0942\\u092e \\u091a\\u0947\\u0939\\u0930 \\u0928\\u093f\\u0930\\u094d\\u0926\\u0947\\u0936\\u0915 \\u091c\\u092e \\u0909\\u092a\\u092f\\u094b\\u0917 \\u0939\\u0948\\u0964 \\u0936\\u093e\\u091c \\u0905\\u092d\\u093f\\u0928\\u092f \\u0909\\u0932\\u094d\\u0932\\u0947\\u0916 \\u0939\\u0948 \\u092b\\u093f\\u0932\\u094d\\u092e \\u092c\\u0947\\u0939\\u0924\\u0930 \\u092e\\u094c\\u0915 \\u092e\\u093f\\u0932 \\u0939\\u0948\\u0902\\u0964 \\u0907\\u092e\\u0930 \\u0939\\u093e\\u0936\\u092e \\u0932\\u0902\\u092a\\u091f \\u0935\\u094d\\u092f\\u0915\\u094d \\u0915\\u093f\\u0930\\u0926\\u093e\\u0930 \\u0928\\u093f\\u092d \\u0939\\u092e\\u0947\\u0936 \\u0906\\u0938 \\u0939\\u0948\\u0964 \\u092b\\u093f\\u0932\\u094d\\u092e \\u092e\\u0947\\u0902 \\u0905\\u092d\\u093f\\u0928\\u092f \\u092e\\u0947\\u0902 \\u0938\\u0941\\u0927\\u093e\\u0930 \\u0928\\u091c\\u0930 \\u0906\\u0924 \\u0939\\u0948\\u0964 \\u0913\\u092e \\u0935\\u0948\\u0926\\u094d\\u092f \\u2018 3 \\u0907\\u0921\\u093f\\u092f\\u091f\\u094d\\u0938 \\u2019 \\u0909\\u0920 \\u0938\\u0940\\u0927 \\u2018 \\u0926\\u093f\\u0932 \\u092c\\u091a\\u094d\\u091a \\u0939\\u0948 \\u091c\\u0940 \\u2019 \\u092e\\u0947\\u0902 \\u091a\\u0932 \\u0906\\u090f \\u0939\\u0948\\u0902\\u0964 \\u0936\\u094d\\u0930 \\u0939\\u093e\\u0938\\u0928 \\u092e\\u0947\\u0902 \\u0906\\u0924\\u094d\\u092e\\u0935\\u093f\\u0936\\u094d \\u0928\\u091c\\u0930 \\u0906\\u092f \\u0936\\u094d\\u0930\\u0926\\u094d\\u0927 \\u0926\\u093e\\u0938 \\u092a\\u094d\\u0930\\u092d\\u093e\\u0935 \\u0915\\u0930 \\u0939\\u0948\\u0902\\u0964 \\u092a\\u094d\\u0930\\u0940\\u0924\\u092e \\u0938\\u0902\\u0917\\u0940\\u0924 \\u092e\\u0927\\u0941\\u0930 \\u0939\\u0948  \\u0939\\u093f\\u091f \\u0917\\u0940\\u0924 \\u0915\\u0940 \\u0915\\u092e \\u0916\\u0932 \\u0939\\u0948\\u0964 \\u0939\\u093f\\u091f \\u0917\\u093e \\u092b\\u093f\\u0932\\u094d\\u092e \\u092e\\u0926\\u0926 \\u0938\\u093e\\u092c \\u0925\\u0947\\u0964 \\u0926\\u093f\\u0928 \\u091c\\u093e\\u0926\\u0942\\u0917\\u0930 \\u0905\\u091a\\u094d\\u091b \\u092c\\u0928 \\u092a\\u0921\\u093c \\u0939\\u0948\\u0902\\u0964 \\u092e\\u093f\\u0932 \\u0915\\u092e \\u092c\\u093e\\u0935\\u091c\\u0942\\u0926 \\u2018 \\u0926\\u093f\\u0932 \\u092c\\u091a\\u094d\\u091a \\u0939\\u0948 \\u091c\\u0940 \\u2019 \\u0930\\u094b\\u091a\\u0915 \\u0939\\u0948\\u0964 \"\n        ],\n        \"num_unique_values\": 718,\n        \"semantic_type\": \"\",\n        \"description\": \"\"\n      }\n    },\n    {\n      \"column\": \"experience\",\n      \"properties\": {\n        \"dtype\": \"number\",\n        \"std\": 0,\n        \"min\": 0,\n        \"max\": 2,\n        \"samples\": [\n          2,\n          0,\n          1\n        ],\n        \"num_unique_values\": 3,\n        \"semantic_type\": \"\",\n        \"description\": \"\"\n      }\n    }\n  ]\n}"
            }
          },
          "metadata": {},
          "execution_count": 29
        }
      ]
    },
    {
      "cell_type": "code",
      "source": [
        "# Renaming\n",
        "data.rename(columns = {'stemmed':'review'}, inplace = True)\n",
        "#data.rename(columns = {'review':'stemmed'}, inplace = True)"
      ],
      "metadata": {
        "id": "UP0cCbckQbHU"
      },
      "execution_count": null,
      "outputs": []
    },
    {
      "cell_type": "code",
      "source": [
        "data.head(1)"
      ],
      "metadata": {
        "colab": {
          "base_uri": "https://localhost:8080/",
          "height": 81
        },
        "id": "6Rprn8uEQlkJ",
        "outputId": "38249a9d-29f0-4f71-cd3b-4cb838b1612a"
      },
      "execution_count": null,
      "outputs": [
        {
          "output_type": "execute_result",
          "data": {
            "text/plain": [
              "                                              review  experience\n",
              "0  चंद्रमोहन शर्म कोप्रड्यूसर लीड ऐक्टर अक्षय कुम...           2"
            ],
            "text/html": [
              "\n",
              "  <div id=\"df-39a6257f-80db-480a-a4d1-04d81c5f6d70\" class=\"colab-df-container\">\n",
              "    <div>\n",
              "<style scoped>\n",
              "    .dataframe tbody tr th:only-of-type {\n",
              "        vertical-align: middle;\n",
              "    }\n",
              "\n",
              "    .dataframe tbody tr th {\n",
              "        vertical-align: top;\n",
              "    }\n",
              "\n",
              "    .dataframe thead th {\n",
              "        text-align: right;\n",
              "    }\n",
              "</style>\n",
              "<table border=\"1\" class=\"dataframe\">\n",
              "  <thead>\n",
              "    <tr style=\"text-align: right;\">\n",
              "      <th></th>\n",
              "      <th>review</th>\n",
              "      <th>experience</th>\n",
              "    </tr>\n",
              "  </thead>\n",
              "  <tbody>\n",
              "    <tr>\n",
              "      <th>0</th>\n",
              "      <td>चंद्रमोहन शर्म कोप्रड्यूसर लीड ऐक्टर अक्षय कुम...</td>\n",
              "      <td>2</td>\n",
              "    </tr>\n",
              "  </tbody>\n",
              "</table>\n",
              "</div>\n",
              "    <div class=\"colab-df-buttons\">\n",
              "\n",
              "  <div class=\"colab-df-container\">\n",
              "    <button class=\"colab-df-convert\" onclick=\"convertToInteractive('df-39a6257f-80db-480a-a4d1-04d81c5f6d70')\"\n",
              "            title=\"Convert this dataframe to an interactive table.\"\n",
              "            style=\"display:none;\">\n",
              "\n",
              "  <svg xmlns=\"http://www.w3.org/2000/svg\" height=\"24px\" viewBox=\"0 -960 960 960\">\n",
              "    <path d=\"M120-120v-720h720v720H120Zm60-500h600v-160H180v160Zm220 220h160v-160H400v160Zm0 220h160v-160H400v160ZM180-400h160v-160H180v160Zm440 0h160v-160H620v160ZM180-180h160v-160H180v160Zm440 0h160v-160H620v160Z\"/>\n",
              "  </svg>\n",
              "    </button>\n",
              "\n",
              "  <style>\n",
              "    .colab-df-container {\n",
              "      display:flex;\n",
              "      gap: 12px;\n",
              "    }\n",
              "\n",
              "    .colab-df-convert {\n",
              "      background-color: #E8F0FE;\n",
              "      border: none;\n",
              "      border-radius: 50%;\n",
              "      cursor: pointer;\n",
              "      display: none;\n",
              "      fill: #1967D2;\n",
              "      height: 32px;\n",
              "      padding: 0 0 0 0;\n",
              "      width: 32px;\n",
              "    }\n",
              "\n",
              "    .colab-df-convert:hover {\n",
              "      background-color: #E2EBFA;\n",
              "      box-shadow: 0px 1px 2px rgba(60, 64, 67, 0.3), 0px 1px 3px 1px rgba(60, 64, 67, 0.15);\n",
              "      fill: #174EA6;\n",
              "    }\n",
              "\n",
              "    .colab-df-buttons div {\n",
              "      margin-bottom: 4px;\n",
              "    }\n",
              "\n",
              "    [theme=dark] .colab-df-convert {\n",
              "      background-color: #3B4455;\n",
              "      fill: #D2E3FC;\n",
              "    }\n",
              "\n",
              "    [theme=dark] .colab-df-convert:hover {\n",
              "      background-color: #434B5C;\n",
              "      box-shadow: 0px 1px 3px 1px rgba(0, 0, 0, 0.15);\n",
              "      filter: drop-shadow(0px 1px 2px rgba(0, 0, 0, 0.3));\n",
              "      fill: #FFFFFF;\n",
              "    }\n",
              "  </style>\n",
              "\n",
              "    <script>\n",
              "      const buttonEl =\n",
              "        document.querySelector('#df-39a6257f-80db-480a-a4d1-04d81c5f6d70 button.colab-df-convert');\n",
              "      buttonEl.style.display =\n",
              "        google.colab.kernel.accessAllowed ? 'block' : 'none';\n",
              "\n",
              "      async function convertToInteractive(key) {\n",
              "        const element = document.querySelector('#df-39a6257f-80db-480a-a4d1-04d81c5f6d70');\n",
              "        const dataTable =\n",
              "          await google.colab.kernel.invokeFunction('convertToInteractive',\n",
              "                                                    [key], {});\n",
              "        if (!dataTable) return;\n",
              "\n",
              "        const docLinkHtml = 'Like what you see? Visit the ' +\n",
              "          '<a target=\"_blank\" href=https://colab.research.google.com/notebooks/data_table.ipynb>data table notebook</a>'\n",
              "          + ' to learn more about interactive tables.';\n",
              "        element.innerHTML = '';\n",
              "        dataTable['output_type'] = 'display_data';\n",
              "        await google.colab.output.renderOutput(dataTable, element);\n",
              "        const docLink = document.createElement('div');\n",
              "        docLink.innerHTML = docLinkHtml;\n",
              "        element.appendChild(docLink);\n",
              "      }\n",
              "    </script>\n",
              "  </div>\n",
              "\n",
              "\n",
              "    </div>\n",
              "  </div>\n"
            ],
            "application/vnd.google.colaboratory.intrinsic+json": {
              "type": "dataframe",
              "variable_name": "data",
              "summary": "{\n  \"name\": \"data\",\n  \"rows\": 718,\n  \"fields\": [\n    {\n      \"column\": \"review\",\n      \"properties\": {\n        \"dtype\": \"string\",\n        \"samples\": [\n          \"\\u092c\\u0949\\u0932\\u093f\\u0935\\u0941\\u0921 \\u092e\\u0947\\u0902 \\u0906\\u091c\\u0915\\u0932 \\u0939\\u0949\\u0930\\u0930 \\u092b\\u093f\\u0932\\u094d\\u092e \\u0928\\u093e\\u092e \\u0938\\u093f\\u0930\\u094d\\u092b 1920 \\u0938\\u0940\\u0930\\u0940\\u091c \\u0915\\u0940 \\u092b\\u093f\\u0932\\u094d\\u092e \\u0906\\u0924 \\u0939\\u0948\\u0902\\u0964 \\u092e\\u0947\\u0902 \\u092d\\u093e\\u0930\\u0924 \\u0926\\u0930\\u094d\\u0936\\u0915 \\u092a\\u093e\\u0938 \\u0939\\u0949\\u0930\\u0930 \\u092b\\u093f\\u0932\\u094d\\u092e \\u0928\\u093e\\u092e \\u0938\\u093f\\u0930\\u094d\\u092b \\u0939\\u0949\\u0932\\u093f\\u0935\\u0941\\u0921 \\u0915\\u0940 \\u0939\\u0949\\u0930\\u0930 \\u092b\\u093f\\u0932\\u094d\\u092e \\u0926\\u0947\\u0916 \\u0911\\u092a\\u094d\\u0936\\u0928 \\u0939\\u0948\\u0964 \\u092c\\u0947\\u0936\\u0915 \\u0935\\u0939 \\u0936\\u0948\\u0924 \\u091c\\u0941\\u095c \\u0922\\u0947\\u0930 \\u0915\\u093f\\u0938\\u094d\\u0938  \\u0939\\u0949\\u0932\\u093f\\u0935\\u0941\\u0921 \\u0928\\u093f\\u0930\\u094d\\u092e \\u0905\\u0915\\u094d\\u0938\\u0930 \\u092b\\u093f\\u0932\\u094d\\u092e \\u092c\\u0928 \\u0930\\u0939 \\u0939\\u0948\\u0902\\u0964 \\u0939\\u0949\\u0932\\u093f\\u0935\\u0941\\u0921 \\u0915\\u0940 \\u091a\\u0930\\u094d\\u091a \\u0939\\u0949\\u0930\\u0930 \\u092b\\u093f\\u0932\\u094d\\u092e \\u092e\\u0947\\u0902 \\u0915\\u0902\\u091c\\u094d\\u092f\\u0942\\u0930\\u093f\\u0902\\u0917 \\u0938\\u0940\\u0930\\u0940\\u091c\\u093c \\u0915\\u0940 \\u092b\\u093f\\u0932\\u094d\\u092e \\u0926\\u0930\\u094d\\u0936\\u0915 \\u0915\\u093e\\u092b \\u092a\\u0938\\u0902\\u0926 \\u0939\\u0948\\u0964  \\u0926 \\u0928\\u0928  \\u0915\\u0902\\u091c\\u094d\\u092f\\u0942\\u0930\\u093f\\u0902\\u0917 \\u0938\\u0940\\u0930\\u0940\\u091c\\u093c \\u0915\\u0940 \\u0905\\u0917\\u0932 \\u092b\\u093f\\u0932\\u094d\\u092e \\u0939\\u0948  \\u0938\\u0940\\u0930\\u0940\\u091c \\u0959\\u094c\\u092b \\u0915\\u093f\\u0938\\u094d\\u0938 \\u092c\\u0924 \\u0939\\u0948\\u0964 \\u092b\\u093f\\u0932\\u094d\\u092e \\u0915\\u094d\\u0930\\u0947\\u091c \\u0906\\u0907\\u0921 \\u092c\\u093e\\u0924 \\u0932\\u0917 \\u0939\\u0948  \\u0926 \\u0928\\u0928  \\u0938\\u0941\\u092c\\u0939 \\u0936\\u094b \\u0939\\u093e\\u0909\\u0938\\u092b\\u0941\\u0932 \\u0925\\u093e\\u0964\\u0907\\u0938 \\u092b\\u093f\\u0932\\u094d\\u092e \\u0915\\u0940 \\u0915\\u0939 \\u0915\\u0940 \\u0936\\u0941\\u0930\\u0941\\u0906\\u0924 1952 \\u092e\\u0947\\u0902 \\u0930\\u094b\\u092e\\u093e\\u0928 \\u0938\\u0948\\u0902\\u091f \\u0915\\u093e\\u0930\\u094d\\u091f \\u092e\\u0947\\u0902 \\u0910\\u092c  \\u0910\\u0938 \\u091c\\u0917\\u0939 \\u091c\\u0939 \\u0928\\u0928 \\u0930\\u0939  \\u0925\\u0940\\u0964 \\u092e\\u093e \\u091c\\u093e \\u0939\\u0948 \\u0910\\u092c \\u0926\\u0930\\u0935\\u093e\\u091c \\u092e\\u0947\\u0902 \\u0936\\u0948\\u0924 \\u0930\\u0939 \\u0939\\u0948 \\u0909\\u0938\\u0938 \\u0906\\u0917 \\u0917\\u0949\\u0921 \\u0930\\u093e\\u091c \\u0939\\u0948\\u0964 \\u0935\\u091c\\u0939 \\u0906\\u0938\\u092a\\u093e\\u0938 \\u0932\\u094b\\u0917 \\u0909\\u0938\\u0938 \\u0926\\u0942\\u0930 \\u0930\\u0939 \\u0939\\u0948\\u0902\\u0964 \\u0926\\u093f\\u0928 \\u0928\\u0928 \\u0926\\u0930\\u0935\\u093e\\u091c \\u0917\\u0908 \\u0936\\u0948\\u0924 \\u0939\\u093e\\u0925 \\u092e\\u093e\\u0930 \\u0917\\u0908  \\u091c\\u092c\\u0915 \\u0926\\u0942\\u0938\\u0930 \\u0928\\u0928 \\u0936\\u0948\\u0924 \\u092c\\u091a \\u0915\\u0940 \\u0917\\u0908 \\u092a\\u094d\\u0932\\u093e\\u0928\\u093f\\u0902\\u0917 \\u0924\\u0939\\u0924 \\u092b\\u093e\\u0902\\u0938 \\u0932\\u0917 \\u0932\\u0940\\u0964 \\u0909\\u0938\\u0915 \\u0932\\u093e\\u0936 \\u0935\\u0939 \\u0938\\u092c\\u094d\\u091c \\u0932\\u093e \\u0906\\u0926\\u092e \\u092e\\u094b\\u0930\\u093f\\u0938 \\u092e\\u093f\\u0932\\u0940\\u0964 \\u0916\\u092c\\u0930 \\u092b\\u0948\\u0932  \\u0935\\u0948\\u091f\\u093f\\u0915\\u0928 \\u091c\\u093e\\u0902\\u091a \\u0926\\u0932 \\u0917\\u0920 \\u0915\\u093f\\u092f\\u093e\\u0964 \\u0909\\u0938\\u092e \\u092a\\u093e\\u0926\\u0930 \\u092b\\u093e\\u0926\\u0930 \\u090f\\u0902\\u0925 \\u092c\\u0941\\u0930\\u094d\\u0915  \\u0921\\u0947\\u092e\\u093f\\u092f\\u0928 \\u092c\\u093f\\u0939\\u093f\\u0930  \\u0928\\u0928 \\u0938\\u093f\\u0938\\u094d\\u091f\\u0930 \\u0907\\u0930  \\u091f\\u0947\\u0938 \\u092b\\u093e\\u0930\\u094d\\u092e\\u093f\\u0917  \\u091c\\u093f\\u0938 \\u0936\\u092a\\u0925 \\u0932\\u0940  \\u0930\\u094b\\u092e\\u093e\\u0928 \\u092d\\u0947\\u091c\\u093e\\u0964 \\u0926\\u094b\\u0928 \\u0938\\u092c\\u094d\\u091c \\u0935\\u0939 \\u091c\\u093e \\u0939\\u0948\\u0902\\u0964 \\u092b\\u093e\\u0926\\u0930 \\u090f\\u0902\\u0925 \\u092a\\u093e\\u0926\\u0930  \\u0905\\u0915\\u094d\\u0938\\u0930 \\u0910\\u0938 \\u0918\\u091f \\u0915\\u0940 \\u091c\\u093e\\u0902\\u091a \\u0939\\u0948\\u0902\\u0964 \\u0935\\u0939 \\u0926\\u094b\\u0928 \\u0905\\u091c\\u0940\\u092c\\u0905\\u091c\\u0940\\u092c \\u0918\\u091f  \\u0939\\u093f\\u092e\\u094d\\u092e\\u0924 \\u0939\\u093e\\u0930 \\u0930\\u0939\\u0938\\u094d\\u092f\\u092e\\u092f \\u0910\\u092c \\u091c\\u0941\\u095c \\u0930\\u0939\\u0938\\u094d\\u092f \\u0916\\u0941\\u0932\\u093e\\u0938 \\u092b\\u0948\\u0938\\u0932 \\u0939\\u0948\\u0902\\u0964 \\u0938\\u092c\\u094d\\u091c \\u092c\\u0947\\u091a \\u0935\\u093e\\u0932 \\u092e\\u094b\\u0930\\u093f\\u0938 \\u0926\\u094b\\u0928 \\u0926\\u0947 \\u092b\\u0948\\u0938\\u0932 \\u0939\\u0948\\u0964 \\u0915\\u094d \\u092b\\u093e\\u0926\\u0930 \\u0938\\u093f\\u0938\\u094d\\u091f\\u0930 \\u0910\\u092c \\u0936\\u0948\\u0924 \\u0915\\u093e\\u092c \\u092a\\u093e  \\u0906\\u0916\\u093f\\u0930 \\u0959\\u094c\\u092b \\u0910\\u092c \\u0930\\u093e\\u091c \\u0915\\u094d \\u0939\\u0948  \\u0959\\u094c\\u092b \\u0938\\u0935\\u093e\\u0932 \\u091c\\u0935\\u093e\\u092c \\u0906\\u092a\\u0915 \\u0925\\u093f\\u0905\\u091f\\u0930 \\u091c\\u093e \\u092e\\u093f\\u0932 \\u092a\\u093e\\u090f\\u0917\\u093e\\u0964\\u0939\\u0949\\u0932\\u093f\\u0935\\u0941\\u0921 \\u0915\\u0940 \\u0924\\u092e\\u093e\\u092e \\u0939\\u0949\\u0930\\u0930 \\u092b\\u093f\\u0932\\u094d\\u092e \\u0915\\u0940 \\u092b\\u093f\\u0932\\u094d\\u092e \\u092e\\u0947\\u0902 \\u0936\\u0948\\u0924 \\u091a\\u0930\\u094d\\u091a \\u0915\\u0940 \\u091c\\u0902\\u0917 \\u0926\\u093f\\u0916 \\u0917\\u0908 \\u0939\\u0948\\u0964 \\u0939\\u093e\\u0932\\u093e\\u0902\\u0915  \\u092c\\u093e\\u0930 \\u091a\\u0930\\u094d\\u091a \\u0915\\u0940 \\u0913\\u0930 \\u092e\\u094b\\u0930\\u094d\\u091a \\u092a\\u093e\\u0926\\u0930 \\u0915\\u0940 \\u092c\\u091c\\u093e\\u092f \\u0928\\u0928 \\u0938\\u0902\\u092d\\u093e\\u0932 \\u0939\\u0948\\u0964 \\u0938\\u093f\\u0938\\u094d\\u091f\\u0930 \\u0907\\u0930 \\u0930\\u094b\\u0932 \\u092e\\u0947\\u0902 \\u091f\\u0947\\u0938 \\u092b\\u093e\\u0930\\u094d\\u092e\\u093f\\u0917 \\u0905\\u091a\\u094d\\u091b \\u0910\\u0915\\u094d\\u091f\\u093f\\u0902\\u0917 \\u0915\\u0940 \\u0939\\u0948\\u0964 \\u0916\\u093e\\u0938 \\u0936\\u0948\\u0924 \\u0932\\u095c \\u0938\\u0940\\u0928 \\u092e\\u0947\\u0902 \\u091c\\u094b\\u0930\\u0926\\u093e\\u0930 \\u0932\\u0917 \\u0939\\u0948\\u0902\\u0964 \\u0921\\u0947\\u092e\\u093f\\u092f\\u0928 \\u0920\\u0940\\u0915\\u0920\\u093e\\u0915 \\u0910\\u0915\\u094d\\u091f\\u093f\\u0902\\u0917 \\u0915\\u0940 \\u0939\\u0948\\u0964 \\u0909\\u0927\\u0930 \\u092e\\u094b\\u0930\\u093f\\u0938 \\u0930\\u094b\\u0932 \\u092e\\u0947\\u0902 \\u091c\\u094b\\u0928\\u0938 \\u0926\\u0930\\u094d\\u0936\\u0915 \\u092e\\u0928\\u094b\\u0930\\u0902\\u091c\\u0928 \\u0939\\u0948\\u0902\\u0964 \\u092b\\u093f\\u0932\\u094d\\u092e \\u0915\\u0940 \\u0936\\u0942\\u091f\\u093f\\u0902\\u0917 \\u0915\\u0939 \\u0915\\u0940 \\u0921\\u093f\\u092e\\u093e\\u0902\\u0921 \\u092e\\u0941\\u0924\\u093e\\u092c\\u093f\\u0915 \\u0921\\u0930\\u093e\\u0935 \\u0932\\u094b\\u0915\\u0947\\u0936\\u0928 \\u0915\\u0940 \\u0917\\u0908 \\u0939\\u0948\\u0964 \\u0939\\u0949\\u0930\\u0930 \\u092b\\u093f\\u0932\\u094d\\u092e \\u092e\\u0947\\u0902 \\u092c\\u0948\\u0915\\u0917\\u094d\\u0930\\u093e\\u0909\\u0902\\u0921 \\u0938\\u094d\\u0915\\u094b\\u0930 \\u092e\\u0939\\u0924\\u094d\\u0935\\u092a\\u0942\\u0930\\u094d\\u0923 \\u0939\\u0948\\u0964 \\u092b\\u093f\\u0932\\u094d\\u092e \\u092e\\u0947\\u0902 \\u0936\\u0948\\u0924 \\u091c\\u0902\\u0917 \\u0938\\u0940\\u0928 \\u0906\\u092a\\u0915 \\u0916\\u093e\\u0938 \\u0921\\u0930\\u093e\\u0935 \\u0932\\u0917 \\u0939\\u0948\\u0902\\u0964 \\u0916\\u094c\\u092b \\u0910\\u092c \\u0938\\u0940\\u0928 \\u0916\\u0924\\u0930 \\u0939\\u0948\\u0902\\u0964 \\u0905\\u0917\\u0930 \\u0906\\u092a\\u0915 \\u0939\\u0949\\u0930\\u0930 \\u092b\\u093f\\u0932\\u094d\\u092e \\u0926\\u0947\\u0916 \\u092a\\u0938\\u0902\\u0926 \\u0939\\u0948  \\u0906\\u092a\\u0915 \\u0928\\u0928 \\u091c\\u0930\\u0942\\u0930 \\u092e\\u0941\\u0932\\u093e\\u0915\\u093e\\u0924 \\u0915\\u0930 \\u091a\\u093e\\u0939\\u093f\\u090f\\u0964 \",\n          \"\\u092c\\u0948\\u0902\\u0921 \\u091c\\u094b\\u0921\\u093c \\u0939\\u0948 \\u091c\\u0947\\u0932 \\u0938\\u0947\\u0964 \\u091c\\u0939 \\u092a\\u094d\\u0930\\u0924\\u093f\\u092f\\u094b\\u0917 \\u0932\\u0916\\u0928\\u090a \\u0938\\u0947\\u0902\\u091f\\u094d\\u0930\\u0932 \\u091c\\u0947\\u0932 \\u092c\\u0948\\u0902\\u0921 \\u0924\\u0948\\u092f\\u093e\\u0930 \\u0939\\u0948 \\u091c\\u093f\\u0938\\u092e \\u0915\\u0948\\u0926 \\u092a\\u0930\\u092b\\u0949\\u0930\\u094d\\u092e \\u0939\\u0948\\u0902\\u0964 \\u0915\\u0948\\u0926 \\u092a\\u094d\\u0932 \\u0939\\u0948 \\u0924\\u0948\\u092f\\u093e\\u0930 \\u0915\\u0940 \\u0906\\u0921\\u093c \\u092e\\u0947\\u0902 \\u091c\\u0947\\u0932 \\u092d\\u093e\\u0917 \\u0928\\u093f \\u091c\\u093e\\u090f\\u0964 \\u0939\\u0924\\u094d \\u0906\\u0930\\u094b\\u092a \\u092e\\u0947\\u0902 \\u0915\\u093f\\u0936\\u0928 \\u0932\\u0916\\u0928\\u090a \\u0938\\u0947\\u0902\\u091f\\u094d\\u0930\\u0932 \\u091c\\u0947\\u0932 \\u092e\\u0947\\u0902 \\u0938\\u091c \\u0915\\u093e\\u091f \\u0939\\u0948 \\u0935\\u0939 \\u092c\\u0948\\u0902\\u0921 \\u092c\\u0928 \\u0939\\u0948\\u0964 \\u092c\\u0948\\u0902\\u0921 \\u092e\\u0947\\u0902 \\u0926\\u093f\\u0915\\u094d\\u0915\\u0924 \\u0905\\u0902\\u0938\\u093e\\u0930  \\u0935\\u093f\\u0915\\u094d\\u091f\\u0930 \\u091a\\u091f\\u094b\\u092a\\u093e\\u0927\\u094d\\u092f\\u093e\\u092f  \\u092a\\u0941\\u0930\\u0941\\u0937\\u094b\\u0924\\u094d\\u0924\\u092e \\u092a\\u0902\\u0921 \\u092a\\u0930\\u092e\\u093f\\u0902\\u0926\\u0930 \\u0936\\u093e\\u092e\\u093f\\u0932 \\u0939\\u0948\\u0902\\u0964 \\u092a\\u094d\\u0932\\u093e\\u0928\\u093f\\u0902\\u0917  \\u0915\\u094d \\u091c\\u0947\\u0932 \\u092d\\u093e\\u0917 \\u0928\\u093f\\u0915\\u0932 \\u092e\\u0947\\u0902 \\u0915\\u093e\\u092e\\u092f\\u093e\\u092c  \\u092b\\u093f\\u0932\\u094d\\u092e \\u0938\\u093e\\u0930 \\u0939\\u0948\\u0964 \\u0906\\u0907\\u0921 \\u0905\\u091a\\u094d\\u091b  \\u0906\\u0907\\u0921\\u093f\\u092f \\u0932\\u093f\\u0916 \\u0915\\u0939 \\u0926\\u092e\\u0926\\u093e\\u0930 \\u0939\\u0948\\u0964 \\u0930\\u0902\\u091c\\u0940\\u0924 \\u0924\\u093f\\u0935\\u093e\\u0930 \\u0905\\u0938\\u0940\\u092e \\u0905\\u0930\\u094b\\u0930 \\u0932\\u093f\\u0916 \\u0915\\u0939 \\u092b\\u0949\\u0930\\u094d\\u092e\\u0942\\u0932\\u093e\\u092c\\u0926\\u094d\\u0927 \\u0939\\u0948\\u0964 \\u092c\\u0948\\u0902\\u0921 \\u092e\\u0947\\u0902 \\u0905\\u0932\\u0917\\u0905\\u0932\\u0917 \\u0927\\u0930\\u094d\\u092e \\u0932\\u094b\\u0917 \\u0939\\u0948\\u0964 \\u091c\\u0947\\u0932 \\u092e\\u0947\\u0902 \\u0915\\u0948\\u0926 \\u0906\\u092a\\u0938 \\u0938\\u0902\\u0918\\u0930\\u094d\\u0937 \\u0939\\u0948\\u0964 \\u092b\\u093f\\u0932\\u094d\\u092e \\u092e\\u0947\\u0902 \\u0939\\u0940\\u0930\\u094b\\u0907\\u0928 \\u091a\\u093e\\u0939 \\u0917\\u093e\\u092f\\u0924\\u094d\\u0930 \\u0915\\u0936\\u094d\\u092f\\u092a  \\u0921\\u093e\\u092f \\u092a\\u0947\\u0902\\u091f  \\u0915\\u093f\\u0930\\u0926\\u093e\\u0930 \\u0930\\u0916 \\u0939\\u0948  \\u091c\\u093f\\u0938\\u0915 \\u0915\\u093f\\u0930\\u0926\\u093e\\u0930 \\u0920\\u0940\\u0915 \\u092b\\u093f\\u091f \\u0938\\u093f\\u091a\\u0941\\u090f\\u0936\\u0928 \\u092c\\u0928 \\u0917\\u0908\\u0964 \\u092b\\u093f\\u0932\\u094d\\u092e \\u0932\\u0947\\u0916\\u0928 \\u092e\\u0947\\u0902 \\u0915\\u0908 \\u0915\\u092e\\u091c\\u094b\\u0930 \\u0939\\u0948\\u0902\\u0964 \\u0915\\u093f\\u0936\\u0928 \\u091c\\u0947\\u0932 \\u092e\\u0947\\u0902 \\u0921\\u093e\\u0932 \\u0928\\u093f\\u0915\\u093e\\u0932 \\u0935\\u094b \\u092c\\u0947\\u0939\\u0926 \\u0938\\u0924\\u0939 \\u0939\\u0948\\u0964 \\u091c\\u0947\\u0932 \\u0921\\u094d\\u0930\\u093e\\u092e \\u092c\\u0947\\u0939\\u0926 \\u092c\\u094b\\u0930 \\u0939\\u0948\\u0964 \\u0915\\u093f\\u0930\\u0926\\u093e\\u0930 \\u092a\\u0930\\u093f\\u091a\\u092f \\u0915\\u0930 \\u092c\\u0948\\u0902\\u0921 \\u0915\\u0940 \\u0924\\u0948\\u092f\\u093e\\u0930 \\u092e\\u0947\\u0902 \\u091c\\u094d\\u092f\\u093e\\u0926 \\u092b\\u0941\\u091f\\u0947\\u091c \\u0916\\u0930\\u094d\\u091a \\u0915\\u093f\\u090f \\u0917\\u090f \\u0926\\u0930\\u094d\\u0936\\u0915 \\u0927\\u0948\\u0930\\u094d\\u092f \\u0915\\u0940 \\u092a\\u0930\\u0940\\u0915\\u094d\\u0937 \\u0932\\u0947 \\u0939\\u0948\\u0902\\u0964 \\u0938\\u092e\\u091d \\u092e\\u0947\\u0902 \\u0906\\u0924 \\u092e\\u0941\\u0926\\u094d\\u0926 \\u0906\\u0928 \\u092e\\u0947\\u0902 \\u0907\\u0924 \\u091c\\u094d\\u092f\\u093e\\u0926 \\u0938\\u092e\\u092f \\u0915\\u094d\\u092f \\u0916\\u0930\\u094d\\u091a  \\u091c\\u0947\\u0932 \\u0930\\u0939 \\u0915\\u093f\\u0936\\u0928 \\u0938\\u093e\\u0925 \\u091c\\u0947\\u0932 \\u092d\\u093e\\u0917 \\u0915\\u0940 \\u0924\\u0948\\u092f\\u093e\\u0930 \\u0935\\u094b \\u0935\\u093f\\u0936\\u094d\\u0935\\u0938\\u0940\\u0928\\u092f \\u0939\\u0948\\u0964 \\u0932\\u0916\\u0928\\u090a \\u0938\\u0947\\u0902\\u091f\\u094d\\u0930\\u0932 \\u091c\\u0947\\u0932 \\u091c\\u0947\\u0932\\u0930 \\u0930\\u093e\\u091c \\u0936\\u094d\\u0930\\u0940\\u0935\\u093e\\u0938\\u094d\\u0924\\u0935  \\u0930\\u094b\\u0928 \\u0930\\u0949\\u092f  \\u092c\\u0947\\u0939\\u0926 \\u0916\\u0942\\u0902\\u0916\\u093e\\u0930 \\u092c\\u0924 \\u0939\\u0948\\u0964 \\u092c\\u093e\\u0924 \\u0938\\u0942\\u0902\\u0918 \\u0932\\u0947 \\u0939\\u0948 \\u0915\\u0948\\u0926 \\u092d\\u093e\\u0917 \\u0915\\u0940 \\u0924\\u0948\\u092f\\u093e\\u0930 \\u092e\\u0947\\u0902 \\u0939\\u0948  \\u092c\\u093e\\u0935\\u091c\\u0942\\u0926 \\u0915\\u0921\\u093c \\u0915\\u0926\\u092e \\u0915\\u094d\\u092f \\u0909\\u0920 \\u0938\\u092e\\u091d \\u092a\\u0930 \\u0939\\u0948\\u0964 \\u0915\\u093f\\u0936\\u0928 \\u0938\\u093e\\u0925 \\u092c\\u0921\\u093c \\u0906\\u0938 \\u0915\\u092a\\u0921\\u093c \\u091c\\u0941\\u091f \\u0932\\u0947  \\u0928\\u0915\\u0932 \\u091a\\u093e\\u092c \\u092c\\u0928 \\u0932\\u0947  \\u0927\\u093e\\u0930\\u0926\\u093e\\u0930 \\u091a\\u0940\\u091c \\u092a\\u094d\\u0930\\u093e\\u092a\\u094d\\u0924 \\u0932\\u0947 \\u0939\\u0948\\u0902\\u0964 \\u092b\\u093f\\u0932\\u094d\\u092e \\u0905\\u0902\\u0924\\u093f\\u092e \\u092e\\u093f\\u0928\\u091f \\u092e\\u0947\\u0902 \\u0917\\u0924 \\u092a\\u0915\\u0921\\u093c \\u0939\\u0948 \\u0915\\u0948\\u0926 \\u091c\\u0947\\u0932 \\u092d\\u093e\\u0917 \\u0915\\u0940 \\u0924\\u0948\\u092f\\u093e\\u0930 \\u092e\\u0947\\u0902 \\u0930\\u0939  \\u092b\\u093f\\u0932\\u094d\\u092e \\u092e\\u0947\\u0902 \\u0926\\u0930\\u094d\\u0936\\u0915 \\u0930\\u0942\\u091a \\u0916\\u094b \\u092c\\u0948\\u0920 \\u091a\\u093e\\u0939 \\u092b\\u093f\\u0932\\u094d\\u092e \\u0916\\u0924\\u094d\\u092e \\u0938\\u093f\\u0928\\u0947\\u092e\\u093e\\u0918\\u0930 \\u0915\\u0940 \\u0915\\u0948\\u0926 \\u092e\\u0941\\u0915\\u094d\\u0924 \\u0939\\u094b\\u0902\\u0964 \\u0930\\u0902\\u091c\\u0940\\u0924 \\u0924\\u093f\\u0935\\u093e\\u0930 \\u0928\\u093f\\u0930\\u094d\\u0926\\u0947\\u0936\\u0928 \\u0914\\u0938\\u0924 \\u0939\\u0948\\u0964 \\u0909\\u0928\\u094d\\u0939\\u094b\\u0902 \\u092c\\u093e\\u0924 \\u0915\\u0939 \\u092e\\u0947\\u0902 \\u091c\\u094d\\u092f\\u093e\\u0926 \\u0938\\u092e\\u092f \\u0932\\u093f \\u0939\\u0948\\u0964 \\u092b\\u093f\\u0932\\u094d\\u092e \\u092e\\u0928\\u094b\\u0930\\u0902\\u091c\\u0915 \\u092c\\u0928 \\u092a\\u093e\\u090f \\u091c\\u0947\\u0932 \\u092d\\u093e\\u0917 \\u0925\\u094d\\u0930\\u093f\\u0932 \\u092a\\u0948\\u0926 \\u092a\\u093e\\u090f\\u0964 \\u0915\\u093f\\u0930\\u0926\\u093e\\u0930 \\u092a\\u094d\\u0930 \\u0926\\u0930\\u094d\\u0936\\u0915 \\u092e\\u0947\\u0902 \\u0938\\u0939\\u093e\\u0928\\u0941\\u092d \\u091c\\u0917 \\u092a\\u093e\\u090f\\u0964 \\u0915\\u093f\\u0936\\u0928  \\u0917\\u093e\\u092f\\u0924\\u094d\\u0930 \\u0930\\u093e\\u091c \\u0915\\u093f\\u0930\\u0926\\u093e\\u0930 \\u0909\\u0928\\u094d\\u0939\\u094b\\u0902 \\u0920\\u0940\\u0915 \\u092a\\u0947\\u0936 \\u0939\\u0948\\u0964 \\u0930\\u094b\\u0928 \\u0930\\u0949\\u092f \\u0915\\u093f\\u0930\\u0926\\u093e\\u0930 \\u092a\\u0947\\u0936 \\u0916\\u0932\\u0928\\u093e\\u092f\\u0915  \\u091c\\u092c\\u0915 \\u092a\\u0942\\u0930 \\u092e\\u0941\\u0938\\u094d\\u0924\\u0948\\u0926 \\u091c\\u0947\\u0932\\u0930 \\u092b\\u0930\\u094d\\u091c \\u0928\\u093f\\u092d \\u0939\\u0948\\u0964 \\u0939\\u093e\\u0902  \\u091c\\u0947\\u0932 \\u092e\\u0947\\u0902 \\u0936\\u0930\\u093e\\u092c \\u091c\\u0930\\u0942\\u0930 \\u092a\\u0940 \\u0939\\u0948  \\u0905\\u0932 \\u0915\\u092e \\u0909\\u0938\\u092e \\u0928\\u091c\\u0930 \\u0906\\u0924\\u0940\\u0964 \\u0915\\u093f\\u0936\\u0928 \\u092c\\u0947\\u0935\\u091c\\u0939 \\u0939\\u0940\\u0930 \\u092c\\u0928 \\u0915\\u0940 \\u0915\\u094b\\u0936\\u093f\\u0936 \\u0905\\u0916\\u0930 \\u0939\\u0948\\u0964 \\u092b\\u0930\\u0939 \\u0906\\u092e \\u0915\\u0948\\u0926 \\u0932\\u0917 \\u092d\\u0940\\u0921\\u093c \\u092e\\u0947\\u0902 \\u0905\\u0932\\u0917 \\u0928\\u091c\\u0930 \\u0906\\u0924 \\u0939\\u0948\\u0902\\u0964 \\u0917\\u093e\\u092f\\u0924\\u094d\\u0930 \\u0915\\u093f\\u0930\\u0926\\u093e\\u0930 \\u092e\\u093f\\u0938\\u092b\\u093f\\u091f \\u0939\\u0948\\u0964 \\u092b\\u093f\\u0932\\u094d\\u092e \\u092e\\u0947\\u0902 \\u0915\\u0908 \\u092c\\u0947\\u0924\\u0939\\u0930 \\u0915\\u0932  \\u0930\\u0902\\u091c\\u0940\\u0924 \\u0909\\u092a\\u092f\\u094b\\u0917 \\u0932\\u0947 \\u092a\\u093e\\u090f\\u0964 \\u0915\\u0939 \\u092c\\u0948\\u0902\\u0921 \\u0915\\u0940 \\u092b\\u093f\\u0932\\u094d\\u092e \\u0939\\u0948  \\u0938\\u0902\\u0917\\u0940\\u0924 \\u092c\\u0947\\u0939\\u0926 \\u0915\\u092e\\u091c\\u094b\\u0930 \\u0939\\u0948  \\u091c\\u092c\\u0915 \\u0938\\u0902\\u0917\\u0940\\u0924 \\u092b\\u093f\\u0932\\u094d\\u092e \\u0915\\u0940 \\u091c\\u093e\\u0928 \\u0925\\u093e\\u0964 \\u0932\\u0917\\u092d\\u0917 \\u092a\\u0942\\u0930 \\u092b\\u093f\\u0932\\u094d\\u092e \\u091c\\u0947\\u0932 \\u092b\\u093f\\u0932\\u094d\\u092e \\u0917\\u0908 \\u0939\\u0948 \\u091c\\u093f\\u0938\\u0938 \\u0930\\u093e\\u0939\\u0924 \\u092e\\u093f\\u0932\\u0924\\u0940\\u0964 \\u092b\\u0930\\u0939 \\u0905\\u0916\\u094d\\u0924\\u0930 \\u0905\\u092d\\u093f\\u0928\\u092f \\u0914\\u0938\\u0924 \\u0939\\u0948\\u0964 \\u0915\\u093f\\u0936\\u0928 \\u0930\\u094b\\u0932 \\u092e\\u0947\\u0902 \\u0909\\u0928\\u094d\\u0939\\u094b\\u0902 \\u0905\\u0932\\u0917 \\u0915\\u0940 \\u0915\\u094b\\u0936\\u093f\\u0936 \\u0915\\u0940\\u0964 \\u0921\\u093e\\u092f \\u092a\\u0947\\u0902\\u091f \\u0915\\u093f\\u0930\\u0926\\u093e\\u0930 \\u0920\\u0940\\u0915 \\u0932\\u093f\\u0916 \\u0935\\u0948\\u0938 \\u0905\\u092d\\u093f\\u0928\\u092f \\u0939\\u0948\\u0964 \\u0930\\u094b\\u0928 \\u0930\\u0949\\u092f \\u0926\\u092e\\u0926\\u093e\\u0930 \\u0909\\u092a\\u0938\\u094d\\u0925 \\u0926\\u0930\\u094d\\u091c \\u0915\\u0930 \\u0939\\u0948\\u0902\\u0964 \\u0926\\u0940\\u092a\\u0915 \\u0921\\u094b\\u092c\\u094d\\u0930\\u093f\\u092f\\u093e\\u0932  \\u0917\\u093f\\u092a\\u094d\\u092a \\u0917\\u094d\\u0930\\u0947\\u0935\\u093e\\u0932  \\u0930\\u093e\\u091c\\u0947\\u0936 \\u0936\\u0930\\u094d\\u092e \\u091c\\u094d\\u092f\\u093e\\u0926 \\u0905\\u0935\\u0938\\u0930 \\u092e\\u093f\\u0932\\u093e\\u0964 \\u0930\\u0935 \\u0915\\u093f\\u0936\\u0928 \\u0928\\u093e\\u091f\\u0915 \\u0917\\u090f\\u0964 \\u092e\\u093f\\u0932 \\u0932\\u0916\\u0928\\u090a \\u0938\\u0947\\u0902\\u091f\\u094d\\u0930\\u0932 \\u0909\\u092c \\u092b\\u093f\\u0932\\u094d\\u092e \\u0939\\u0948\\u0964 \\u092e\\u093f\\u0932 \\u0932\\u0916\\u0928\\u090a \\u0938\\u0947\\u0902\\u091f\\u094d\\u0930\\u0932 \\u0909\\u092c \\u092b\\u093f\\u0932\\u094d\\u092e \\u0939\\u0948\\u0964 \\u0928\\u093f\\u0930\\u094d\\u092e  \\u0935\\u093e\\u092f\\u0915\\u0949\\u092e 18 \\u092e\\u094b\\u0936\\u0928 \\u092a\\u093f\\u0915\\u094d\\u091a\\u0930\\u094d\\u0938  \\u0928\\u093f\\u0916\\u093f\\u0932 \\u0905\\u0921\\u0935\\u093e\\u0923  \\u092e\\u094b\\u0928\\u093f\\u0937 \\u0905\\u0921\\u0935\\u093e\\u0923  \\u092e\\u0927 \\u092d\\u094b\\u091c\\u0935 \\u0928\\u093f\\u0930\\u094d\\u0926\\u0947\\u0936\\u0915  \\u0930\\u0902\\u091c\\u0940\\u0924 \\u0924\\u093f\\u0935\\u093e\\u0930 \\u0938\\u0902\\u0917\\u0940\\u0924  \\u0905\\u0930\\u094d\\u091c\\u0941\\u0928 \\u0939\\u0930\\u091c  \\u0930\\u094b\\u091a\\u0915 \\u0915\\u094b\\u0939\\u0932  \\u0924\\u0928\\u093f\\u0937\\u094d\\u0915 \\u092c\\u093e\\u0917\\u091a \\u0915\\u0932  \\u092b\\u0930\\u0939 \\u0905\\u0916\\u094d\\u0924\\u0930  \\u0921\\u093e\\u092f \\u092a\\u0947\\u0902\\u091f  \\u0917\\u093f\\u092a\\u094d\\u092a \\u0917\\u094d\\u0930\\u0947\\u0935\\u093e\\u0932  \\u0930\\u094b\\u0928 \\u0930\\u0949\\u092f  \\u0926\\u0940\\u092a\\u0915 \\u0921\\u094b\\u092c\\u094d\\u0930\\u093f\\u092f\\u093e\\u0932  \\u0907\\u0928\\u093e\\u092e \\u0909\\u0932 \\u0939\\u0915  \\u0930\\u093e\\u091c\\u0947\\u0936 \\u0936\\u0930\\u094d\\u092e \\u0938\\u0947\\u0902\\u0938\\u0930 \\u0938\\u0930\\u094d\\u091f\\u093f\\u092b\\u093f\\u0915\\u0947\\u091f  \\u092f\\u0942\\u090f  2 \\u0918\\u0902\\u091f 27 \\u092e\\u093f\\u0928\\u091f \",\n          \"\\u092c\\u0948\\u0928\\u0930  \\u092d\\u0902\\u0921\\u093e\\u0930 \\u090f\\u0902\\u091f\\u0930\\u091f\\u0947\\u0928\\u092e\\u0947\\u0902\\u091f  \\u0935\\u093e\\u0907\\u0921 \\u092b\\u094d\\u0930\\u0947\\u092e \\u092a\\u093f\\u0915\\u094d\\u091a\\u0930\\u094d\\u0938 \\u0928\\u093f\\u0930\\u094d\\u092e  \\u0915\\u0941\\u092e\\u093e\\u0930 \\u092e\\u0902\\u0917\\u0924 \\u092a\\u093e\\u0920\\u0915  \\u092e\\u0927\\u0941\\u0930 \\u092d\\u0902\\u0921\\u093e\\u0930 \\u0928\\u093f\\u0930\\u094d\\u0926\\u0947\\u0936\\u0915  \\u092e\\u0927\\u0941\\u0930 \\u092d\\u0902\\u0921\\u093e\\u0930 \\u0938\\u0902\\u0917\\u0940\\u0924  \\u092a\\u094d\\u0930\\u0940\\u0924\\u092e \\u091a\\u0915\\u094d\\u0930\\u0935\\u0943 \\u0915\\u0932  \\u0905\\u091c\\u092f \\u0926\\u0947\\u0935\\u0917\\u0928  \\u0907\\u092e\\u0930 \\u0939\\u093e\\u0936\\u092e  \\u0913\\u092e \\u0935\\u0948\\u0926\\u094d\\u092f  \\u0936\\u094d\\u0930 \\u0939\\u093e\\u0938\\u0928  \\u0936\\u093e\\u091c \\u092a\\u0926\\u094d\\u092e\\u0938  \\u0936\\u094d\\u0930\\u0926\\u094d\\u0927 \\u0926\\u093e\\u0938  \\u091f\\u093f\\u0938\\u094d\\u0915 \\u091a\\u094b\\u092a\\u0921\\u093c  \\u0930\\u093f\\u0924\\u0941\\u092a\\u0930\\u094d\\u0923 \\u0938\\u0947\\u0928\\u0917\\u0941\\u092a\\u094d \\u0938\\u0947\\u0902\\u0938\\u0930 \\u0938\\u0930\\u094d\\u091f\\u093f\\u092b\\u093f\\u0915\\u0947\\u091f  \\u090f  2 \\u0918\\u0902\\u091f 28 \\u092e\\u093f\\u0928\\u091f  16 \\u0930\\u0940\\u0932 \\u0936\\u0941\\u0915\\u094d\\u0930 \\u0939\\u0948 \\u092e\\u0927\\u0941\\u0930 \\u092d\\u0902\\u0921\\u093e\\u0930 \\u091f\\u094d\\u0930\\u0947\\u0915 \\u092c\\u0926\\u0932 \\u0935\\u0930 \\u091c\\u0948\\u0938 \\u092b\\u093f\\u0932\\u094d\\u092e \\u092c\\u0928 \\u091f\\u093e\\u0907\\u092a\\u094d\\u0921 \\u0932\\u0917 \\u0925\\u0947\\u0964 \\u092a\\u093f\\u091b\\u0932 \\u092b\\u093f\\u0932\\u094d\\u092e \\u2018 \\u091c\\u0947\\u0932 \\u2019 \\u0915\\u0940 \\u0905\\u0938\\u092b\\u0932 \\u0909\\u0928\\u094d\\u0939\\u094b\\u0902 \\u0938\\u092c\\u0915 \\u0938\\u0940\\u0916 \\u092c\\u093e\\u0930 \\u0939\\u0932\\u094d\\u0915\\u0940\\u092b\\u0941\\u0932\\u094d\\u0915 \\u0930\\u094b\\u092e\\u093e\\u0902\\u091f\\u093f\\u0915 \\u092b\\u093f\\u0932\\u094d\\u092e \\u2018 \\u0926\\u093f\\u0932 \\u092c\\u091a\\u094d\\u091a \\u0939\\u0948 \\u091c\\u0940 \\u2019 \\u092c\\u0928\\u093e\\u0908\\u0964 \\u091c\\u094d\\u092f\\u093e\\u0926\\u093e\\u0924\\u0930 \\u0928\\u093f\\u0930\\u094d\\u0926\\u0947\\u0936\\u0915 \\u0915\\u092e\\u094d\\u092b\\u0930\\u094d\\u091f \\u091c\\u094b\\u0928 \\u092c\\u093e\\u0939\\u0930 \\u0906\\u0924 \\u092c\\u0947\\u0939\\u0924\\u0930 \\u092b\\u093f\\u0932\\u094d\\u092e \\u092c\\u0928 \\u092a\\u093e \\u0939\\u0948\\u0902\\u0964 \\u0928\\u092f \\u0915\\u0940 \\u0915\\u094b\\u0936\\u093f\\u0936 \\u092e\\u0947\\u0902 \\u092c\\u0939\\u0915 \\u091c\\u093e \\u0939\\u0948\\u0902\\u0964 \\u2018 \\u0926\\u093f\\u0932 \\u092c\\u091a\\u094d\\u091a \\u0939\\u0948 \\u091c\\u0940 \\u2019 \\u091c\\u0930\\u093f\\u092f \\u092e\\u0927\\u0941\\u0930 \\u092e\\u0939 \\u0930\\u091a \\u0915\\u0940 \\u0939\\u0948  \\u092b\\u093f\\u0932\\u094d\\u092e \\u0914\\u0938\\u0924 \\u092c\\u0947\\u0939\\u0924\\u0930 \\u0939\\u0948\\u0964 \\u0915\\u0908 \\u091c\\u0917\\u0939 \\u0938\\u094d\\u0915\\u094d\\u0930\\u093f\\u092a\\u094d\\u091f \\u092e\\u0947\\u0902 \\u0915\\u0938 \\u0915\\u0940 \\u091c\\u0930\\u0942\\u0930\\u0924 \\u092e\\u0939\\u0938\\u0942\\u0938 \\u0939\\u0948  \\u0938\\u092e\\u0917\\u094d\\u0930 \\u0930\\u0942\\u092a \\u092b\\u093f\\u0932\\u094d\\u092e \\u0926\\u0930\\u094d\\u0936\\u0915 \\u2018 \\u092b\\u0940\\u0932 \\u0917\\u0941\\u0921 \\u2019 \\u0905\\u0939\\u0938\\u093e\\u0938 \\u0915\\u0930 \\u0939\\u0948\\u0964 \\u092a\\u094d\\u092f\\u093e\\u0930 \\u092e\\u093e\\u092f \\u0938\\u092c\\u0915 \\u0905\\u0932\\u0917\\u0905\\u0932\\u0917 \\u0939\\u0948\\u0902\\u0964 \\u0938\\u0947\\u0915\\u094d\\u0938 \\u092a\\u094d\\u092f\\u093e\\u0930 \\u0938\\u092e\\u091d \\u092c\\u0948\\u0920 \\u0939\\u0948\\u0964 \\u0926\\u093f\\u0932 \\u092d\\u0930 \\u092a\\u0942\\u0930 \\u091c\\u093f\\u0902\\u0926\\u0917 \\u0928\\u094d\\u092f\\u094c\\u091b\\u093e\\u0935\\u0930 \\u0926\\u0947 \\u0939\\u0948\\u0964 \\u0907\\u0938\\u0915 \\u0906\\u0927\\u093e\\u0930 \\u092c\\u0928 \\u092e\\u0927\\u0941\\u0930 \\u092d\\u0902\\u0921\\u093e\\u0930  \\u0928\\u0940\\u0930\\u091c \\u0909\\u0921\\u0935 \\u0905\\u0928\\u093f\\u0932 \\u092a\\u093e\\u0902\\u0921 \\u2018 \\u0926\\u093f\\u0932 \\u092c\\u091a\\u094d\\u091a \\u0939\\u0948 \\u091c\\u0940 \\u2019 \\u0915\\u0940 \\u0915\\u0939 \\u0938\\u094d\\u0915\\u094d\\u0930\\u0940\\u0928\\u092a\\u094d\\u0932 \\u0932\\u093f\\u0916 \\u0939\\u0948\\u0964 \\u0935\\u0930\\u094d\\u0937 \\u0928\\u0930\\u0947\\u0928 \\u0906\\u0939\\u0942\\u091c  \\u0905\\u091c\\u092f \\u0926\\u0947\\u0935\\u0917\\u0928  \\u0935\\u0948\\u0935\\u093e\\u0939\\u093f\\u0915 \\u091c\\u0940\\u0935\\u0928 \\u0905\\u0938\\u092b\\u0932 \\u0930\\u0939\\u093e\\u0964 \\u092a\\u0924\\u094d \\u0924\\u0932\\u093e\\u0915 \\u0932\\u0947 \\u0939\\u0948\\u0964 \\u092c\\u0940\\u091a \\u0909\\u092e\\u094d\\u0930 \\u092e\\u0947\\u0902 \\u0906\\u0927 \\u091c\\u0942\\u0928 \\u092a\\u093f\\u0902\\u091f  \\u0936\\u093e\\u091c \\u092a\\u0926\\u094d\\u092e\\u0938  \\u0915\\u0940 \\u0913\\u0930 \\u0906\\u0915\\u0930\\u094d\\u0937 \\u0932\\u0917 \\u0939\\u0948\\u0964 \\u091c\\u0942\\u0928 \\u0906\\u091c \\u0915\\u0940 \\u091c\\u0928\\u0930\\u0947\\u0936\\u0928 \\u0939\\u0948  \\u0926\\u093f\\u0932 \\u0915\\u0940 \\u092c\\u093e\\u0924 \\u092c\\u093f\\u0902\\u0926\\u093e\\u0938 \\u0924\\u0930\\u0940\\u0915 \\u0936\\u0947\\u092f\\u0930 \\u0915\\u0930 \\u0939\\u0948\\u0964 \\u092c\\u0949\\u0938 \\u0928\\u0930\\u0947\\u0928 \\u092a\\u0942\\u091b \\u092c\\u0948\\u0920 \\u0939\\u0948 \\u0909\\u0938 \\u092a\\u0939\\u0932 \\u092c\\u093e\\u0930 \\u0938\\u0947\\u0915\\u094d\\u0938 \\u0909\\u092e\\u094d\\u0930 \\u092e\\u0947\\u0902 \\u0925\\u093e\\u0964 \\u0928\\u0930\\u0947\\u0928 \\u092c\\u093f\\u0902\\u0926\\u093e\\u0938 \\u092a\\u094d\\u092f\\u093e\\u0930 \\u0938\\u092e\\u091d \\u092c\\u0948\\u0920 \\u0939\\u0948\\u0964 \\u0928\\u0930\\u0947\\u0928 \\u092a\\u0947\\u0907\\u0902\\u0917 \\u0917\\u0947\\u0938\\u094d\\u091f  \\u092e\\u093f\\u0932\\u093f\\u0902\\u0926 \\u0915\\u0947\\u0932  \\u0913\\u092e \\u0935\\u0948\\u0926\\u094d\\u092f  \\u0905\\u092d\\u092f  \\u0907\\u092e\\u0930 \\u0939\\u093e\\u0936\\u092e  \\u0964 \\u092e\\u093f\\u0932\\u093f\\u0902\\u0926 \\u092a\\u094d\\u092f\\u093e\\u0930 \\u092e\\u093e\\u092f \\u0936\\u093e\\u0926 \\u092a\\u0930\\u093f\\u0935\\u093e\\u0930\\u0964 \\u092c\\u093e\\u0924 \\u092e\\u0924\\u0932\\u092c \\u0939\\u0948 \\u0917\\u0941\\u0928\\u0917\\u0941\\u0928  \\u0936\\u094d\\u0930\\u0926\\u094d\\u0927 \\u0926\\u093e\\u0938  \\u091a\\u093e\\u0939 \\u0939\\u0948  \\u092d\\u0932 \\u0917\\u0941\\u0928\\u0917\\u0941\\u0928 \\u0909\\u0938\\u0915 \\u092a\\u0948\\u0938 \\u0909\\u092a\\u092f\\u094b\\u0917 \\u0915\\u0930 \\u0939\\u0948\\u0964 \\u0938\\u091a\\u094d\\u091a \\u092a\\u094d\\u092f\\u093e\\u0930 \\u092e\\u093e\\u092f \\u0930\\u0916 \\u0939\\u0948\\u0964 \\u0905\\u092d\\u092f \\u0915\\u0940 \\u091c\\u093f\\u0902\\u0926\\u0917 \\u0924\\u0940\\u0928 \\u2018 \\u090f\\u092b \\u2019 \\u0907\\u0930\\u094d\\u0926\\u0917\\u093f\\u0930\\u094d\\u0926 \\u0918\\u0942\\u092e \\u0939\\u0948\\u0964 \\u092b\\u0928  \\u092b\\u094d\\u0932\\u0930\\u094d\\u091f\\u093f\\u0902\\u0917  \\u0964 \\u0909\\u0938\\u0915 \\u091c\\u093f\\u0902\\u0926\\u0917 \\u0906\\u0926\\u0930\\u094d\\u0936 \\u0935\\u093e\\u0915\\u094d\\u092f \\u0939\\u0948 \\u0938\\u094b \\u0938\\u094b \\u0926\\u094b\\u0964 \\u092a\\u094d\\u092f\\u093e\\u0930\\u0935\\u094d\\u092f\\u093e\\u0930 \\u092c\\u0947 \\u0915\\u0940 \\u092c\\u093e\\u0924 \\u0925\\u0940\\u0902  \\u0928\\u093f\\u0915\\u094d\\u0915  \\u0936\\u094d\\u0930 \\u0939\\u093e\\u0938\\u0928  \\u092e\\u093f\\u0932 \\u0939\\u0948\\u0964 \\u0924\\u0940\\u0928 \\u0915\\u0940 \\u092a\\u094d\\u092f\\u093e\\u0930 \\u0915\\u0940 \\u0917\\u093e\\u0921\\u093c \\u092e\\u0902\\u091c\\u093f\\u0932 \\u092a\\u0939\\u0941\\u0901\\u091a \\u092a\\u093e \\u0939\\u0948  \\u092b\\u093f\\u0932\\u094d\\u092e \\u092e\\u0947\\u0902 \\u0939\\u0932\\u094d\\u0915\\u0947\\u092b\\u0941\\u0932\\u094d\\u0915 \\u0924\\u0930\\u0940\\u0915 \\u0926\\u093f\\u0916 \\u0939\\u0948\\u0964 \\u0915\\u0939 \\u092e\\u0947\\u0902 \\u0939\\u093e\\u0938\\u094d\\u092f \\u0915\\u0940 \\u092d\\u0930\\u092a\\u0942\\u0930 \\u0917\\u0941\\u0902\\u091c\\u093e\\u0907\\u0936  \\u0924\\u0940\\u0928 \\u0932\\u0947\\u0916\\u0915 \\u092e\\u093f\\u0932 \\u092a\\u0942\\u0930 \\u0909\\u092a\\u092f\\u094b\\u0917 \\u092a\\u093e\\u090f\\u0964 \\u0915\\u0908 \\u091c\\u0917\\u0939 \\u092b\\u093f\\u0932\\u094d\\u092e \\u0918\\u0938\\u0940\\u091f \\u0906\\u0917 \\u092c\\u0922\\u093c \\u0939\\u0948  \\u0916\\u093e\\u0938 \\u0939\\u093e\\u092b \\u092e\\u0947\\u0902\\u0964 \\u0924\\u0940\\u0928 \\u0915\\u0948\\u0930\\u0947\\u0915\\u094d\\u091f\\u0930\\u094d\\u0938 \\u0938\\u094d\\u0925\\u093e\\u092a \\u092e\\u0947\\u0902 \\u091c\\u0930\\u0942\\u0930\\u0924 \\u091c\\u094d\\u092f\\u093e\\u0926 \\u0938\\u092e\\u092f \\u0932\\u093f \\u0939\\u0948\\u0964 \\u092c\\u093e\\u0935\\u091c\\u0942\\u0926 \\u0909\\u0928\\u094d\\u0939\\u094b\\u0902 \\u092a\\u0947\\u0936 \\u0939\\u0948  \\u0905\\u091a\\u094d\\u091b \\u0932\\u0917 \\u0939\\u0948\\u0964 \\u0938\\u0902\\u091c\\u092f \\u091b\\u0948\\u0932 \\u0932\\u093f\\u0916 \\u0917\\u090f \\u2018 \\u0906\\u091c\\u0915\\u0932 \\u0939\\u094b\\u0932\\u0938\\u0947\\u0932 \\u092e\\u0947\\u0902 \\u092c\\u0948\\u0921\\u0932\\u0915 \\u091a\\u0932 \\u0939\\u0948 \\u2019 \\u091a\\u0941\\u091f\\u0940\\u0932 \\u0938\\u0902\\u0935\\u093e\\u0926 \\u0915\\u0908 \\u091c\\u0917\\u0939 \\u0917\\u0941\\u0926\\u0917\\u0941\\u0926 \\u0939\\u0948\\u0902\\u0964 \\u0905\\u091c\\u092f \\u0936\\u093e\\u091c \\u0915\\u0940 \\u0915\\u0939 \\u091c\\u094d\\u092f\\u093e\\u0926 \\u0926\\u093f\\u0932\\u091a\\u0938\\u094d\\u092a \\u0939\\u0948 \\u0917\\u0941\\u0926\\u0917\\u0941\\u0926 \\u0939\\u0948\\u0964 \\u0928\\u093f\\u0930\\u094d\\u0926\\u0947\\u0936\\u0915 \\u092e\\u0927\\u0941\\u0930 \\u092a\\u094d\\u092f\\u093e\\u0930 \\u0932\\u0947 \\u0905\\u0932\\u0917\\u0905\\u0932\\u0917 \\u0926\\u0943\\u0937\\u094d\\u091f\\u093f\\u0915\\u094b\\u0923 \\u0915\\u0948\\u0930\\u0947\\u0915\\u094d\\u091f\\u0930 \\u091c\\u0930\\u093f\\u092f \\u0938\\u093e\\u092e \\u0930\\u0916 \\u0939\\u0948\\u0964 \\u0924\\u0940\\u0928 \\u092b\\u0940\\u092e\\u0947\\u0932 \\u0915\\u0948\\u0930\\u0947\\u0915\\u094d\\u091f\\u0930\\u094d\\u0938 \\u092c\\u0947\\u0939\\u0926 \\u092a\\u094d\\u0930\\u0947\\u0915\\u094d\\u091f\\u093f\\u0915\\u0932 \\u092c\\u094b\\u0932\\u094d\\u0921 \\u0939\\u0948\\u0902\\u0964 \\u0905\\u092d\\u092f \\u0928\\u093f\\u0915\\u094d\\u0915 \\u0930\\u093e\\u0924 \\u0917\\u0941\\u091c\\u093e\\u0930 \\u0939\\u0948 \\u0938\\u0947\\u0915\\u094d\\u0938 \\u0932\\u0947 \\u0905\\u0938\\u0939\\u091c \\u0939\\u094b\\u0924\\u0940\\u0964 \\u0917\\u0941\\u0928\\u0917\\u0941\\u0928 \\u0938\\u094d\\u0935\\u093e\\u0930\\u094d\\u0925 \\u0915\\u0940 \\u0916\\u093e\\u0924\\u093f\\u0930 \\u092e\\u093f\\u0932\\u093f\\u0902\\u0926 \\u091c\\u092e \\u0936\\u094b\\u0937\\u0923 \\u0915\\u0930 \\u0939\\u0948\\u0964 \\u0928\\u093f\\u0930\\u094d\\u0926\\u0947\\u0936\\u0915 \\u0930\\u0942\\u092a \\u092e\\u0947\\u0902 \\u092e\\u0927\\u0941\\u0930 \\u0915\\u0939 \\u092a\\u0947\\u0936 \\u0939\\u0948 \\u0909\\u0924\\u094d\\u0938\\u0941\\u0915 \\u0930\\u0939 \\u0939\\u0948\\u0964 \\u0939\\u093e\\u0932\\u093e\\u0901\\u0915 \\u0915\\u0908 \\u091c\\u0917\\u0939 \\u0926\\u094b\\u0939\\u0930 \\u0926\\u0947\\u0916 \\u092e\\u093f\\u0932 \\u0939\\u0948\\u0964 \\u092b\\u093f\\u0932\\u094d\\u092e \\u0915\\u0940 \\u0932\\u0902\\u092c \\u091c\\u094d\\u092f\\u093e\\u0926 \\u0939\\u0948 \\u0905\\u0902\\u0924 \\u092a\\u0930\\u092b\\u0947\\u0915\\u094d\\u091f \\u0939\\u0948\\u0964 \\u0905\\u092d\\u093f\\u0928\\u092f \\u092b\\u093f\\u0932\\u094d\\u092e \\u0938\\u0936\\u0915\\u094d\\u0924 \\u092a\\u0939 \\u0939\\u0948\\u0964 \\u0905\\u091c\\u092f \\u0926\\u0947\\u0935\\u0917\\u0928 \\u0909\\u092e\\u094d\\u0930 \\u0906\\u0927 \\u0932\\u0921\\u093c\\u0915 \\u091a\\u093e\\u0939 \\u0915\\u0940 \\u0905\\u0938\\u0939\\u091c \\u092c\\u0947\\u0939\\u0924\\u0930 \\u0924\\u0930\\u0940\\u0915 \\u092a\\u0947\\u0936 \\u0939\\u0948\\u0964 \\u0936\\u093e\\u091c \\u092a\\u0926\\u094d\\u092e\\u0938 \\u092b\\u093f\\u0932\\u094d\\u092e \\u0938\\u0930\\u092a\\u094d\\u0930\\u093e\\u0907\\u091c \\u0939\\u0948\\u0964 \\u0916\\u0942\\u092c\\u0938\\u0942\\u0930\\u0924 \\u092e\\u093e\\u0938\\u0942\\u092e \\u091a\\u0947\\u0939\\u0930 \\u0928\\u093f\\u0930\\u094d\\u0926\\u0947\\u0936\\u0915 \\u091c\\u092e \\u0909\\u092a\\u092f\\u094b\\u0917 \\u0939\\u0948\\u0964 \\u0936\\u093e\\u091c \\u0905\\u092d\\u093f\\u0928\\u092f \\u0909\\u0932\\u094d\\u0932\\u0947\\u0916 \\u0939\\u0948 \\u092b\\u093f\\u0932\\u094d\\u092e \\u092c\\u0947\\u0939\\u0924\\u0930 \\u092e\\u094c\\u0915 \\u092e\\u093f\\u0932 \\u0939\\u0948\\u0902\\u0964 \\u0907\\u092e\\u0930 \\u0939\\u093e\\u0936\\u092e \\u0932\\u0902\\u092a\\u091f \\u0935\\u094d\\u092f\\u0915\\u094d \\u0915\\u093f\\u0930\\u0926\\u093e\\u0930 \\u0928\\u093f\\u092d \\u0939\\u092e\\u0947\\u0936 \\u0906\\u0938 \\u0939\\u0948\\u0964 \\u092b\\u093f\\u0932\\u094d\\u092e \\u092e\\u0947\\u0902 \\u0905\\u092d\\u093f\\u0928\\u092f \\u092e\\u0947\\u0902 \\u0938\\u0941\\u0927\\u093e\\u0930 \\u0928\\u091c\\u0930 \\u0906\\u0924 \\u0939\\u0948\\u0964 \\u0913\\u092e \\u0935\\u0948\\u0926\\u094d\\u092f \\u2018 3 \\u0907\\u0921\\u093f\\u092f\\u091f\\u094d\\u0938 \\u2019 \\u0909\\u0920 \\u0938\\u0940\\u0927 \\u2018 \\u0926\\u093f\\u0932 \\u092c\\u091a\\u094d\\u091a \\u0939\\u0948 \\u091c\\u0940 \\u2019 \\u092e\\u0947\\u0902 \\u091a\\u0932 \\u0906\\u090f \\u0939\\u0948\\u0902\\u0964 \\u0936\\u094d\\u0930 \\u0939\\u093e\\u0938\\u0928 \\u092e\\u0947\\u0902 \\u0906\\u0924\\u094d\\u092e\\u0935\\u093f\\u0936\\u094d \\u0928\\u091c\\u0930 \\u0906\\u092f \\u0936\\u094d\\u0930\\u0926\\u094d\\u0927 \\u0926\\u093e\\u0938 \\u092a\\u094d\\u0930\\u092d\\u093e\\u0935 \\u0915\\u0930 \\u0939\\u0948\\u0902\\u0964 \\u092a\\u094d\\u0930\\u0940\\u0924\\u092e \\u0938\\u0902\\u0917\\u0940\\u0924 \\u092e\\u0927\\u0941\\u0930 \\u0939\\u0948  \\u0939\\u093f\\u091f \\u0917\\u0940\\u0924 \\u0915\\u0940 \\u0915\\u092e \\u0916\\u0932 \\u0939\\u0948\\u0964 \\u0939\\u093f\\u091f \\u0917\\u093e \\u092b\\u093f\\u0932\\u094d\\u092e \\u092e\\u0926\\u0926 \\u0938\\u093e\\u092c \\u0925\\u0947\\u0964 \\u0926\\u093f\\u0928 \\u091c\\u093e\\u0926\\u0942\\u0917\\u0930 \\u0905\\u091a\\u094d\\u091b \\u092c\\u0928 \\u092a\\u0921\\u093c \\u0939\\u0948\\u0902\\u0964 \\u092e\\u093f\\u0932 \\u0915\\u092e \\u092c\\u093e\\u0935\\u091c\\u0942\\u0926 \\u2018 \\u0926\\u093f\\u0932 \\u092c\\u091a\\u094d\\u091a \\u0939\\u0948 \\u091c\\u0940 \\u2019 \\u0930\\u094b\\u091a\\u0915 \\u0939\\u0948\\u0964 \"\n        ],\n        \"num_unique_values\": 718,\n        \"semantic_type\": \"\",\n        \"description\": \"\"\n      }\n    },\n    {\n      \"column\": \"experience\",\n      \"properties\": {\n        \"dtype\": \"number\",\n        \"std\": 0,\n        \"min\": 0,\n        \"max\": 2,\n        \"samples\": [\n          2,\n          0,\n          1\n        ],\n        \"num_unique_values\": 3,\n        \"semantic_type\": \"\",\n        \"description\": \"\"\n      }\n    }\n  ]\n}"
            }
          },
          "metadata": {},
          "execution_count": 31
        }
      ]
    },
    {
      "cell_type": "markdown",
      "source": [
        "Saving this preprocessed file before splitting"
      ],
      "metadata": {
        "id": "pf64SLxz7X-J"
      }
    },
    {
      "cell_type": "code",
      "source": [
        "# Naming it Pre_HTrain\n",
        "data.to_csv('/content/drive/MyDrive/Project/Pre_HTrain.csv', index=False)"
      ],
      "metadata": {
        "id": "cHAhC5TE7yfX"
      },
      "execution_count": null,
      "outputs": []
    },
    {
      "cell_type": "markdown",
      "source": [
        "Splitting up data"
      ],
      "metadata": {
        "id": "YMWN34mdRupn"
      }
    },
    {
      "cell_type": "code",
      "source": [
        "from sklearn.model_selection import train_test_split\n",
        "x_train, x_test, y_train, y_test = train_test_split( data['review'], data['experience'], test_size = 0.2)"
      ],
      "metadata": {
        "id": "sgd2lFMuRwBX"
      },
      "execution_count": null,
      "outputs": []
    },
    {
      "cell_type": "code",
      "source": [
        "display( x_train.head())\n",
        "print('\\n')\n",
        "display( y_train.head())"
      ],
      "metadata": {
        "colab": {
          "base_uri": "https://localhost:8080/",
          "height": 260
        },
        "id": "bgIkSq5_EUFY",
        "outputId": "685b7174-f5cf-4cff-8027-8bacd9168b76"
      },
      "execution_count": null,
      "outputs": [
        {
          "output_type": "display_data",
          "data": {
            "text/plain": [
              "616    शुक्रवार बॉलिवुड की चार फिल्म रिलीज़ हुईं। एकस...\n",
              "125    भ्रष्ट पुलिस ऑफिसर  रिश्वत सरकार बाब वोट पा नो...\n",
              "275    अपराध फिल्म में बेहद चाल बत है। सीध तौर संवाद ...\n",
              "347    पिछल शुक्रवार रिलीज नाम कलाकार की मेग बजट फिल्...\n",
              "320    फिल्म बार में पाठक समीक्ष भेज हैं। सर्वश्रेष्ठ...\n",
              "Name: review, dtype: object"
            ]
          },
          "metadata": {}
        },
        {
          "output_type": "stream",
          "name": "stdout",
          "text": [
            "\n",
            "\n"
          ]
        },
        {
          "output_type": "display_data",
          "data": {
            "text/plain": [
              "616    2\n",
              "125    0\n",
              "275    2\n",
              "347    1\n",
              "320    1\n",
              "Name: experience, dtype: int64"
            ]
          },
          "metadata": {}
        }
      ]
    },
    {
      "cell_type": "code",
      "source": [
        "display( x_test.head())\n",
        "print('\\n')\n",
        "display( y_test.head())"
      ],
      "metadata": {
        "colab": {
          "base_uri": "https://localhost:8080/",
          "height": 260
        },
        "id": "SZk7JOVtEaKV",
        "outputId": "7b1883ed-948a-41d6-d012-cd7906d7a67e"
      },
      "execution_count": null,
      "outputs": [
        {
          "output_type": "display_data",
          "data": {
            "text/plain": [
              "22     1 बे 2 औसत 3 अच्छ 4 शानदार 5 अद्‍भुत निर्म  आद...\n",
              "50     अपराध हिंस फिल्म बन फिल्म निर्देशक अनुराग कश्य...\n",
              "634    करण जौहर फिल्मम यश चोपड़ रोमांटिक सिनेम बेहद प...\n",
              "633    एनएच10 बतौर प्रड्यूसर ऐक्ट्रेस अनुष्क शर्म की ...\n",
              "379    कह  दूसर दुन एलियन लड़ दुन विनाश बच शेर दिल  ब...\n",
              "Name: review, dtype: object"
            ]
          },
          "metadata": {}
        },
        {
          "output_type": "stream",
          "name": "stdout",
          "text": [
            "\n",
            "\n"
          ]
        },
        {
          "output_type": "display_data",
          "data": {
            "text/plain": [
              "22     1\n",
              "50     2\n",
              "634    1\n",
              "633    2\n",
              "379    0\n",
              "Name: experience, dtype: int64"
            ]
          },
          "metadata": {}
        }
      ]
    },
    {
      "cell_type": "markdown",
      "source": [
        "Vectorisation"
      ],
      "metadata": {
        "id": "FKqFJRbwDpdP"
      }
    },
    {
      "cell_type": "code",
      "source": [
        "from sklearn.feature_extraction.text import TfidfVectorizer\n",
        "my_tfidf = TfidfVectorizer ( max_df = 0.5)\n",
        "\n",
        "tfidf_train = my_tfidf.fit_transform(x_train)\n",
        "tfidf_test = my_tfidf.transform(x_test)"
      ],
      "metadata": {
        "id": "-kc67CTBDrKF"
      },
      "execution_count": null,
      "outputs": []
    },
    {
      "cell_type": "code",
      "source": [
        "print(tfidf_train)"
      ],
      "metadata": {
        "colab": {
          "base_uri": "https://localhost:8080/"
        },
        "id": "NKrt7h3YES3c",
        "outputId": "1d235054-3e93-4aec-a178-fb029f5a01da"
      },
      "execution_count": null,
      "outputs": [
        {
          "output_type": "stream",
          "name": "stdout",
          "text": [
            "  (0, 1137)\t0.05651152457325082\n",
            "  (0, 1034)\t0.05961358640491122\n",
            "  (0, 1451)\t0.03907794044471776\n",
            "  (0, 860)\t0.037918221969730104\n",
            "  (0, 2096)\t0.04896769087280373\n",
            "  (0, 1759)\t0.05810978036482078\n",
            "  (0, 656)\t0.0966022418269201\n",
            "  (0, 2456)\t0.0971315946812615\n",
            "  (0, 1384)\t0.0635091981478896\n",
            "  (0, 743)\t0.04559686185563278\n",
            "  (0, 1482)\t0.0541451323436303\n",
            "  (0, 1500)\t0.05449256616971725\n",
            "  (0, 2146)\t0.060756463598785865\n",
            "  (0, 2617)\t0.055570107569933386\n",
            "  (0, 1768)\t0.052971763303085374\n",
            "  (0, 2315)\t0.039334857883033876\n",
            "  (0, 885)\t0.047529632652203634\n",
            "  (0, 1835)\t0.07533321978401371\n",
            "  (0, 1727)\t0.05961358640491122\n",
            "  (0, 808)\t0.1082902646872606\n",
            "  (0, 1980)\t0.05346676712915195\n",
            "  (0, 1236)\t0.09739784737458637\n",
            "  (0, 2008)\t0.06099256223881173\n",
            "  (0, 1665)\t0.07886043085733169\n",
            "  (0, 2206)\t0.043093062660379586\n",
            "  :\t:\n",
            "  (573, 885)\t0.07206570380752736\n",
            "  (573, 1835)\t0.057111124164878097\n",
            "  (573, 1236)\t0.07383861423618925\n",
            "  (573, 2206)\t0.06533885739380207\n",
            "  (573, 929)\t0.03829197850277305\n",
            "  (573, 1686)\t0.0831585864843806\n",
            "  (573, 1411)\t0.03931537492919197\n",
            "  (573, 2751)\t0.033965991614134064\n",
            "  (573, 733)\t0.0338818439494631\n",
            "  (573, 1697)\t0.03456759244370497\n",
            "  (573, 3042)\t0.028992680653076242\n",
            "  (573, 1343)\t0.04212844376466669\n",
            "  (573, 745)\t0.10724348672259895\n",
            "  (573, 2444)\t0.031040822753261633\n",
            "  (573, 635)\t0.14413140761505472\n",
            "  (573, 2629)\t0.06742969753832409\n",
            "  (573, 2637)\t0.10561432184416239\n",
            "  (573, 2996)\t0.029369404353833287\n",
            "  (573, 3037)\t0.14286755778890609\n",
            "  (573, 1843)\t0.049853845418120636\n",
            "  (573, 2202)\t0.04642026883602896\n",
            "  (573, 1262)\t0.06913518488740994\n",
            "  (573, 2084)\t0.04485986005856827\n",
            "  (573, 857)\t0.06878682907889101\n",
            "  (573, 2643)\t0.15541012930674367\n"
          ]
        }
      ]
    },
    {
      "cell_type": "markdown",
      "source": [
        "Logistic Regression"
      ],
      "metadata": {
        "id": "jwVQN7vTGu7x"
      }
    },
    {
      "cell_type": "code",
      "source": [
        "from sklearn.linear_model import LogisticRegression\n",
        "from sklearn.tree import DecisionTreeClassifier\n",
        "from sklearn.metrics import accuracy_score"
      ],
      "metadata": {
        "id": "YMKUTh3TGxTb"
      },
      "execution_count": null,
      "outputs": []
    },
    {
      "cell_type": "code",
      "source": [
        "model_1 = LogisticRegression( max_iter=1000)\n",
        "model_1.fit( tfidf_train, y_train)\n",
        "pred_1 = model_1.predict(tfidf_test)\n",
        "m1_score = accuracy_score( y_test, pred_1)\n",
        "print( m1_score*100)"
      ],
      "metadata": {
        "colab": {
          "base_uri": "https://localhost:8080/"
        },
        "id": "nd9a-CFTHBEG",
        "outputId": "d536f810-4da9-46db-8571-580900576614"
      },
      "execution_count": null,
      "outputs": [
        {
          "output_type": "stream",
          "name": "stdout",
          "text": [
            "50.0\n"
          ]
        }
      ]
    },
    {
      "cell_type": "markdown",
      "source": [
        "Passive Aggressive Classifier"
      ],
      "metadata": {
        "id": "TW42wLR1NjAN"
      }
    },
    {
      "cell_type": "code",
      "source": [
        "from sklearn.linear_model import PassiveAggressiveClassifier\n",
        "\n",
        "model_2 = PassiveAggressiveClassifier( max_iter = 150)\n",
        "model_2.fit( tfidf_train, y_train)\n",
        "pred_2 = model_2.predict( tfidf_test)\n",
        "m2_score = accuracy_score(y_test, pred_2)\n",
        "print(m2_score*100)\n"
      ],
      "metadata": {
        "colab": {
          "base_uri": "https://localhost:8080/"
        },
        "id": "e0LSyoNVNh_W",
        "outputId": "fc4faca9-9c50-4570-a8f5-05d08eb0d28f"
      },
      "execution_count": null,
      "outputs": [
        {
          "output_type": "stream",
          "name": "stdout",
          "text": [
            "49.30555555555556\n"
          ]
        }
      ]
    },
    {
      "cell_type": "markdown",
      "source": [
        "Naive Bayes Classifier"
      ],
      "metadata": {
        "id": "aH9t8jPMfTQz"
      }
    },
    {
      "cell_type": "code",
      "source": [
        "dn = data\n",
        "dn.head()"
      ],
      "metadata": {
        "id": "_ND7FQ1Vg_E_"
      },
      "execution_count": null,
      "outputs": []
    },
    {
      "cell_type": "code",
      "source": [
        "# Splitting data into independent and dependent variables\n",
        "DV = \"experience\" # the dependent variable, review is independent here\n",
        "X = dn.drop([DV], axis = 1) # drop from our X array because this it the 'review' data to be trained\n",
        "Y = dn[DV]"
      ],
      "metadata": {
        "id": "8qB2dLk9gwXd"
      },
      "execution_count": null,
      "outputs": []
    },
    {
      "cell_type": "code",
      "source": [
        "from sklearn.model_selection import train_test_split\n",
        "\n",
        "# Train 75% of the data, 25% for testing\n",
        "X_train, X_test, Y_train, Y_test = train_test_split(X,Y, test_size=0.25)"
      ],
      "metadata": {
        "id": "x-J3_tp5f2B-"
      },
      "execution_count": null,
      "outputs": []
    },
    {
      "cell_type": "code",
      "source": [
        "# Converting words into bag of words model with sklearns CountVectorizer\n",
        "from sklearn.feature_extraction.text import CountVectorizer\n",
        "\n",
        "count_vect = CountVectorizer(max_features = 5000) # limit to 5000 unique words, but room to mess around is here\n",
        "X_train_counts = count_vect.fit_transform(X_train['review'])\n",
        "#print(count_vect.vocabulary_) #here is our bag of words\n",
        "\n",
        "X_test = count_vect.transform(X_test['review']) # note, this is not fit to the model"
      ],
      "metadata": {
        "id": "gBZH31efhQiT"
      },
      "execution_count": null,
      "outputs": []
    },
    {
      "cell_type": "code",
      "source": [
        "print(count_vect.vocabulary_)"
      ],
      "metadata": {
        "colab": {
          "base_uri": "https://localhost:8080/"
        },
        "id": "pMjpVVzphbdk",
        "outputId": "4610cb2e-4d9f-43b6-9e43-836e1f614f9b"
      },
      "execution_count": null,
      "outputs": [
        {
          "output_type": "stream",
          "name": "stdout",
          "text": [
            "{'औसत': 1295, 'अच': 625, 'नद': 2060, 'अद': 654, 'षण': 2839, 'शन': 2798, 'शक': 2785, 'सत': 2887, 'शम': 2814, 'कल': 1369, 'उर': 1063, 'लशन': 2714, 'वर': 2765, 'हट': 2996, 'गड': 1463, 'बख': 2230, 'ईर': 998, 'बब': 2270, 'बर': 2275, 'असर': 766, 'बन': 2262, 'मह': 2443, 'रत': 2578, 'उन': 1034, 'दक': 1940, 'घई': 1515, '1980': 74, 'रदर': 2591, 'कर': 1353, 'आध': 841, 'अफ': 698, 'कप': 1334, 'कस': 1391, 'नक': 2036, 'बज': 2239, 'लग': 2661, 'हव': 3054, 'लड': 2679, 'उसक': 1072, 'पस': 2176, 'नजर': 2050, 'आत': 835, 'सक': 2866, 'छव': 1601, 'अकसर': 614, 'छल': 1600, 'जन': 1629, 'आन': 842, 'रव': 2623, 'यद': 2471, 'हड': 3000, 'हत': 3001, 'बहन': 2304, 'अब': 707, 'नत': 2056, 'नजद': 2048, 'बढ': 2245, 'पत': 2131, 'थस': 1936, 'बदल': 2257, 'कह': 1396, 'हद': 3006, 'सशक': 2971, 'नर': 2078, 'ईबहन': 994, 'मस': 2436, 'तत': 1856, 'भरप': 2334, 'इश': 968, 'उपय': 1048, 'गत': 1468, 'रख': 2534, 'कई': 1299, 'टक': 1709, 'घटन': 1518, 'रम': 2610, 'रस': 2631, 'करण': 1358, 'आज': 825, '70': 184, '80': 194, 'दशक': 1989, 'टम': 1735, 'पष': 2175, 'दर': 1969, 'आम': 855, 'उद': 1029, 'सफल': 2912, 'कम': 1344, 'उम': 1060, '25': 118, 'लत': 2682, 'मध': 2393, 'तर': 1883, 'पड': 2128, 'इम': 950, 'समय': 2934, 'पकड': 2110, 'पटकथ': 2123, 'खक': 1407, 'अहमद': 779, 'इसस': 978, 'अभ': 712, 'कमज': 1345, 'कड': 1317, 'नय': 2076, 'बड': 2244, 'चत': 1549, 'नई': 2027, 'रभ': 2607, 'एकदम': 1113, 'खल': 1437, 'महत': 2447, 'वह': 2779, 'आए': 812, 'मजब': 2374, 'इट': 917, 'अल': 732, 'हस': 3060, 'कन': 1330, 'भव': 2339, 'तकन': 1846, 'अलग': 734, 'पहल': 2184, 'डर': 1802, 'बत': 2246, 'पन': 2137, 'जबक': 1645, 'रण': 2567, 'गई': 1445, 'इत': 928, 'दम': 1963, 'उब': 1054, 'अस': 760, 'नब': 2068, 'अन': 665, 'अफस': 703, 'सम': 2926, 'ओमप': 1272, 'बस': 2299, 'मल': 2425, 'वत': 2744, 'दय': 1968, 'आश': 891, 'जर': 1666, 'सप': 2905, 'चल': 1571, 'लच': 2670, 'हर': 3030, 'शहर': 2832, 'कट': 1311, 'लव': 2705, 'पठ': 2127, 'रन': 2593, 'उज': 1014, 'गर': 1487, 'धमक': 2014, 'इज': 914, 'जत': 1625, 'बच': 2235, 'कत': 1320, 'खबर': 1429, 'यब': 2478, 'ईम': 996, 'यक': 2454, 'मन': 2395, 'नस': 2099, 'उठ': 1018, 'आई': 794, 'पह': 2179, 'रश': 2627, 'जव': 1675, 'जल': 1670, 'वज': 2736, 'हम': 3019, 'मदद': 2391, 'समझ': 2930, 'पर': 2145, 'खर': 1433, 'गल': 1493, 'खत': 1418, 'बकबक': 2228, 'पक': 2109, 'एक': 1107, 'तच': 1852, 'गए': 1446, 'नह': 2104, 'मतलब': 2387, 'थक': 1919, 'हनत': 3009, 'वप': 2756, 'सतह': 2888, 'मय': 2413, 'रह': 2636, 'आख': 818, 'कब': 1340, 'बह': 2301, 'ओम': 1270, 'रष': 2630, 'टर': 1738, 'पम': 2143, 'मद': 2390, 'अत': 650, 'लकर': 2655, 'आय': 861, 'ऐस': 1233, 'एमब': 1179, 'आद': 836, 'तव': 1903, 'दल': 1982, 'जप': 1641, 'दव': 1987, 'सर': 2943, 'वल': 2771, 'वयस': 2764, '13': 20, 'नट': 2053, 'कश': 1387, 'यप': 2475, 'आपक': 845, 'लइट': 2648, 'तस': 1905, 'नन': 2062, 'एसर': 1215, 'आठ': 830, 'चर': 1566, 'यज': 2461, 'औल': 1294, 'आक': 816, 'गलत': 1497, 'इस': 971, 'यथ': 2470, 'वजह': 2739, 'रद': 2589, 'भर': 2331, 'जस': 1678, 'धर': 2015, 'आग': 819, 'पढ': 2129, 'तम': 1878, 'इनस': 940, 'धन': 2007, 'इकट': 903, 'यम': 2480, 'जनरल': 1636, 'ऐन': 1228, 'पद': 2135, 'इसल': 977, 'कठप': 1316, 'तल': 1896, 'असल': 769, 'फर': 2205, 'षड': 2838, 'वफ': 2757, 'नफरत': 2066, 'हतर': 3004, 'नए': 2032, 'अध': 661, 'ठभ': 1772, 'नखर': 2040, 'लगभग': 2664, 'ओर': 1273, 'गलर': 1502, 'बरब': 2284, 'इन': 931, 'दत': 1948, 'अगर': 619, 'उल': 1064, 'गब': 1479, 'उभ': 1058, 'कज': 1308, 'जडव': 1624, 'आयश': 869, 'हन': 3007, 'तन': 1858, 'अमन': 716, 'शव': 2827, 'हरकत': 3032, 'हथ': 3005, 'लप': 2688, 'रहण': 2638, 'एकद': 1112, 'खड': 1417, 'अपन': 688, 'अप': 686, 'षर': 2854, 'सच': 2875, 'नग': 2042, 'ऊपर': 1084, 'बरस': 2286, 'मज': 2371, 'हमस': 3028, 'रतप': 2584, 'अम': 714, 'ठहर': 1780, 'वस': 2777, 'अपर': 690, 'रच': 2544, 'शरमन': 2824, 'जय': 1659, 'उत': 1024, 'दमद': 1965, 'इनक': 932, 'हजम': 2993, 'झपक': 1695, 'भल': 2337, 'एओप': 1106, 'एल': 1188, 'टरट': 1742, 'नम': 2072, 'असलम': 770, 'भग': 2315, 'धवन': 2021, 'रवण': 2624, 'रणव': 2576, 'उतरत': 1026, 'परम': 2156, 'डल': 1817, 'यर': 2490, 'उसस': 1077, 'यफ': 2477, 'गलतफहम': 1499, 'लस': 2715, 'यह': 2516, 'बल': 2287, 'टरवल': 1750, 'सस': 2972, 'डबल': 1796, 'लथ': 2683, 'तप': 1863, 'अटपट': 641, 'असह': 772, 'वजन': 2737, 'अरस': 731, 'मश': 2433, 'डग': 1787, 'यशर': 2508, 'लम': 2695, 'शर': 2818, 'सल': 2965, 'रज': 2551, '14': 27, '20': 89, 'यमवर': 2487, 'दग': 1944, 'पट': 2121, 'टनर': 1727, 'कभ': 1343, 'करव': 1367, 'तरक': 1885, 'यव': 2499, 'अनबन': 681, 'अलगअलग': 735, 'यवस': 2503, 'इफ': 943, 'टल': 1752, 'रक': 2527, 'जम': 1652, 'लचस': 2672, 'चटक': 1542, 'मधड': 2394, 'महस': 2450, 'करत': 1361, '15': 31, 'अवसर': 755, 'मव': 2431, 'अनज': 674, 'जक': 1605, 'गढ': 1465, 'शनल': 2804, 'इनम': 937, 'वई': 2726, 'मर': 2414, 'डक': 1784, 'अहल': 780, 'लश': 2713, 'अजय': 632, 'वगन': 2733, 'अर': 723, 'मप': 2405, 'डन': 1790, 'सकल': 2868, 'सट': 2881, 'उड': 1021, 'टच': 1716, 'शत': 2795, 'पच': 2117, 'परद': 2152, 'बचक': 2236, 'सह': 2973, 'सलम': 2966, 'उनम': 1037, 'जग': 1610, 'मसलन': 2442, 'मक': 2347, 'जह': 1682, '90': 201, 'सब': 2914, 'वन': 2751, 'नप': 2063, 'घट': 1516, 'असफल': 762, 'आइटम': 785, 'टपक': 1729, 'कअप': 1297, 'कसर': 1394, 'उनस': 1038, 'तबद': 1873, 'एशन': 1202, 'वरण': 2766, 'वण': 2743, 'अगल': 622, 'वध': 2750, 'षस': 2858, 'लक': 2651, 'मण': 2384, 'अपहरण': 696, 'इय': 958, 'जगह': 1617, 'महज': 2445, 'लगत': 2662, 'खतर': 1420, 'तभ': 1876, 'एन': 1140, 'चक': 1531, 'रय': 2619, 'बजट': 2240, 'तह': 1908, 'सरल': 2961, 'शब': 2810, 'इल': 963, 'सफ': 2909, 'एज': 1128, '31': 128, '18': 46, 'मकथ': 2349, 'बई': 2224, 'भट': 2318, 'सड': 2886, 'रचढ': 2545, 'नकल': 2038, 'आपस': 850, 'कझ': 1310, 'खद': 1422, 'नजरअ': 2051, 'गप': 1475, 'चश': 1580, 'पहन': 2181, 'गय': 1486, 'सध': 2893, 'नवर': 2093, 'बलश': 2295, 'पवन': 2173, 'नटर': 2054, 'रमण': 2612, 'आउटड': 810, 'ऐक': 1218, 'पहच': 2180, 'वक': 2727, 'आव': 887, 'चढ': 1548, 'लज': 2673, 'सरत': 2949, 'आजम': 828, 'कव': 1382, 'रणज': 2569, 'करक': 1356, 'षक': 2834, 'रफ': 2598, 'सन': 2894, 'दन': 1952, 'जमहल': 1658, 'ईस': 1002, 'महर': 2448, 'आनब': 843, 'तज': 1854, 'वतन': 2746, 'ऑफ': 1243, 'थश': 1935, 'उप': 1039, 'यल': 2498, 'आफ': 851, 'दरक': 1971, 'आएग': 813, 'टरन': 1745, 'अव': 746, 'रवमय': 2625, 'रर': 2620, '1000': 4, 'पए': 2108, 'इड': 925, 'हफ': 3014, 'फरह': 2210, 'अख': 615, 'ऑन': 1237, '50': 163, 'बट': 2242, 'टब': 1734, 'अक': 610, 'पल': 2164, 'सव': 2969, 'अवध': 750, 'एड': 1132, '128': 19, 'यशवर': 2510, 'यश': 2505, 'यन': 2473, 'नल': 2085, 'हमल': 3025, 'भस': 2342, 'आकर': 817, 'आस': 892, 'सकत': 2867, 'एकब': 1114, 'एकआध': 1108, 'नव': 2087, 'नयन': 2077, 'ओवरड': 1281, 'आदत': 837, 'अटर': 642, 'परह': 2163, 'अखर': 617, 'रग': 2538, 'रणब': 2573, 'सहगल': 2974, 'सबक': 2916, 'सपन': 2907, 'शख': 2790, 'इर': 960, 'तभर': 1877, 'घरव': 1526, 'मकसद': 2358, 'जमत': 1654, 'मम': 2412, 'डस': 1824, 'आर': 870, 'टस': 1759, 'गण': 1466, 'रतन': 2583, 'यदर': 2472, 'आरड': 876, 'षय': 2848, 'रनस': 2595, '40': 146, 'कदम': 1327, 'इकठ': 904, 'लफ': 2689, 'एग': 1122, 'आल': 883, 'हरब': 3042, 'शरत': 2820, 'लब': 2690, 'उपलब': 1051, 'षयअर': 2849, 'षयक': 2850, 'अलम': 740, 'कतर': 1323, 'खच': 1412, 'भन': 2326, 'धव': 2020, 'अट': 637, '1520': 35, 'परस': 2162, 'खन': 1424, '1986': 77, 'एम': 1166, '73': 188, 'उतर': 1025, '379': 139, 'कठ': 1315, 'ऑर': 1247, 'इप': 941, 'उलझ': 1065, 'एअरप': 1098, 'णय': 1839, 'षम': 2846, 'भनक': 2327, 'नच': 2046, 'भय': 2329, 'वट': 2740, '23': 114, 'अनप': 678, 'घड': 1519, 'रहत': 2639, 'एडल': 1135, 'कचर': 1306, 'अमर': 717, 'आफत': 852, 'वद': 2747, 'ओब': 1267, 'शबर': 2811, 'वश': 2776, 'मनचल': 2397, 'रप': 2596, 'टकल': 1712, 'एप': 1157, 'तड': 1855, 'बक': 2226, 'सद': 2890, 'एएलट': 1104, 'अश': 756, 'यण': 2467, 'अनकह': 670, 'वरम': 2769, 'वव': 2775, 'अज': 627, 'कथ': 1325, 'कग': 1304, 'उस': 1071, 'अगव': 623, '998': 208, 'मलक': 2426, 'रहस': 2645, 'यमय': 2484, '3ड': 145, 'यस': 2513, 'तलपद': 1898, 'गद': 1471, '45': 154, 'टरव': 1749, 'तय': 1881, 'इसक': 972, 'पगल': 2116, 'लचर': 2671, 'गलख': 1495, 'लट': 2676, 'उलट': 1067, 'लटक': 2677, 'टलर': 1754, 'औरत': 1293, 'अगस': 624, 'एफब': 1163, 'कद': 1326, 'तरब': 1890, 'पप': 2140, 'आइड': 786, 'ठत': 1767, 'अनम': 683, 'मत': 2385, 'घर': 1524, 'बम': 2272, '65': 182, '47': 156, 'असहज': 773, 'लथपथ': 2684, 'आदम': 838, 'लगव': 2668, 'उलटप': 1068, 'दस': 1992, 'थन': 1923, 'रनर': 2594, 'पय': 2144, '22': 113, '2016': 103, 'ओल': 1275, 'पदक': 2136, 'हक': 2985, 'गठन': 1461, 'छत': 1594, '16': 38, 'उसम': 1075, 'चमत': 1563, 'इच': 913, 'खलल': 1440, 'अफसर': 704, 'दखल': 1943, 'उभर': 1059, 'भवत': 2340, 'आड': 833, 'उष': 1070, 'जनल': 1637, 'वसन': 2778, 'गहर': 1509, 'एकम': 1115, 'गजर': 1454, '51': 166, 'रड': 2563, 'सचद': 2876, 'रडक': 2564, 'एनस': 1156, 'डरवर': 1815, 'इकल': 908, 'एकलव': 1118, 'शह': 2830, 'परव': 2160, 'इजर': 916, 'अलव': 742, 'उथलप': 1028, 'थल': 1933, 'मच': 2367, 'लन': 2686, '7080': 185, 'आसप': 893, 'भगत': 2316, 'उपन': 1045, 'इव': 965, 'समवन': 2940, 'यट': 2463, 'दब': 1960, 'रट': 2560, 'वनस': 2755, 'उपद': 1044, 'बढ़': 2312, 'रणछ': 2568, 'ड़द': 3067, 'मलद': 2428, 'चड़': 1586, 'मरमर': 2421, 'डरडर': 1807, 'गस': 1507, 'सहस': 2981, 'रब': 2602, 'सहमत': 2978, 'पढ़': 2188, 'सफर': 2911, 'डप': 1793, 'सरपट': 2954, 'रबल': 2606, 'फड': 2197, 'डव': 1823, '60': 178, 'पड़': 2186, 'लड़क': 2724, '30': 126, 'गम': 1483, 'वभ': 2758, 'ऊर': 1087, 'उपस': 1052, 'टन': 1724, 'एनआरआई': 1141, 'ओवर': 1278, 'शल': 2825, '2007': 94, '2008': 95, 'गज': 1452, '2009': 96, 'चन': 1552, 'कमर': 1349, 'जड': 1623, 'कसमस': 1393, 'कच': 1305, 'रशर': 2629, 'समर': 2936, 'घबर': 1522, 'फलक': 2212, 'रजक': 2552, 'जब': 1644, 'लगर': 2667, 'रतलब': 2587, 'णन': 1834, 'इटल': 922, 'लय': 2697, '74': 189, 'गजब': 1453, 'झटपट': 1691, 'अष': 759, 'टव': 1755, 'एआररहम': 1101, 'नरग': 2080, 'फखर': 2191, 'यणन': 2468, '39': 142, 'ठस': 1776, 'खट': 1414, 'हब': 3016, 'दरअसल': 1970, 'जमस': 1657, 'एटर': 1130, 'ओवरल': 1283, 'वरफ': 2768, 'हल': 3048, 'छटपट': 1590, 'एआर': 1100, 'रहम': 2643, 'इरश': 962, 'अलर': 741, 'थड': 1922, 'बध': 2261, 'पब': 2141, 'पछ': 2119, 'सरक': 2944, 'रसम': 2633, 'ऑपर': 1242, 'ठक': 1764, 'चड': 1547, 'एसप': 1214, 'ऋष': 1095, 'जज': 1621, 'एब': 1165, 'मग': 2362, 'पबल': 2142, 'मनम': 2400, 'टकर': 1711, 'मतभ': 2386, 'तथ': 1857, 'गरम': 1492, 'जनक': 1630, 'अहस': 781, 'ऑन2': 1238, 'अहम': 778, 'शश': 2828, 'करअहस': 1354, '19': 51, 'रल': 2622, 'चटर': 1546, 'महल': 2449, '13ब': 25, 'जश': 1677, 'सहम': 2977, 'चलत': 1572, 'परतदरपरत': 2151, 'जबरदस': 1650, 'गट': 1456, 'आमत': 857, 'सदस': 2892, 'गन': 1473, 'एलबम': 1195, 'तब': 1870, 'हरण': 3036, 'सभरव': 2925, 'सदम': 2891, 'एसएमएस': 1209, 'जफर': 1643, '36': 135, 'जयद': 1661, '1971': 67, 'करग': 1357, 'एलओस': 1190, 'करन': 1362, '71': 186, 'दमन': 1966, 'नरस': 2084, '17': 43, 'आईएनएस': 797, 'पनड': 2138, 'एस': 1204, '21': 111, 'सय': 2942, 'अग': 618, 'सज': 2878, 'एनएस': 1148, 'रडय': 2566, 'चयन': 1565, 'अनन': 677, 'एफएक': 1160, 'कहल': 1400, 'एकस': 1120, 'सबब': 2920, 'छक': 1588, 'अय': 721, 'बहस': 2309, 'षणब': 2840, 'दह': 1997, 'धम': 2013, 'एट': 1129, 'टड': 1720, 'रईस': 2521, 'टय': 1737, 'जबर': 1649, 'मशह': 2435, 'जलव': 1673, 'आरप': 877, 'डब': 1794, 'अपस': 694, 'ओह': 1287, 'ऑल': 1249, 'आमद': 858, 'अलबम': 738, 'इमर': 955, 'चकम': 1534, '49': 159, 'रजन': 2554, 'अगरमगर': 621, 'नहर': 2105, 'आसम': 895, 'अनग': 671, 'पटर': 2125, '43': 152, 'आप': 844, 'रडम': 2565, 'चमक': 1557, 'खलन': 1438, 'तक': 1845, 'कलईप': 1370, '10': 2, 'डट': 1789, 'लर': 2698, '106': 9, 'रघ': 2543, 'आयरल': 867, 'एए': 1102, 'षप': 2845, 'बग': 2231, 'शभक': 2812, 'सबट': 2917, 'डलन': 1819, 'यग': 2459, 'एचआर': 1124, '46': 155, 'बप': 2268, 'चय': 1564, 'समस': 2941, 'लझ': 2675, '1975': 70, 'घम': 1523, 'अदद': 656, '1977': 72, 'सरन': 2952, 'ऑड': 1236, 'एकतरफ': 1111, 'खय': 1432, 'इटर': 918, 'ऑस': 1254, 'छड': 1593, 'इनट': 934, 'इकर': 907, 'झटक': 1690, 'चप': 1553, 'लवस': 2712, 'नज': 2047, 'चह': 1583, 'इडरम': 927, 'मकम': 2353, 'एव': 1197, 'मलब': 2429, 'फसफ': 2217, 'नश': 2096, 'आयरनम': 866, 'अडव': 649, 'इगर': 912, 'हमउम': 3020, 'झलक': 1702, 'ऑफर': 1244, 'गटन': 1458, '16व': 42, 'इडर': 926, 'उसफ': 1074, 'आईम': 807, '2019': 106, 'लल': 2701, 'बहल': 2308, 'भवन': 2341, 'मट': 2379, 'थर': 1929, 'एहस': 1216, 'बइ': 2222, 'हकल': 2987, 'गच': 1451, 'अटक': 638, 'इवर': 966, 'अड': 644, 'परफ': 2154, '41': 148, '56': 173, '364': 136, 'लटर': 2678, 'भटक': 2319, 'ईश': 1001, 'जबतब': 1647, 'आलम': 884, '37': 137, 'जध': 1628, 'तरस': 1893, 'दध': 1951, 'ययन': 2489, 'खटक': 1415, 'वय': 2761, 'ऐश': 1232, 'घन': 1521, 'धल': 2019, 'सलव': 2967, 'चब': 1555, 'झर': 1699, 'परत': 2149, 'असहम': 774, 'रऐक': 2526, 'कमब': 1347, 'अडल': 648, 'हलक': 3049, 'बड़': 2310, 'गगन': 1450, 'रभल': 2608, 'रचढ़': 2549, 'टसच': 1760, 'एरर': 1187, 'तकर': 1847, 'जकह': 1608, 'डय': 1801, 'अछ': 626, 'ईल': 999, 'रजत': 2553, 'बदम': 2255, 'टफ': 1731, 'लवर': 2710, 'रएह': 2525, 'एमएसज': 1175, 'कसम': 1392, 'शस': 2829, 'सहय': 2979, 'इक': 902, 'सरगम': 2946, 'मसल': 2441, 'कदर': 1329, 'धज': 2003, 'इकब': 906, 'सख': 2869, 'उदय': 1030, 'एमडब': 1178, 'थम': 1927, 'कमल': 1350, 'लएत': 2650, 'षजनक': 2837, 'जबरन': 1651, 'आच': 823, 'टशन': 1757, 'तरर': 1892, '52': 167, 'कलश': 1380, 'गलस': 1503, 'रपर': 2597, 'खभ': 1430, 'आरव': 881, '108': 10, 'ऐतर': 1227, 'हरत': 3037, 'बलब': 2291, 'मरघट': 2416, 'शग': 2792, '11': 11, 'बदस': 2259, '11व': 14, 'तलव': 1901, 'तरह': 1894, 'इमन': 953, 'नबर': 2069, 'इलर': 964, 'समयसमय': 2935, 'वतएइश': 2745, 'आभ': 854, 'लखनऊ': 2659, 'आईएस': 800, 'रकम': 2530, 'कपड': 1336, 'जतर': 1626, '498ए': 160, 'मकड': 2348, 'दश': 1988, 'पछत': 2120, 'बनव': 2267, 'इग': 911, 'ओपन': 1266, 'टर2': 1739, '2006': 93, 'आयल': 868, 'ढल': 1831, 'जद': 1627, 'जहद': 1683, 'डरव': 1814, 'बरम': 2285, 'एलम': 1196, 'घव': 1527, 'फडण': 2198, 'मकब': 2351, 'ओथ': 1262, '1995': 83, 'दख': 1942, 'तकल': 1848, 'इरफ': 961, 'बशरत': 2298, 'समझद': 2932, 'आवश': 890, 'दफ': 1956, 'शकस': 2789, 'इसब': 975, 'ईयर': 997, 'ऑक': 1234, '85': 199, 'हज': 2991, 'अटकल': 640, 'फव': 2215, 'जमघट': 1653, 'समझत': 2931, 'झकझ': 1686, 'रअन': 2518, 'सरप': 2953, 'एनर': 1153, 'लह': 2716, 'तरअस': 1884, 'mns': 428, 'ठसत': 1778, 'इनप': 935, 'एडव': 1136, 'अभय': 713, 'असरद': 768, 'दलदल': 1984, 'धक': 2001, 'ठप': 1770, 'उच': 1011, 'झब': 1697, 'तवज': 1904, 'फस': 2216, 'उपज': 1043, 'ईन': 992, 'सरभ': 2958, 'चव': 1577, 'भइय': 2313, 'इह': 979, 'नसम': 2103, 'लड़': 2723, 'अवत': 749, 'भरम': 2335, 'झव': 1704, 'मनमर': 2401, 'सरहद': 2964, '1999': 87, 'सनम': 2899, 'तसर': 1906, 'खफ': 1427, 'जट': 1622, 'अपड': 687, '157': 37, 'कहव': 1402, 'और': 1292, 'कशन': 1388, 'चमकद': 1558, 'अनकम': 669, 'कलर': 1377, '2004': 92, 'सनस': 2902, 'नगम': 2044, '1990': 79, 'कतई': 1321, 'आईड': 805, '55': 171, 'कक': 1302, 'तबक': 1871, 'जसल': 1681, '58': 175, '29': 124, 'इब': 947, 'खव': 1441, 'थव': 1934, 'कशमकश': 1389, 'टरप': 1746, 'रध': 2592, 'वम': 2759, 'तनव': 1861, 'थप': 1924, 'एमज': 1176, '42': 149, 'नगन': 2043, '1200': 17, 'अपहरणक': 697, '24': 116, 'अकरम': 613, 'फहर': 2220, 'लहर': 2720, 'एअरल': 1099, 'दबदब': 1962, 'डसम': 1826, 'भरकम': 2332, 'नभ': 2070, 'वलक': 2772, 'उनक': 1035, 'chandermohansharma': 276, 'timesgroupcom': 567, 'अरव': 729, 'उथ': 1027, 'रमर': 2616, 'फट': 2195, 'एसएलब': 1210, 'शखबर': 2791, 'डरग': 1805, 'हलप': 3051, 'नफरह': 2067, 'नएजर': 2034, 'रगर': 2540, 'ईच': 987, 'कछ': 1307, 'डरड': 1806, 'अधपक': 663, 'अरब': 725, 'इधर': 929, 'टरम': 1748, '27': 122, 'भक': 2314, 'सनल': 2900, '1989': 78, '1998': 86, 'बटन': 2243, 'चमकदमक': 1559, 'असभ': 763, 'सहव': 2980, 'हरभजन': 3043, 'જર': 3069, 'इमरज': 956, 'बरगल': 2279, 'कलन': 1374, 'रजबरदस': 2555, 'गलम': 1501, 'फत': 2200, 'शरद': 2821, '38': 140, 'करएहस': 1355, 'गव': 1504, 'आट': 829, 'नमक': 2073, 'टकट': 1710, 'अरशद': 730, 'मलय': 2430, 'ऊपरन': 1085, 'झगड': 1687, 'ईग': 985, 'तरहतरह': 1895, 'मजद': 2372, 'कवतर': 1384, 'मझ': 2378, 'पश': 2174, 'धड': 2004, 'एएब': 1103, 'एश': 1201, 'ओवरएक': 1279, 'सनश': 2901, 'जयर': 1663, 'आमन': 859, 'खब': 1428, 'बबल': 2271, 'अलबत': 737, 'टप': 1728, 'आगज': 820, '32': 129, 'जख': 1609, 'धग': 2002, 'टछ': 1717, 'ईक': 983, 'खदर': 1423, 'खस': 1442, 'भड': 2322, 'अनफ': 680, 'जगहजगह': 1618, 'दनश': 1954, '1984': 76, 'अवगत': 747, 'एनएच': 1143, 'कनन': 1331, 'शय': 2817, 'असम': 764, 'अजब': 630, 'nbt': 438, 'movies': 433, 'ढक': 1829, '500': 164, 'लवट': 2706, 'इए': 901, 'इनल': 939, 'इकतरफ': 905, 'फन': 2202, 'ठह': 1779, 'आईक': 802, 'एकएक': 1109, 'नसब': 2101, 'सग': 2870, 'पगड': 2115, '2017': 104, '59': 176, 'बलव': 2294, 'भटन': 2321, 'अवर': 752, 'टवर': 1756, '131': 23, 'परख': 2146, 'असद': 761, 'आयरन': 865, '72': 187, 'नड': 2055, 'जगत': 1612, 'छरहर': 1599, 'बदन': 2253, 'सहन': 2976, 'मरस': 2424, 'हरकदम': 3033, 'शनश': 2806, 'रतम': 2585, '1ब': 88, '2औसत': 125, '25ट': 119, 'इमप': 954, '3अच': 144, '4बह': 161, '5अद': 177, 'उधर': 1033, 'आलस': 886, 'तरफ': 1888, 'मजम': 2375, 'अकड': 611, 'यवध': 2500, 'पथ': 2133, 'ढह': 1832, 'इनर': 938, 'अपह': 695, 'जहमत': 1684, 'कष': 1390, 'परमह': 2159, 'दलव': 1986, 'भरत': 2333, 'बद': 2248, 'यचक': 2460, 'कपल': 1337, 'रजर': 2556, 'दसप': 1993, 'रगलर': 2542, 'सईद': 2861, '1997': 85, 'टरस': 1751, 'वग': 2731, 'आउट': 809, 'झक': 1685, 'भद': 2324, 'नवव': 2095, 'बय': 2274, 'ऐल': 1230, 'टग': 1715, '116': 13, 'सथ': 2889, 'छपव': 1597, 'यशव': 2509, 'इफस': 946, 'ईफ': 993, '420': 150, 'शद': 2797, '165': 40, 'हलबर': 3052, 'ईज': 988, 'ऑप': 1241, 'आईए': 795, 'अनच': 672, 'सबप': 2919, 'नलल': 2086, '3d': 143, 'एवर': 1199, 'नएज': 2033, 'जबजब': 1646, 'सरण': 2948, 'आपर': 849, 'ओछ': 1259, 'शतर': 2796, 'पतल': 2132, 'रबदल': 2604, 'रखत': 2535, 'चग': 1539, 'अथव': 653, 'रछ': 2550, 'गणप': 1467, '12': 15, 'डसन': 1825, 'ड़व': 3068, 'छड़': 1603, 'दद': 1950, 'गफ': 1477, 'आडव': 834, 'उड़': 1078, 'धड़': 2024, 'मएइश': 2346, 'बरत': 2280, 'तलर': 1900, 'उटपट': 1017, 'घवन': 1528, 'महक': 2444, 'लवद': 2708, 'इपर': 942, 'ओओ': 1257, 'डलक': 1818, 'लद': 2685, 'दड': 1946, 'शरम': 2823, 'तनम': 1860, 'धप': 2010, 'नष': 2098, 'दफन': 1957, 'एस21': 1205, 'आदर': 839, 'जनगणमन': 1631, 'झलकत': 1703, 'छम': 1598, 'डम': 1798, 'आब': 853, 'वहव': 2782, 'कहत': 1397, '1970': 66, 'अनक': 667, 'ऊलज': 1088, 'सनह': 2904, 'चम': 1556, 'सनप': 2898, 'खकन': 1408, 'डरल': 1813, 'षतव': 2843, 'षत': 2842, 'अवस': 754, 'अलहद': 745, 'सहज': 2975, 'रचल': 2546, 'बरकर': 2276, 'गढ़न': 1514, 'कतवर': 1324, 'लभ': 2693, 'षयस': 2853, '48': 158, 'अकबर': 612, 'लहव': 2722, 'करर': 1366, 'खरब': 1435, 'रमल': 2617, 'फतह': 2201, 'उपकथ': 1040, 'आदरभ': 840, 'थय': 1928, 'मसम': 2439, 'मनव': 2402, 'अनपढ': 679, 'असमर': 765, 'रखन': 2536, 'चख': 1538, 'डरमल': 1812, 'कलय': 1376, 'णव': 1840, '2012': 99, 'सवर': 2970, 'नसन': 2100, 'मशक': 2434, 'हसरत': 3063, 'उमड': 1061, '1972': 68, '1978': 73, 'लकड': 2652, 'हमदर': 3022, 'कईकई': 1300, '1920': 52, 'इज़': 980, '1921': 53, 'यरट': 2492, 'ज़र': 3065, 'नज़र': 2107, 'अबक': 708, 'कड़': 1403, 'वज़': 2784, 'वनय': 2753, 'भयभ': 2330, 'चवन': 1578, 'कलरफ': 1378, 'ऊह': 1091, 'एनशन': 1155, 'यवह': 2504, 'सआदत': 2859, 'हसन': 3061, 'सरश': 2962, 'हष': 3059, 'कय': 1352, '1948': 58, 'तपन': 1864, '1936': 55, '81': 197, 'जरन': 1667, 'गह': 1508, 'तपनव': 1865, 'ठसक': 1777, '200': 90, '33': 131, 'हनज': 3008, 'आमर': 860, 'सरमन': 2959, 'कपट': 1335, 'गड़': 1510, '28': 123, 'बहक': 2302, 'समग': 2929, 'उडव': 1023, 'आह': 896, 'जनर': 1635, 'एफ': 1158, 'घस': 1529, 'आजकल': 826, 'मनह': 2404, 'यत': 2469, 'सगढ': 2871, 'एर': 1185, 'ओव': 1276, 'ओवद': 1277, '76': 192, 'लबर': 2691, 'नफ': 2065, 'ईव': 1000, 'पसन': 2177, '1969': 65, 'एमआईब': 1168, 'ऐत': 1225, 'अपम': 689, 'बदब': 2254, 'आरर': 880, 'बनत': 2264, 'पव': 2172, 'टरटन': 1743, 'तहत': 1912, 'एयरल': 1183, 'कवर': 1385, 'एयर': 1181, 'मरत': 2418, 'लगभर': 2666, 'इधरउधर': 930, 'ऊष': 1090, 'डकर': 1785, 'तलपड़': 1899, 'टट': 1718, 'भरसक': 2336, 'मवर': 2432, 'चमचम': 1561, 'ठल': 1775, 'तबल': 1875, '110': 12, 'नरल': 2083, 'नकलच': 2039, 'यकरण': 2457, 'वड': 2741, 'सबह': 2923, 'ईभ': 995, 'हनर': 3011, 'एकरस': 1117, 'एसक': 1212, 'उग': 1007, '54': 170, 'तगड': 1851, 'नकचढ': 2037, 'वयर': 2763, 'आलर': 885, 'एमएसएम': 1174, 'सरस': 2963, 'एनप': 1152, '2611': 121, 'तकव': 1849, 'लखव': 2660, 'उबड': 1056, 'ऑलआउट': 1250, 'रमन': 2613, 'सनक': 2895, 'टअप': 1706, 'मरव': 2423, 'रहनसहन': 2641, 'हग': 2989, 'गटर': 1459, 'गओवर': 1447, 'हवस': 3057, 'णस': 1842, 'एकवल': 1119, 'झगड़': 1688, 'फब': 2204, 'ओन': 1263, 'रआद': 2520, 'मखमल': 2361, 'आवरण': 889, 'मकल': 2355, 'उध': 1032, 'इमड': 952, 'टआउट': 1707, '8व': 200, '100': 3, 'इफर': 944, 'इबर': 948, 'ओशन': 1285, 'हईश': 2984, 'झड': 1692, 'वनन': 2752, 'धरम': 2018, 'उलटफ': 1069, 'एकमत': 1116, 'आड़': 900, 'हमब': 3023, 'पड़त': 2187, 'इटरनल': 920, 'बचप': 2238, 'हरच': 3034, 'कमतर': 1346, 'चढ़': 1587, 'आछ': 824, 'ऑनर': 1239, 'इशरत': 970, 'आइसक': 792, 'ठग': 1766, 'अमरम': 719, 'लगन': 2663, '35': 133, 'उलझन': 1066, 'गरक': 1488, 'भगदड': 2317, 'सरद': 2950, 'एचक': 1126, 'जगद': 1614, 'इटलर': 923, 'दहशत': 1999, 'सभ': 2924, 'लख': 2658, 'उबर': 1057, 'हलचल': 3050, 'बचत': 2237, 'रटगर': 2561, '2014': 101, 'धवर': 2022, 'चपड': 1554, 'उसपर': 1073, 'वहश': 2783, 'चट': 1541, 'पसर': 2178, 'रमनर': 2614, 'दरव': 1980, 'परछ': 2148, 'दहल': 1998, 'तरत': 1887, 'डगमग': 1788, 'अरबप': 726, 'दसव': 1996, 'रचलन': 2547, 'वनश': 2754, 'बदलबदल': 2258, 'हकद': 2986, 'सनसन': 2903, 'कलकत': 1371, 'जकड': 1606, 'तहक': 1909, 'पलक': 2165, 'परतद': 2150, 'वरह': 2770, 'मड': 2383, 'टरटनम': 1744, 'एमए': 1169, 'गडम': 1464, 'आवर': 888, 'vi': 584, 'डलसन': 1821, 'डनकर': 1791, '300000': 127, 'टफर': 1733, 'रटर': 2562, 'एडवर': 1137, 'उकस': 1004, 'एच': 1123, 'दरत': 1974, 'बड़क': 2311, 'पटक': 2122, 'जगन': 1615, 'रथ': 2588, 'चरण': 1568, 'after': 219, 'directing': 307, 'films': 339, 'like': 415, 'kuch': 407, 'hota': 378, 'hai': 360, 'kabhi': 396, 'khushi': 402, 'gham': 353, 'and': 231, 'student': 549, 'of': 446, 'the': 554, 'year': 607, 'director': 309, 'karan': 399, 'johar': 394, 'now': 444, 'brings': 265, 'to': 568, 'you': 608, 'grown': 359, 'up': 580, 'modern': 430, 'day': 296, 'love': 422, 'story': 548, 'which': 597, 'is': 391, 'bit': 259, 'complicated': 285, 'at': 244, 'times': 566, 'but': 268, 'potrays': 469, 'different': 303, 'phases': 461, 'relationship': 494, 'ranbir': 481, 'kapoor': 397, 'anushka': 234, 'sharma': 512, 'aishwarya': 222, 'rai': 480, 'bachchan': 250, 'are': 239, 'in': 383, 'lead': 411, 'role': 499, 'there': 557, 'some': 534, 'surprising': 550, 'elements': 321, 'too': 570, 'film': 337, 'it': 392, 'beautiful': 253, 'looking': 420, 'does': 311, 'have': 365, 'logic': 418, 'about': 209, 'ayan': 246, 'alizeh': 227, 'friendship': 347, 'during': 318, 'course': 292, 'their': 555, 'falls': 327, 'with': 601, 'she': 513, 'doesn': 312, 'reciprocate': 491, 'feeling': 334, 'becuase': 254, 'still': 545, 'reeling': 492, 'from': 348, 'her': 372, 'breakup': 264, 'ali': 226, 'fawad': 331, 'khan': 401, 'chance': 275, 'encounter': 322, 'again': 220, 'slips': 526, 'back': 251, 'into': 390, 'arms': 240, 'leaving': 413, 'distraught': 310, 'then': 556, 'finds': 341, 'solace': 533, 'saba': 502, 'who': 598, 'helps': 371, 'him': 375, 'get': 351, 'new': 441, 'perspective': 460, 'on': 448, 'onesided': 450, 'sometimes': 536, 'seems': 508, 'genuine': 350, 'chemistry': 278, 'between': 257, 'actors': 214, 'laughter': 410, 'sadness': 503, 'comes': 283, 'real': 488, 'consequences': 288, 'remarkable': 496, 'stands': 541, 'out': 452, 'portrayal': 467, 'one': 449, 'sided': 522, 'lover': 423, 'heartbreakinghis': 368, 'works': 603, 'well': 595, 'both': 263, 'leading': 412, 'ladies': 408, 'watching': 591, 'seduction': 506, 'welcome': 594, 'change': 277, 'डरप': 1810, 'कफ': 1339, 'चमड': 1562, 'समल': 2939, 'आईप': 806, '377': 138, 'जलन': 1671, 'धब': 2011, 'चटख': 1543, 'छप': 1596, '64': 181, 'लजव': 2674, 'चतम': 1550, 'मचल': 2368, 'बगल': 2233, 'उमर': 1062, 'बमग': 2273, 'जकमल': 1607, 'नतम': 2057, 'बहरह': 2307, 'थह': 1938, 'झल': 1701, 'अडज': 645, 'थसन': 1937, 'यरस': 2497, 'pr': 470, 'ऐलव': 1231, 'जलपर': 1672, 'बइय': 2223, 'फसल': 2218, 'यमर': 2485, '96': 206, 'गतर': 1469, 'सरग': 2945, 'शरबत': 2822, '160': 39, 'सनन': 2897, 'चटपट': 1545, 'हड़': 3064, 'जनस': 1638, 'चस': 1581, 'फडन': 2199, 'डमड': 1799, 'कटर': 1314, 'लकश': 2657, 'दरबन': 1977, 'जनह': 1640, 'मदर': 2392, 'वहन': 2780, 'नपहच': 2064, 'कढ': 1318, 'टटर': 1719, 'जनम': 1634, 'चटखद': 1544, 'ऊउब': 1079, 'वइनर': 2725, 'थफ': 1925, 'सरफ': 2956, '150': 32, '007': 0, 'रतअ': 2579, '23व': 115, 'अखब': 616, 'एमआई': 1167, 'खड़': 1444, '750': 191, 'तड़क': 1917, '97': 207, 'मरन': 2419, 'बनर': 2266, 'गभ': 1482, 'लगभद': 2665, 'उनपर': 1036, 'उगलव': 1009, 'सरड': 2947, 'अनभ': 682, 'हमशकल': 3027, 'अरबपत': 727, 'खरबप': 1436, 'षरत': 2855, 'डअप': 1782, 'अदल': 660, 'गमभ': 1485, 'हमशक': 3026, 'तमन': 1879, 'मटक': 2380, '1983': 75, 'वकप': 2728, 'पहर': 2183, 'अमरन': 718, 'एलब': 1194, 'असरक': 767, '2013': 100, 'दफरह': 1959, 'यशप': 2507, 'कटपल': 1313, 'अरम': 728, 'यवर': 2501, 'णपत': 1836, 'नसभ': 2102, 'मख': 2360, 'अफसरम': 705, 'अनद': 676, 'हनन': 3010, 'टत': 1722, '2010': 97, 'एलएलब': 1189, 'अह': 776, 'मनस': 2403, 'ठहरस': 1781, 'अधन': 662, 'ओप': 1265, '1942': 56, '2002': 91, 'खज': 1413, 'ओमक': 1271, 'ऊब': 1086, 'मकश': 2356, 'सचम': 2877, 'पहलव': 2185, 'झत': 1694, 'जगज': 1611, 'रशक': 2628, 'गड़गड़': 1511, 'टमर': 1736, 'सफलत': 2913, 'हरप': 3041, '3872': 141, 'यएस': 2453, 'बतल': 2247, 'तरज': 1886, 'झट': 1689, 'गड़बड़': 1512, 'कड़म': 1405, 'तई': 1844, 'टशनब': 1758, 'मसर': 2440, 'पण': 2130, 'जरल': 1669, 'टरब': 1747, 'don': 314, 'खप': 1426, 'कतम': 1322, 'फटक': 2196, '166': 41, 'वच': 2734, '67': 183, 'रझ': 2559, '53': 169, '18र': 50, 'ओस': 1286, 'मछल': 2370, 'कलत': 1373, 'बरफ': 2283, '95': 205, 'दमखम': 1964, 'मटरगश': 2382, 'रणद': 2570, 'वयन': 2762, 'रगत': 2539, 'आउटफ': 811, 'सजद': 2879, 'ऊटपट': 1082, 'धरत': 2016, 'मगल': 2365, 'मगलर': 2366, 'भत': 2323, 'अधमर': 664, 'दशहर': 1991, 'रवर': 2626, '26': 120, 'कण': 1319, 'आरक': 872, 'समक': 2927, 'एसट': 1213, 'जनज': 1632, 'फप': 2203, 'रकट': 2528, 'मकबर': 2352, 'आहम': 898, 'डहर': 1828, 'दलज': 1983, 'घटत': 1517, 'जयव': 1664, 'पथर': 2134, 'गबर': 1480, 'ओढ': 1261, 'अमजद': 715, 'बलद': 2290, 'मरण': 2417, 'ऐडम': 1222, 'जनसम': 1639, 'दड़': 2000, 'एलट': 1192, 'एमएमएस': 1171, 'अपशब': 693, 'सरर': 2960, 'इटरड': 919, 'मकर': 2354, 'शप': 2808, 'फल': 2211, 'आजतक': 827, 'बजर': 2241, 'यजनक': 2462, 'मई': 2344, '04': 1, '105': 8, 'औसतन': 1296, 'उदयप': 1031, 'जपर': 1642, 'जघर': 1620, 'कहर': 1399, 'जअप': 1604, 'धरन': 2017, 'गबल': 1481, 'परमब': 2158, 'हटकर': 2998, 'णब': 1837, 'कबस': 1342, 'फलत': 2213, 'नदह': 2061, 'यमक': 2481, 'उखड': 1006, 'आईस': 808, 'हतग': 3002, 'एलन': 1193, 'हसब': 3062, 'कबड': 1341, 'जमर': 1656, 'चरख': 1567, 'नगर': 2045, 'रबर': 2605, 'सड़कछ': 2982, 'अयन': 722, 'रहब': 2642, 'रगल': 2541, 'ऐटर': 1220, 'गवत': 1505, '4श': 162, 'अनस': 685, 'अपव': 692, '1992': 80, 'फह': 2219, 'बलज': 2288, 'एफप': 1162, 'नवय': 2092, 'ठर': 1774, 'दबख': 1961, 'बलड': 2289, 'हरम': 3044, 'टसन': 1761, 'आईएएस': 796, 'एनज': 1150, 'एफर': 1164, 'बदक': 2249, 'मउलहक': 2345, 'पलटन': 2167, 'रणन': 2572, '1965': 64, 'अदम': 658, 'षवर': 2857, 'अतर': 651, 'ओवरऑल': 1280, 'परवर': 2161, 'ऋद': 1094, 'शनस': 2807, 'मलतब': 2427, 'हश': 3058, 'एनल': 1154, 'कनवर': 1333, 'अनवर': 684, 'मबत': 2410, 'मपण': 2406, 'बदर': 2256, 'सलवर': 2968, 'नहल': 2106, 'ईओवर': 982, 'रफर': 2601, 'अगरबत': 620, 'कअपय': 1298, 'यरम': 2494, 'तरफद': 1889, 'जबदरस': 1648, 'बलम': 2292, 'बदतम': 2250, 'नअल': 2025, 'एचल': 1127, 'झम': 1698, 'हरदम': 3039, 'चच': 1540, 'वहम': 2781, 'गदर': 1472, 'लकम': 2654, 'आईएसआई': 801, 'गरब': 1491, '786': 193, 'मछ': 2369, 'एनएम': 1147, 'वमस': 2760, 'फरम': 2209, 'महजबर': 2446, 'लहज': 2718, 'यमगर': 2482, 'शकश': 2788, 'ठनक': 1769, 'तसव': 1907, 'फज': 2193, 'टनकप': 1726, 'डह': 1827, 'टनक': 1725, 'टरइ': 1740, 'रकरण': 2531, 'लरश': 2700, 'डरकवर': 1804, 'हरस': 3047, 'हरद': 3038, 'शरण': 2819, 'कलस': 1381, 'जनप': 1633, 'आयडल': 863, 'आपत': 846, 'पटत': 2124, 'रमस': 2618, 'अफव': 702, 'मसकल': 2437, 'ईगल': 986, 'गढ़द': 1513, 'उसव': 1076, 'ऐड': 1221, 'लडक': 2680, 'बरगद': 2278, 'रऊफ': 2523, 'घरघर': 1525, 'आरफ': 878, 'औक': 1288, 'यसल': 2514, 'नआरफ': 2026, 'ऐडव': 1224, 'ठम': 1773, '1963': 63, '1973': 69, 'अरजन': 724, 'हबज': 3017, 'आइफ': 787, 'ऐतब': 1226, 'गरज': 1489, 'हजरत': 2994, 'चरम': 1569, 'बफ': 2269, 'mdash': 427, 'navbharat': 436, 'navbharattimes': 437, 'february': 333, 'अमल': 720, 'गक': 1448, 'हरन': 3040, 'आरस': 882, 'आरम': 879, 'गटक': 1457, 'हफट': 3015, 'हरल': 3046, 'रहरल': 2644, 'रणवश': 2577, 'यनश': 2474, 'रफटफ': 2599, 'सटक': 2882, 'नवल': 2094, 'हजब': 2992, 'फक': 2190, 'आओ': 815, 'चवर': 1579, 'बहनज': 2305, 'टध': 1723, 'लवश': 2711, 'रएवर': 2524, 'इटरवल': 921, 'उछल': 1013, 'ष3': 2833, 'एसएफएक': 1208, 'आइल': 790, 'ईथन': 990, 'एयरप': 1182, 'षज': 2836, 'तबतब': 1872, 'टलम': 1753, 'एवज': 1198, 'बकर': 2229, 'दकर': 1941, '147': 29, 'एलज': 1191, 'लहलह': 2721, 'खकर': 1410, 'पलपल': 2170, 'हतप': 3003, 'अवन': 751, 'तलस': 1902, 'ऋषभ': 1096, 'रकण': 2529, '910': 202, 'अथ': 652, '1500': 33, 'डरक': 1803, '800': 195, 'सरपरस': 2955, 'ओड': 1260, 'अजहर': 636, 'ऋत': 1093, 'उगल': 1008, 'इटव': 924, 'ईकलर': 984, 'कदमकदम': 1328, 'एअर': 1097, 'खलफ': 1439, 'लहक': 2717, 'एयरह': 1184, 'नउदय': 2030, 'धत': 2005, 'बदद': 2252, 'बरख': 2277, 'जयस': 1665, 'नतल': 2059, 'औच': 1289, 'एसआरक': 1206, 'छठ': 1591, 'आठव': 832, 'चकरघ': 1536, 'छठव': 1592, 'xxx': 606, 'चलन': 1573, 'अजनब': 629, 'टडम': 1721, 'पकल': 2111, 'मकद': 2350, 'एडम': 1134, 'एनएन': 1145, 'यष': 2512, 'ऊट': 1081, 'जमन': 1655, 'यकथ': 2455, 'आपम': 848, 'षमण': 2847, 'तलपड': 1897, 'ऑव': 1252, 'टफन': 1732, 'चकन': 1533, 'फजल': 2194, 'एज़': 1217, 'टऐ': 1708, 'डरन': 1809, 'हमक': 3021, 'ओवरर': 1282, 'चसमझ': 1582, 'अजद': 628, 'चहचह': 1584, 'अदज': 655, 'हटक': 2997, 'उडन': 1022, 'मथ': 2389, 'सबर': 2921, 'पचड': 2118, 'सटर': 2884, 'रभव': 2609, 'एशनल': 1203, 'खख': 1411, 'कड़क': 1404, 'थगर': 1920, 'दरलल': 1979, 'वकर': 2729, 'अफर': 701, 'उठव': 1020, 'रजव': 2557, 'भलगढ': 2338, 'धभक': 2012, 'पनप': 2139, 'शकर': 2786, 'भधर': 2325, 'खआम': 1406, 'कहलव': 1401, 'रमब': 2615, 'धनब': 2008, 'नरणव': 2081, 'इशकज': 969, 'रसत': 2632, 'चकत': 1532, 'तहस': 1915, 'तफर': 1869, 'नमकम': 2074, 'पलड': 2169, 'यपर': 2476, 'चलस': 1576, 'जगमग': 1616, 'षयकर': 2851, 'सरबज': 2957, 'दलब': 1985, 'चलर': 1575, 'नवन': 2090, 'यड': 2466, 'यवश': 2502, 'रसल': 2635, 'आघ': 822, 'समरस': 2938, 'अनकन': 668, 'रहन': 2640, 'पढ़न': 2189, '2025': 108, 'ऋच': 1092, 'परप': 2153, 'कलव': 1379, '1962': 62, 'जगतप': 1613, 'अडप': 646, 'रतच': 2581, 'ईद': 991, 'पग': 2114, 'एद': 1139, 'चहल': 1585, '155': 36, 'शटर': 2794, 'सपच': 2906, 'जरम': 1668, 'चमच': 1560, 'टख': 1713, 'बहत': 2303, 'इकहत': 910, 'टपकन': 1730, 'कमबख': 1348, 'दऔरत': 1939, 'सघ': 2874, 'उबक': 1055, 'ठकर': 1765, 'ओबर': 1268, 'आयटम': 862, 'अफजर': 700, 'इसम': 976, 'नवज': 2088, 'रजस': 2558, 'गलब': 1500, 'शनअरम': 2799, 'दरम': 1978, 'डलह': 1822, 'यबर': 2479, 'नरम': 2082, '1314': 24, 'लकन': 2653, 'लरम': 2699, 'नखव': 2041, 'ऑसक': 1255, 'ईओ': 981, 'डरम': 1811, 'एरड': 1186, 'लमच': 2696, 'आईएल2622012': 799, 'दण': 1947, 'गपत': 1476, 'करमर': 1365, 'हय': 3029, 'उपकप': 1041, 'णवत': 1841, 'दफर': 1958, '125': 18, 'ठब': 1771, '44': 153, 'मनच': 2396, 'दरदर': 1975, 'तनह': 1862, '1996': 84, 'नमस': 2075, 'वचनबद': 2735, 'लई': 2649, 'अशफ': 757, 'रहच': 2637, 'पटव': 2126, 'परच': 2147, 'ऑट': 1235, 'हप': 3013, 'उपल': 1050, 'एमल': 1180, 'गवल': 1506, 'अनछ': 673, '1976': 71, 'आहल': 899, '1952': 60, '24व': 117, 'अनऑफ': 666, 'ररर': 2621, 'ओबरह': 1269, 'उजर': 1015, 'टज़': 1763, 'हलव': 3053, 'अफग': 699, 'एसए': 1207, 'मजस': 2376, 'जसप': 1679, 'छह': 1602, 'एचएमव': 1125, 'ऐट': 1219, 'हनव': 3012, 'रबख': 2603, 'हगल': 2990, 'इसपर': 974, 'टखस': 1714, 'दरग': 1972, 'मभ': 2411, 'इबल': 949, 'अदरक': 659, 'एथल': 1138, 'समकक': 2928, '2015': 102, 'तनत': 1859, 'बलर': 2293, 'धधक': 2006, 'यमल': 2486, 'रकवच': 2533, 'रफत': 2600, 'टरकट': 1741, 'धवल': 2023, 'वदर': 2749, 'तपरम': 1866, 'डभ': 1797, 'षयव': 2852, 'तफ': 1868, '8090': 196, 'नएनए': 2035, 'सबअर': 2915, 'आरज': 874, 'editorwebdunia': 320, 'webduniacom': 593, 'रचव': 2548, 'बश': 2297, 'दरसअल': 1981, 'नवभ': 2091, 'शभर': 2813, 'अटकत': 639, 'मफर': 2408, 'तहलक': 1914, 'ऊद': 1083, 'परब': 2155, 'चकर': 1535, 'वलप': 2774, 'आईज': 804, 'आरट': 875, 'गफल': 1478, 'ओवरस': 1284, 'टह': 1762, 'करनक': 1363, '205': 109, 'आहत': 897, 'शनलस': 2805, 'अजयअत': 633, 'वगढ': 2732, 'जयक': 1660, 'सजव': 2880, 'हवलद': 3056, '34': 132, 'आइस': 791, 'पलम': 2171, 'नरक': 2079, 'नजनक': 2049, 'एनएच10': 1144, 'नवद': 2089, 'अफसरश': 706, 'गठब': 1462, 'करश': 1368, 'कओवर': 1301, 'अवश': 753, 'अदन': 657, 'मढ़': 2452, 'बदह': 2260, 'भम': 2328, 'अजस': 635, 'ऑरन': 1248, 'एकह': 1121, '57': 174, 'खतरन': 1421, '2011': 98, 'रणभ': 2574, 'ढर': 1830, 'उपम': 1047, 'पहनन': 2182, '1020': 7, 'आइए': 783, 'रणध': 2571, 'मब': 2409, 'इसप': 973, 'लघ': 2669, 'लवड': 2707, 'जसम': 1680, 'ठन': 1768, 'रणम': 2575, 'षग': 2835, '2020': 107, 'उपभ': 1046, 'मरयम': 2422, 'उफ': 1053, 'अटल': 643, 'गलतफ': 1498, 'थफव': 1926, 'रतज': 2582, 'फरग': 2206, 'डरत': 1808, 'नझ': 2052, 'दसब': 1995, 'गमण': 1484, 'ऑब': 1245, 'मनन': 2399, 'दननगर': 1953, 'अलस': 744, 'एडजस': 1133, 'खरज': 1434, 'यटन': 2465, 'तहज': 1911, 'हबत': 3018, 'कलकल': 1372, 'उछ': 1012, 'तयश': 1882, 'एवरग': 1200, 'वरन': 2767, 'इयर': 959, 'वदत': 2748, 'जघन': 1619, 'बकतर': 2227, 'असवर': 771, 'एनक': 1149, 'neil': 440, 'soansकह': 532, 'लवय': 2709, 'रउचक': 2522, 'जलस': 1674, 'उघ': 1010, 'बनम': 2265, 'बनख': 2263, 'मसखर': 2438, 'तबर': 1874, 'हवल': 3055, 'ऊज': 1080, 'गतव': 1470, 'समन': 2933, 'अडरवर': 647, 'डलल': 1820, '1993': 81, 'थटब': 1921, 'डएनज': 1783, 'कलम': 1375, 'सनग': 2896, 'कवच': 1383, 'अजर': 634, 'सपर': 2908, 'एफओ': 1161, 'गठ': 1460, 'थरन': 1931, 'वलज': 2773, 'छन': 1595, 'आईएल': 798, 'अलबर': 739, '130': 21, 'बव': 2296, 'दप': 1955, 'नतमस': 2058, 'इनफ': 936, '6070': 179, 'यय': 2488, 'शनरग': 2803, '40व': 147, 'बअज': 2221, 'लहन': 2719, 'सटरड': 2885, '1015': 5, 'आपब': 847, 'आएश': 814, 'सएडव': 2863, 'यमद': 2483, 'गनप': 1474, 'वडर': 2742, 'कवल': 1386, 'जवल': 1676, 'सटकल': 2883, 'बहर': 2306, 'झपट': 1696, 'समरम': 2937, 'हटव': 2999, 'गलएआजम': 1494, 'मफ': 2407, 'रकल': 2532, 'गजल': 1455, 'आइम': 788, 'आइर': 789, 'इनग': 933, 'झरन': 1700, 'एकत': 1110, 'गलज': 1496, 'बरतत': 2281, 'उठत': 1019, 'ऑलव': 1251, 'नभर': 2071, 'कसरत': 1395, 'एएसआई': 1105, 'एमएलए': 1172, 'भटट': 2320, 'मजन': 2373, 'पलट': 2166, 'कमलज': 1351, '82': 198, 'चलम': 1574, 'चरसग': 1570, 'नऋष': 2031, 'यशस': 2511, 'उजल': 1016, 'शफहम': 2809, 'ललक': 2702, 'एनए': 1142, 'ऊलजल': 1089, 'अहजर': 777, 'rekhakhan': 493, 'नईनई': 2028, 'घड़': 1530, 'इवल': 967, 'उक': 1003, 'शनर': 2802, 'आगर': 821, 'दसपन': 1994, 'झण': 1693, 'यरड': 2493, 'करप': 1364, 'शकल': 2787, 'ओग': 1258, 'दशरथ': 1990, '1934': 54, 'फग': 2192, 'उख': 1005, '1300': 22, 'एनएफड': 1146, 'अशरफ': 758, '1994': 82, 'soorma': 538, 'cinemas': 280, 'post': 468, 'shared': 511, 'by': 269, 'diljit': 305, 'dosanjh': 315, 'diljitdosanjh': 306, 'jul': 395, '2018': 105, '915pm': 204, 'pdt': 457, 'rs': 500, '325': 130, '475': 157, '525': 168, '185': 47, '1710': 44, 'डकशन': 1786, 'फलसफ': 2214, 'जयप': 1662, 'दमनद': 1967, 'शनट': 2801, 'मज़': 2451, 'शमश': 2815, 'आइसल': 793, 'भड़क': 2343, 'एमएस': 1173, 'अनट': 675, 'बगद': 2232, 'ऑयल': 1246, 'पकड़': 2113, 'अबतक': 709, 'एमड': 1177, 'कहन': 1398, 'यरक': 2491, '1949': 59, 'तआठ': 1843, 'धनव': 2009, 'ललच': 2703, 'खम': 1431, 'षणम': 2841, 'ऑनस': 1240, 'णग': 1833, 'सऊद': 2862, 'ईड': 989, 'रफ़': 2646, 'पलटव': 2168, 'यरल': 2495, 'नशन': 2097, '102': 6, '75': 190, 'वख': 2730, 'तड़प': 1918, 'आसपड़': 894, 'सबल': 2922, 'षव': 2856, 'मरक': 2415, 'आईगई': 803, 'एफआईआर': 1159, 'सऑर': 2865, 'एसएस': 1211, 'छट': 1589, 'एमएम': 1170, 'तरम': 1891, 'ऑवर': 1253, 'फरद': 2208, 'लनप': 2687, 'षधर': 2844, 'णम': 1838, 'तचर': 1853, 'र1': 2517, 'एनट': 1151, '1947': 57, 'रदय': 2590, 'यसव': 2515, 'आरच': 873, 'krk': 406, 'यरलअजय': 2496, 'यटक': 2464, 'ड़त': 3066, 'रतऔर': 2580, 'मकह': 2359, 'ओनर': 1264, '2154': 112, 'शलव': 2826, 'ऐडमश': 1223, 'उपर': 1049, 'शमहल': 2816, 'तमप': 1880, 'बरदस': 2282, 'अवच': 748, 'made': 424, 'whopping': 599, 'crore': 295, 'budget': 266, 'shivaay': 515, 'very': 582, 'close': 281, 'ajay': 225, 'devgan': 300, 'heart': 367, 'started': 542, 'working': 602, 'shivvay': 516, 'last': 409, 'give': 355, 'his': 376, 'percent': 458, 'he': 366, 'even': 325, 'said': 504, 'no': 442, 'two': 577, 'other': 451, 'projects': 476, 'feels': 335, 'connection': 287, 'lord': 421, 'shiva': 514, 'since': 524, 'childhood': 279, 'perhaps': 459, 'this': 560, 'reason': 490, 'left': 414, 'stone': 546, 'unturned': 579, 'make': 425, 'has': 364, 'been': 255, 'shot': 520, 'scenic': 505, 'paradise': 455, 'snowy': 530, 'bulgaria': 267, 'terrain': 552, 'so': 531, 'tough': 572, 'that': 553, 'native': 435, 'filmmakers': 338, 'hesistate': 374, 'shooting': 519, 'polish': 466, 'sensation': 509, 'errica': 324, 'kar': 398, 'playing': 465, 'actress': 215, 'wanted': 588, 'shoot': 518, 'movie': 432, 'canada': 272, 'initiallyit': 386, 'was': 590, 'snowing': 529, 'heavily': 369, 'canda': 273, 'when': 596, 'reached': 484, 'crew': 293, 'adversely': 217, 'affected': 218, 'setback': 510, 'came': 271, 'picture': 462, 'as': 243, 'far': 329, 'concerned': 286, 'an': 230, 'actor': 213, 'producer': 474, 'worth': 605, 'its': 393, 'part': 456, 'however': 379, 'direction': 308, 'weak': 592, 'begins': 256, 'slowly': 527, 'takes': 551, 'time': 565, 'develop': 299, 'pair': 454, 'ineffective': 385, 'interval': 389, 'focuses': 344, 'fatherdaughter': 330, 'drastically': 316, 'turns': 576, 'hardcore': 363, 'action': 211, 'thriller': 562, 'see': 507, 'blood': 260, 'all': 228, 'around': 242, 'viwer': 586, 'somehow': 535, 'fail': 326, 'absorb': 210, 'actionemotion': 212, 'complexity': 284, 'starts': 543, 'injured': 387, 'three': 561, 'dead': 297, 'bodies': 261, 'holding': 377, 'doll': 313, 'goes': 358, 'flashback': 343, 'mode': 429, 'lives': 416, 'village': 585, 'uttarakhand': 581, 'apart': 235, 'helping': 370, 'indian': 384, 'army': 241, 'adverse': 216, 'situation': 525, 'tourists': 573, 'trekking': 574, 'prjects': 473, 'olga': 447, 'here': 373, 'trip': 575, 'few': 336, 'friends': 346, 'for': 345, 'rescue': 497, 'avalanche': 245, 'they': 559, 'come': 282, 'each': 319, 'stays': 544, 'quite': 479, 'realizes': 489, 'pregnant': 472, 'wants': 589, 'return': 498, 'family': 328, 'therefore': 558, 'not': 443, 'willing': 600, 'continue': 289, 'pregnancy': 471, 'side': 521, 'happy': 362, 'idea': 381, 'own': 453, 'kid': 403, 'volga': 587, 'birth': 258, 'baby': 249, 'finally': 340, 'gives': 356, 'girl': 354, 'country': 291, 'names': 434, 'gaura': 349, 'unable': 578, 'speak': 539, 'duo': 317, 'living': 417, 'happily': 361, 'small': 528, 'fine': 342, 'know': 405, 'mother': 431, 'insisted': 388, 'go': 357, 'agrees': 221, 'deal': 298, 'reach': 483, 'soon': 537, 'reack': 485, 'gets': 352, 'kidnapped': 404, 'आठदस': 831, 'हजह': 2995, 'खहड': 1443, '1959': 61, 'तहर': 1913, 'हरज': 3035, 'कटप': 1312, 'ready': 487, 'enter': 323, 'world': 604, 'baahubali2': 247, 'baahubalimovie': 248, 'ssrajamouli': 540, 'shobu': 517, 'karanjohar': 400, 'apoorvamehta18': 236, 'pictwittercomjenpnhezbt': 464, 'dharma': 301, 'productions': 475, 'dharmamovies': 302, 'april': 238, 'ट2': 1705, 'इजम': 915, 'लभर': 2694, 'long': 419, 'queues': 478, 'ticket': 563, 'counters': 290, 'hyderabad': 380, 'bahubali2': 252, 'released': 495, 'today': 569, 'pictwittercom8ij5zlngdu': 463, 'ani': 232, 'aninews': 233, 'cgi': 274, 'vf': 583, 'हरमन': 3045, '176': 45, 'उपकह': 1042, 'असहमत': 775, 'मतव': 2388, 'तहसनहस': 1916, 'आमड': 856, 'परमज': 2157, 'आइट': 784, 'ifm': 382, 'चकल': 1537, 'हमर': 3024, '1887': 49, 'औपच': 1291, '20ट': 110, 'आयत': 864, 'लकव': 2656, '911': 203, '1884': 48, 'कजर': 1309, 'चदस': 1551, 'बसर': 2300, 'हरक': 3031, 'इकस': 909, 'एटल': 1131, '358': 134, 'ओएमज': 1256, 'दतर': 1949, 'nbtmovies': 439, 'डमर': 1800, 'आइ': 782, 'हआ': 2983, 'तहख': 1910, 'इफल': 945, 'dil11652015': 304, 'थरथर': 1930, 'पकव': 2112, 'शहन': 2831, 'अलवर': 743, 'गग': 1449, 'करणअर': 1359, 'मगध': 2363, '62': 180, 'मटत': 2381, '50201959': 165, 'लआउट': 2647, 'अबर': 710, 'डबर': 1795, 'फरगस': 2207, 'मरनएक': 2420, 'यशक': 2506, 'मजहर': 2377, 'थरम': 1932, 'खकप': 1409, 'सआफ': 2860, 'ऐप': 1229, 'बघ': 2234, '13व': 26, 'बदतर': 2251, 'रमज': 2611, 'सगत': 2872, 'बईव': 2225, 'आरओ': 871, 'दज': 1945, 'अजमत': 631, 'वजनद': 2738, 'कनफ': 1332, 'अलगस': 736, 'कपड़': 1338, 'मगरमच': 2364, 'अपल': 691, 'सगर': 2873, 'इमट': 951, 'औद': 1290, 'रखप': 2537, 'सरदर': 2951, 'अबल': 711, 'रसर': 2634, 'सबद': 2918, 'डनस': 1792, 'sidharth': 523, 'malhotra': 426, 's1dofficial': 501, 'feb': 332, '550am': 172, 'pst': 477, 'critics': 294, 'ca': 270, 'nt': 445, 'stop': 547, 'raving': 482, 'aiyaary': 223, 'book': 262, 'your': 609, 'tickets': 564, 'aiyaaryoutnow': 224, '1518769492000': 34, '425': 151, '120': 16, 'total': 571, '1445': 28, 'approx': 237, 'ककथ': 1303, 'ओरछ': 1274, 'यकन': 2456, 'सफदर': 2910, 'शनकथ': 2800, 'डरवल': 1816, 'मकस': 2357, 'हकसर': 2988, 'अलक': 733, 'दरब': 1976, 'मनद': 2398, 'शज': 2793, 'दरच': 1973, 'रअश': 2519, 'खतम': 1419, 'खनस': 1425, 'लबल': 2692, 'गरप': 1490, 'करणव': 1360, 'नईनक': 2029, 'णप': 1835, '149': 30, 'रतर': 2586, 'यकव': 2458, 'लढ': 2681, 'इमल': 957, 'तपस': 1867, 'तखत': 1850, 'सऑफ': 2864, 'also': 229, 'read': 486, 'खटखट': 1416, 'घडग': 1520, 'ललव': 2704}\n"
          ]
        }
      ]
    },
    {
      "cell_type": "code",
      "source": [
        "from sklearn.naive_bayes import MultinomialNB\n",
        "\n",
        "\n",
        "# fit the training dataset on the NB classifier\n",
        "Naive = MultinomialNB() #create model\n",
        "Naive.fit(X_train_counts, Y_train)\n",
        "\n",
        "MultinomialNB(alpha=1.0, class_prior=None, fit_prior=True)\n",
        "\n",
        "#Test Accuracy\n",
        "from sklearn.metrics import accuracy_score\n",
        "\n",
        "\n",
        "#predict the labels on validation dataset\n",
        "predictions_NB = Naive.predict(X_test)\n",
        "\n",
        "\n",
        "#Use accuracy score fn to get accuracy. Very high accuracy b/c of assumption of independence\n",
        "print(\"Accuracy Score:\", accuracy_score(predictions_NB, Y_test)*100)"
      ],
      "metadata": {
        "colab": {
          "base_uri": "https://localhost:8080/"
        },
        "id": "mLCx7aF2fXw-",
        "outputId": "23861798-118d-47d3-85ce-85618364da6f"
      },
      "execution_count": null,
      "outputs": [
        {
          "output_type": "stream",
          "name": "stdout",
          "text": [
            "Accuracy Score: 45.0\n"
          ]
        }
      ]
    },
    {
      "cell_type": "markdown",
      "source": [
        "SVM Classifier"
      ],
      "metadata": {
        "id": "SEIOJyPGiXhO"
      }
    },
    {
      "cell_type": "code",
      "source": [
        "dsvm = data"
      ],
      "metadata": {
        "id": "iKjbr1uTjHZd"
      },
      "execution_count": null,
      "outputs": []
    },
    {
      "cell_type": "code",
      "source": [
        "Xsvm = dsvm.drop(['experience'], axis=1)\n",
        "ysvm = dsvm['experience']"
      ],
      "metadata": {
        "id": "Y8NqWsmtjGG2"
      },
      "execution_count": null,
      "outputs": []
    },
    {
      "cell_type": "code",
      "source": [
        "# split X and y into training and testing sets\n",
        "\n",
        "from sklearn.model_selection import train_test_split\n",
        "\n",
        "Xsvm_train, Xsvm_test, ysvm_train, ysvm_test = train_test_split(Xsvm, ysvm, test_size = 0.2, random_state = 0)\n",
        "# check the shape of X_train and X_test\n",
        "\n",
        "X_train.shape, X_test.shape\n"
      ],
      "metadata": {
        "colab": {
          "base_uri": "https://localhost:8080/"
        },
        "id": "xH85qDvViWyL",
        "outputId": "742de952-6553-412b-c1b5-12d92c15f039"
      },
      "execution_count": null,
      "outputs": [
        {
          "output_type": "execute_result",
          "data": {
            "text/plain": [
              "((538, 1), (180, 3070))"
            ]
          },
          "metadata": {},
          "execution_count": 65
        }
      ]
    },
    {
      "cell_type": "code",
      "source": [
        "# Feature scaling\n",
        "cols = Xsvm_train.columns\n",
        "from sklearn.preprocessing import StandardScaler\n",
        "\n",
        "scaler = StandardScaler()\n",
        "\n",
        "Xsvm_train = scaler.fit_transform(Xsvm_train)\n",
        "\n",
        "Xsvm_test = scaler.transform(Xsvm_test)\n",
        "Xsvm_train = pd.DataFrame(Xsvm_train, columns=[cols])\n",
        "Xsvm_test = pd.DataFrame(Xsvm_test, columns=[cols])\n",
        "Xsvm_train.describe()"
      ],
      "metadata": {
        "colab": {
          "base_uri": "https://localhost:8080/",
          "height": 634
        },
        "id": "sa6TCo90jcNv",
        "outputId": "721f3154-d92a-4938-cb08-bb7a39fd676a"
      },
      "execution_count": null,
      "outputs": [
        {
          "output_type": "error",
          "ename": "ValueError",
          "evalue": "could not convert string to float: 'बैनर  विशेष फिल्म्स प्राल  निर्म  मुकेश भट्ट निर्देशक  मोह सूर संगीत  मिथुन  हर्ष सक्स  संगीत सिद्धार्थ हल्दीपुर कल  इमर हाशम  जैकल फर्नांडिस  प्रशांत नारायणन  सुलग् पाणिग्रह  सुधांश पांड  या गुप्  मेहम कल  सेंसर सर्टिफिकेट  ए  2 घंट 10 मिनट  14 रील ‘ मर्डर 2 ’ विशेष फिल्म्स की पिछल फिल्म देख तैयार है। फिल्म में सीर किलर है जव लड़क की हत् है। खलनायक पात्र ‘ संघर्ष ’  ‘ सड़क ’ ‘ दुश्मन ’ जैस फिल्म खलनायक की याद दिल है। सड़क खलनायक की किन्नर है  संघर्ष खलनायक की अंधविश्वास है ‘ दुश्मन ’ विलेन की लड़क क्रूर तरीक मौत घाट उतार है। बल्क दृश्य महेश भट्ट की पिछल फिल्म की याद दिल हैं। खलनायक धीरज पांड पात्र फिल्म में बखूब रंग है  बाक चीज बेरंग रह गईं। कह  स्क्रीनप्ल किरदार गढ़ में ढिल बर गई है वो साफ नजर आत है। लिहाज ‘ मर्डर 2 ’ कमजोर फिल्म रूप में साम आत है। अर्जुन भागवत  इमर हाशम  पुलिस की नौकर छोड चुक है पैस की खातिर अपराध किस्म लोग काम है। शहर की कई कॉलगर्ल गायब जा हैं। क्य  कैस  है पीछ  पत जिम्मेदार सौंप जा है अर्जुन को। अर्जुन मालूम है लड़क गायब की कड़ सेल फोन नंबर जुड़ है। रेशम  सुलग् पाणिग्रह  फोन नंबर ग्राहक पास पहुँच है। रेशम की खबर मिल है ग्लान भर जा है। आपक दोष मान है। जल्द अर्जुन जान ले है धीरज पांड  प्रशांत नारायण  सबक पीछ है। कैस अर्जुन खिलाफ सबूत जुट है  फिल्म सार है। मुख्य कह साइड में अर्जुन प्र  जैकल फर्नांडिस  की प्रेम कह ट्रेक है  जिसक उद्देश्य सिर्फ उत्तेजक दृश्य दिख है। फिल्म की कह में समय दिख है वो मात्र घंट है। इत कम समय में इत घट घट मुमकिन लगता। स्क्रीनप्ल में कई कमजोर  जिसम अहम है दर्शक कह जुड़ पाता। कई ट्रेक ठूँस लग  अर्जुन की ऊपर नाराजगी। अर्जुन प्र की लव स्टोर बेहद बोरिंग है  जिसम प्र एकतरफ प्यार कर है अर्जुन \\u200dउसक जिम्मेदार भाग रह है। रेशम धीरज पांड पास भेज अर्जुन पश्चाताप किरदार प्र दर्शक की सहानुभ पैद रख है  बेहद सतह है। आरोप धीरज खिलाफ अर्जुन सबूत जुट स्क्रिप्ट मजबूत पह क्योंक थ्रिल कह की रीढ़ है  हिस्स अस्पष्ट सतह है। किस्म रोमांच महसूस होता। निर्देशक रूप में मोह सूर खास प्रभाव करते। खासतौर शुरुआ 45 मिनट बेहद बोर है। मोह परद घट घटनाक्रम की कड़ सफ जोड़ पाए। अर्जुन प्र रोमांस की गरम ठीक फिल्म पाए। धीरज पांड की क्रूर उन्हों बखूब पेश है। जैकल फर्नांडिस बेहद हॉट सेक्स नजर आईं  संवाद बोल अभिनय की पोल खुल जा है। इमर हाशम अभिनय औसत दर्ज रहा। भार पड़ प्रशांत नारायण जिन्हों धीरज पांड \\u200dक किरदार\\u200d निभ है। ठंड दिमाग खलनायक पात्र उन्हों अच्छ पेश है। संवाद बजाय चेहर भाव जरिय उन्हों क्रूर दिखाई। या गुप् की सेक्स अपील गा में नजर आत है। फिल्म गीतसंगीत  फोटोग्राफ संपादन प्रभावशाल हैं। मिल ‘ मर्डर 2 ’ निर्माण ‘ मर्डर ’ ब्रांड भुन है ‘ मर्डर ’ की तुल में फिल्म पीछ है। बे  2औसत  25टाइमपास  3अच्छ  4शानदार  5अद्\\u200dभुत '",
          "traceback": [
            "\u001b[0;31m---------------------------------------------------------------------------\u001b[0m",
            "\u001b[0;31mValueError\u001b[0m                                Traceback (most recent call last)",
            "\u001b[0;32m<ipython-input-66-9eed23941940>\u001b[0m in \u001b[0;36m<cell line: 7>\u001b[0;34m()\u001b[0m\n\u001b[1;32m      5\u001b[0m \u001b[0mscaler\u001b[0m \u001b[0;34m=\u001b[0m \u001b[0mStandardScaler\u001b[0m\u001b[0;34m(\u001b[0m\u001b[0;34m)\u001b[0m\u001b[0;34m\u001b[0m\u001b[0;34m\u001b[0m\u001b[0m\n\u001b[1;32m      6\u001b[0m \u001b[0;34m\u001b[0m\u001b[0m\n\u001b[0;32m----> 7\u001b[0;31m \u001b[0mXsvm_train\u001b[0m \u001b[0;34m=\u001b[0m \u001b[0mscaler\u001b[0m\u001b[0;34m.\u001b[0m\u001b[0mfit_transform\u001b[0m\u001b[0;34m(\u001b[0m\u001b[0mXsvm_train\u001b[0m\u001b[0;34m)\u001b[0m\u001b[0;34m\u001b[0m\u001b[0;34m\u001b[0m\u001b[0m\n\u001b[0m\u001b[1;32m      8\u001b[0m \u001b[0;34m\u001b[0m\u001b[0m\n\u001b[1;32m      9\u001b[0m \u001b[0mXsvm_test\u001b[0m \u001b[0;34m=\u001b[0m \u001b[0mscaler\u001b[0m\u001b[0;34m.\u001b[0m\u001b[0mtransform\u001b[0m\u001b[0;34m(\u001b[0m\u001b[0mXsvm_test\u001b[0m\u001b[0;34m)\u001b[0m\u001b[0;34m\u001b[0m\u001b[0;34m\u001b[0m\u001b[0m\n",
            "\u001b[0;32m/usr/local/lib/python3.10/dist-packages/sklearn/utils/_set_output.py\u001b[0m in \u001b[0;36mwrapped\u001b[0;34m(self, X, *args, **kwargs)\u001b[0m\n\u001b[1;32m    138\u001b[0m     \u001b[0;34m@\u001b[0m\u001b[0mwraps\u001b[0m\u001b[0;34m(\u001b[0m\u001b[0mf\u001b[0m\u001b[0;34m)\u001b[0m\u001b[0;34m\u001b[0m\u001b[0;34m\u001b[0m\u001b[0m\n\u001b[1;32m    139\u001b[0m     \u001b[0;32mdef\u001b[0m \u001b[0mwrapped\u001b[0m\u001b[0;34m(\u001b[0m\u001b[0mself\u001b[0m\u001b[0;34m,\u001b[0m \u001b[0mX\u001b[0m\u001b[0;34m,\u001b[0m \u001b[0;34m*\u001b[0m\u001b[0margs\u001b[0m\u001b[0;34m,\u001b[0m \u001b[0;34m**\u001b[0m\u001b[0mkwargs\u001b[0m\u001b[0;34m)\u001b[0m\u001b[0;34m:\u001b[0m\u001b[0;34m\u001b[0m\u001b[0;34m\u001b[0m\u001b[0m\n\u001b[0;32m--> 140\u001b[0;31m         \u001b[0mdata_to_wrap\u001b[0m \u001b[0;34m=\u001b[0m \u001b[0mf\u001b[0m\u001b[0;34m(\u001b[0m\u001b[0mself\u001b[0m\u001b[0;34m,\u001b[0m \u001b[0mX\u001b[0m\u001b[0;34m,\u001b[0m \u001b[0;34m*\u001b[0m\u001b[0margs\u001b[0m\u001b[0;34m,\u001b[0m \u001b[0;34m**\u001b[0m\u001b[0mkwargs\u001b[0m\u001b[0;34m)\u001b[0m\u001b[0;34m\u001b[0m\u001b[0;34m\u001b[0m\u001b[0m\n\u001b[0m\u001b[1;32m    141\u001b[0m         \u001b[0;32mif\u001b[0m \u001b[0misinstance\u001b[0m\u001b[0;34m(\u001b[0m\u001b[0mdata_to_wrap\u001b[0m\u001b[0;34m,\u001b[0m \u001b[0mtuple\u001b[0m\u001b[0;34m)\u001b[0m\u001b[0;34m:\u001b[0m\u001b[0;34m\u001b[0m\u001b[0;34m\u001b[0m\u001b[0m\n\u001b[1;32m    142\u001b[0m             \u001b[0;31m# only wrap the first output for cross decomposition\u001b[0m\u001b[0;34m\u001b[0m\u001b[0;34m\u001b[0m\u001b[0m\n",
            "\u001b[0;32m/usr/local/lib/python3.10/dist-packages/sklearn/base.py\u001b[0m in \u001b[0;36mfit_transform\u001b[0;34m(self, X, y, **fit_params)\u001b[0m\n\u001b[1;32m    876\u001b[0m         \u001b[0;32mif\u001b[0m \u001b[0my\u001b[0m \u001b[0;32mis\u001b[0m \u001b[0;32mNone\u001b[0m\u001b[0;34m:\u001b[0m\u001b[0;34m\u001b[0m\u001b[0;34m\u001b[0m\u001b[0m\n\u001b[1;32m    877\u001b[0m             \u001b[0;31m# fit method of arity 1 (unsupervised transformation)\u001b[0m\u001b[0;34m\u001b[0m\u001b[0;34m\u001b[0m\u001b[0m\n\u001b[0;32m--> 878\u001b[0;31m             \u001b[0;32mreturn\u001b[0m \u001b[0mself\u001b[0m\u001b[0;34m.\u001b[0m\u001b[0mfit\u001b[0m\u001b[0;34m(\u001b[0m\u001b[0mX\u001b[0m\u001b[0;34m,\u001b[0m \u001b[0;34m**\u001b[0m\u001b[0mfit_params\u001b[0m\u001b[0;34m)\u001b[0m\u001b[0;34m.\u001b[0m\u001b[0mtransform\u001b[0m\u001b[0;34m(\u001b[0m\u001b[0mX\u001b[0m\u001b[0;34m)\u001b[0m\u001b[0;34m\u001b[0m\u001b[0;34m\u001b[0m\u001b[0m\n\u001b[0m\u001b[1;32m    879\u001b[0m         \u001b[0;32melse\u001b[0m\u001b[0;34m:\u001b[0m\u001b[0;34m\u001b[0m\u001b[0;34m\u001b[0m\u001b[0m\n\u001b[1;32m    880\u001b[0m             \u001b[0;31m# fit method of arity 2 (supervised transformation)\u001b[0m\u001b[0;34m\u001b[0m\u001b[0;34m\u001b[0m\u001b[0m\n",
            "\u001b[0;32m/usr/local/lib/python3.10/dist-packages/sklearn/preprocessing/_data.py\u001b[0m in \u001b[0;36mfit\u001b[0;34m(self, X, y, sample_weight)\u001b[0m\n\u001b[1;32m    822\u001b[0m         \u001b[0;31m# Reset internal state before fitting\u001b[0m\u001b[0;34m\u001b[0m\u001b[0;34m\u001b[0m\u001b[0m\n\u001b[1;32m    823\u001b[0m         \u001b[0mself\u001b[0m\u001b[0;34m.\u001b[0m\u001b[0m_reset\u001b[0m\u001b[0;34m(\u001b[0m\u001b[0;34m)\u001b[0m\u001b[0;34m\u001b[0m\u001b[0;34m\u001b[0m\u001b[0m\n\u001b[0;32m--> 824\u001b[0;31m         \u001b[0;32mreturn\u001b[0m \u001b[0mself\u001b[0m\u001b[0;34m.\u001b[0m\u001b[0mpartial_fit\u001b[0m\u001b[0;34m(\u001b[0m\u001b[0mX\u001b[0m\u001b[0;34m,\u001b[0m \u001b[0my\u001b[0m\u001b[0;34m,\u001b[0m \u001b[0msample_weight\u001b[0m\u001b[0;34m)\u001b[0m\u001b[0;34m\u001b[0m\u001b[0;34m\u001b[0m\u001b[0m\n\u001b[0m\u001b[1;32m    825\u001b[0m \u001b[0;34m\u001b[0m\u001b[0m\n\u001b[1;32m    826\u001b[0m     \u001b[0;32mdef\u001b[0m \u001b[0mpartial_fit\u001b[0m\u001b[0;34m(\u001b[0m\u001b[0mself\u001b[0m\u001b[0;34m,\u001b[0m \u001b[0mX\u001b[0m\u001b[0;34m,\u001b[0m \u001b[0my\u001b[0m\u001b[0;34m=\u001b[0m\u001b[0;32mNone\u001b[0m\u001b[0;34m,\u001b[0m \u001b[0msample_weight\u001b[0m\u001b[0;34m=\u001b[0m\u001b[0;32mNone\u001b[0m\u001b[0;34m)\u001b[0m\u001b[0;34m:\u001b[0m\u001b[0;34m\u001b[0m\u001b[0;34m\u001b[0m\u001b[0m\n",
            "\u001b[0;32m/usr/local/lib/python3.10/dist-packages/sklearn/preprocessing/_data.py\u001b[0m in \u001b[0;36mpartial_fit\u001b[0;34m(self, X, y, sample_weight)\u001b[0m\n\u001b[1;32m    859\u001b[0m \u001b[0;34m\u001b[0m\u001b[0m\n\u001b[1;32m    860\u001b[0m         \u001b[0mfirst_call\u001b[0m \u001b[0;34m=\u001b[0m \u001b[0;32mnot\u001b[0m \u001b[0mhasattr\u001b[0m\u001b[0;34m(\u001b[0m\u001b[0mself\u001b[0m\u001b[0;34m,\u001b[0m \u001b[0;34m\"n_samples_seen_\"\u001b[0m\u001b[0;34m)\u001b[0m\u001b[0;34m\u001b[0m\u001b[0;34m\u001b[0m\u001b[0m\n\u001b[0;32m--> 861\u001b[0;31m         X = self._validate_data(\n\u001b[0m\u001b[1;32m    862\u001b[0m             \u001b[0mX\u001b[0m\u001b[0;34m,\u001b[0m\u001b[0;34m\u001b[0m\u001b[0;34m\u001b[0m\u001b[0m\n\u001b[1;32m    863\u001b[0m             \u001b[0maccept_sparse\u001b[0m\u001b[0;34m=\u001b[0m\u001b[0;34m(\u001b[0m\u001b[0;34m\"csr\"\u001b[0m\u001b[0;34m,\u001b[0m \u001b[0;34m\"csc\"\u001b[0m\u001b[0;34m)\u001b[0m\u001b[0;34m,\u001b[0m\u001b[0;34m\u001b[0m\u001b[0;34m\u001b[0m\u001b[0m\n",
            "\u001b[0;32m/usr/local/lib/python3.10/dist-packages/sklearn/base.py\u001b[0m in \u001b[0;36m_validate_data\u001b[0;34m(self, X, y, reset, validate_separately, **check_params)\u001b[0m\n\u001b[1;32m    563\u001b[0m             \u001b[0;32mraise\u001b[0m \u001b[0mValueError\u001b[0m\u001b[0;34m(\u001b[0m\u001b[0;34m\"Validation should be done on X, y or both.\"\u001b[0m\u001b[0;34m)\u001b[0m\u001b[0;34m\u001b[0m\u001b[0;34m\u001b[0m\u001b[0m\n\u001b[1;32m    564\u001b[0m         \u001b[0;32melif\u001b[0m \u001b[0;32mnot\u001b[0m \u001b[0mno_val_X\u001b[0m \u001b[0;32mand\u001b[0m \u001b[0mno_val_y\u001b[0m\u001b[0;34m:\u001b[0m\u001b[0;34m\u001b[0m\u001b[0;34m\u001b[0m\u001b[0m\n\u001b[0;32m--> 565\u001b[0;31m             \u001b[0mX\u001b[0m \u001b[0;34m=\u001b[0m \u001b[0mcheck_array\u001b[0m\u001b[0;34m(\u001b[0m\u001b[0mX\u001b[0m\u001b[0;34m,\u001b[0m \u001b[0minput_name\u001b[0m\u001b[0;34m=\u001b[0m\u001b[0;34m\"X\"\u001b[0m\u001b[0;34m,\u001b[0m \u001b[0;34m**\u001b[0m\u001b[0mcheck_params\u001b[0m\u001b[0;34m)\u001b[0m\u001b[0;34m\u001b[0m\u001b[0;34m\u001b[0m\u001b[0m\n\u001b[0m\u001b[1;32m    566\u001b[0m             \u001b[0mout\u001b[0m \u001b[0;34m=\u001b[0m \u001b[0mX\u001b[0m\u001b[0;34m\u001b[0m\u001b[0;34m\u001b[0m\u001b[0m\n\u001b[1;32m    567\u001b[0m         \u001b[0;32melif\u001b[0m \u001b[0mno_val_X\u001b[0m \u001b[0;32mand\u001b[0m \u001b[0;32mnot\u001b[0m \u001b[0mno_val_y\u001b[0m\u001b[0;34m:\u001b[0m\u001b[0;34m\u001b[0m\u001b[0;34m\u001b[0m\u001b[0m\n",
            "\u001b[0;32m/usr/local/lib/python3.10/dist-packages/sklearn/utils/validation.py\u001b[0m in \u001b[0;36mcheck_array\u001b[0;34m(array, accept_sparse, accept_large_sparse, dtype, order, copy, force_all_finite, ensure_2d, allow_nd, ensure_min_samples, ensure_min_features, estimator, input_name)\u001b[0m\n\u001b[1;32m    877\u001b[0m                     \u001b[0marray\u001b[0m \u001b[0;34m=\u001b[0m \u001b[0mxp\u001b[0m\u001b[0;34m.\u001b[0m\u001b[0mastype\u001b[0m\u001b[0;34m(\u001b[0m\u001b[0marray\u001b[0m\u001b[0;34m,\u001b[0m \u001b[0mdtype\u001b[0m\u001b[0;34m,\u001b[0m \u001b[0mcopy\u001b[0m\u001b[0;34m=\u001b[0m\u001b[0;32mFalse\u001b[0m\u001b[0;34m)\u001b[0m\u001b[0;34m\u001b[0m\u001b[0;34m\u001b[0m\u001b[0m\n\u001b[1;32m    878\u001b[0m                 \u001b[0;32melse\u001b[0m\u001b[0;34m:\u001b[0m\u001b[0;34m\u001b[0m\u001b[0;34m\u001b[0m\u001b[0m\n\u001b[0;32m--> 879\u001b[0;31m                     \u001b[0marray\u001b[0m \u001b[0;34m=\u001b[0m \u001b[0m_asarray_with_order\u001b[0m\u001b[0;34m(\u001b[0m\u001b[0marray\u001b[0m\u001b[0;34m,\u001b[0m \u001b[0morder\u001b[0m\u001b[0;34m=\u001b[0m\u001b[0morder\u001b[0m\u001b[0;34m,\u001b[0m \u001b[0mdtype\u001b[0m\u001b[0;34m=\u001b[0m\u001b[0mdtype\u001b[0m\u001b[0;34m,\u001b[0m \u001b[0mxp\u001b[0m\u001b[0;34m=\u001b[0m\u001b[0mxp\u001b[0m\u001b[0;34m)\u001b[0m\u001b[0;34m\u001b[0m\u001b[0;34m\u001b[0m\u001b[0m\n\u001b[0m\u001b[1;32m    880\u001b[0m             \u001b[0;32mexcept\u001b[0m \u001b[0mComplexWarning\u001b[0m \u001b[0;32mas\u001b[0m \u001b[0mcomplex_warning\u001b[0m\u001b[0;34m:\u001b[0m\u001b[0;34m\u001b[0m\u001b[0;34m\u001b[0m\u001b[0m\n\u001b[1;32m    881\u001b[0m                 raise ValueError(\n",
            "\u001b[0;32m/usr/local/lib/python3.10/dist-packages/sklearn/utils/_array_api.py\u001b[0m in \u001b[0;36m_asarray_with_order\u001b[0;34m(array, dtype, order, copy, xp)\u001b[0m\n\u001b[1;32m    183\u001b[0m     \u001b[0;32mif\u001b[0m \u001b[0mxp\u001b[0m\u001b[0;34m.\u001b[0m\u001b[0m__name__\u001b[0m \u001b[0;32min\u001b[0m \u001b[0;34m{\u001b[0m\u001b[0;34m\"numpy\"\u001b[0m\u001b[0;34m,\u001b[0m \u001b[0;34m\"numpy.array_api\"\u001b[0m\u001b[0;34m}\u001b[0m\u001b[0;34m:\u001b[0m\u001b[0;34m\u001b[0m\u001b[0;34m\u001b[0m\u001b[0m\n\u001b[1;32m    184\u001b[0m         \u001b[0;31m# Use NumPy API to support order\u001b[0m\u001b[0;34m\u001b[0m\u001b[0;34m\u001b[0m\u001b[0m\n\u001b[0;32m--> 185\u001b[0;31m         \u001b[0marray\u001b[0m \u001b[0;34m=\u001b[0m \u001b[0mnumpy\u001b[0m\u001b[0;34m.\u001b[0m\u001b[0masarray\u001b[0m\u001b[0;34m(\u001b[0m\u001b[0marray\u001b[0m\u001b[0;34m,\u001b[0m \u001b[0morder\u001b[0m\u001b[0;34m=\u001b[0m\u001b[0morder\u001b[0m\u001b[0;34m,\u001b[0m \u001b[0mdtype\u001b[0m\u001b[0;34m=\u001b[0m\u001b[0mdtype\u001b[0m\u001b[0;34m)\u001b[0m\u001b[0;34m\u001b[0m\u001b[0;34m\u001b[0m\u001b[0m\n\u001b[0m\u001b[1;32m    186\u001b[0m         \u001b[0;32mreturn\u001b[0m \u001b[0mxp\u001b[0m\u001b[0;34m.\u001b[0m\u001b[0masarray\u001b[0m\u001b[0;34m(\u001b[0m\u001b[0marray\u001b[0m\u001b[0;34m,\u001b[0m \u001b[0mcopy\u001b[0m\u001b[0;34m=\u001b[0m\u001b[0mcopy\u001b[0m\u001b[0;34m)\u001b[0m\u001b[0;34m\u001b[0m\u001b[0;34m\u001b[0m\u001b[0m\n\u001b[1;32m    187\u001b[0m     \u001b[0;32melse\u001b[0m\u001b[0;34m:\u001b[0m\u001b[0;34m\u001b[0m\u001b[0;34m\u001b[0m\u001b[0m\n",
            "\u001b[0;32m/usr/local/lib/python3.10/dist-packages/pandas/core/generic.py\u001b[0m in \u001b[0;36m__array__\u001b[0;34m(self, dtype)\u001b[0m\n\u001b[1;32m   2068\u001b[0m \u001b[0;34m\u001b[0m\u001b[0m\n\u001b[1;32m   2069\u001b[0m     \u001b[0;32mdef\u001b[0m \u001b[0m__array__\u001b[0m\u001b[0;34m(\u001b[0m\u001b[0mself\u001b[0m\u001b[0;34m,\u001b[0m \u001b[0mdtype\u001b[0m\u001b[0;34m:\u001b[0m \u001b[0mnpt\u001b[0m\u001b[0;34m.\u001b[0m\u001b[0mDTypeLike\u001b[0m \u001b[0;34m|\u001b[0m \u001b[0;32mNone\u001b[0m \u001b[0;34m=\u001b[0m \u001b[0;32mNone\u001b[0m\u001b[0;34m)\u001b[0m \u001b[0;34m->\u001b[0m \u001b[0mnp\u001b[0m\u001b[0;34m.\u001b[0m\u001b[0mndarray\u001b[0m\u001b[0;34m:\u001b[0m\u001b[0;34m\u001b[0m\u001b[0;34m\u001b[0m\u001b[0m\n\u001b[0;32m-> 2070\u001b[0;31m         \u001b[0;32mreturn\u001b[0m \u001b[0mnp\u001b[0m\u001b[0;34m.\u001b[0m\u001b[0masarray\u001b[0m\u001b[0;34m(\u001b[0m\u001b[0mself\u001b[0m\u001b[0;34m.\u001b[0m\u001b[0m_values\u001b[0m\u001b[0;34m,\u001b[0m \u001b[0mdtype\u001b[0m\u001b[0;34m=\u001b[0m\u001b[0mdtype\u001b[0m\u001b[0;34m)\u001b[0m\u001b[0;34m\u001b[0m\u001b[0;34m\u001b[0m\u001b[0m\n\u001b[0m\u001b[1;32m   2071\u001b[0m \u001b[0;34m\u001b[0m\u001b[0m\n\u001b[1;32m   2072\u001b[0m     def __array_wrap__(\n",
            "\u001b[0;31mValueError\u001b[0m: could not convert string to float: 'बैनर  विशेष फिल्म्स प्राल  निर्म  मुकेश भट्ट निर्देशक  मोह सूर संगीत  मिथुन  हर्ष सक्स  संगीत सिद्धार्थ हल्दीपुर कल  इमर हाशम  जैकल फर्नांडिस  प्रशांत नारायणन  सुलग् पाणिग्रह  सुधांश पांड  या गुप्  मेहम कल  सेंसर सर्टिफिकेट  ए  2 घंट 10 मिनट  14 रील ‘ मर्डर 2 ’ विशेष फिल्म्स की पिछल फिल्म देख तैयार है। फिल्म में सीर किलर है जव लड़क की हत् है। खलनायक पात्र ‘ संघर्ष ’  ‘ सड़क ’ ‘ दुश्मन ’ जैस फिल्म खलनायक की याद दिल है। सड़क खलनायक की किन्नर है  संघर्ष खलनायक की अंधविश्वास है ‘ दुश्मन ’ विलेन की लड़क क्रूर तरीक मौत घाट उतार है। बल्क दृश्य महेश भट्ट की पिछल फिल्म की याद दिल हैं। खलनायक धीरज पांड पात्र फिल्म में बखूब रंग है  बाक चीज बेरंग रह गईं। कह  स्क्रीनप्ल किरदार गढ़ में ढिल बर गई है वो साफ नजर आत है। लिहाज ‘ मर्डर 2 ’ कमजोर फिल्म रूप में साम आत है। अर्जुन भागवत  इमर हाशम  पुलिस की नौकर छोड चुक है पैस की खातिर अपराध किस्म लोग काम है। शहर की कई कॉलगर्ल गायब जा हैं। क्य  कैस  है पीछ  पत जिम्मेदार सौंप जा है अर्जुन को। अर्जुन मालूम है लड़क गायब की कड़ सेल फोन नंबर जुड़ है। रेशम  सुलग् पाणिग्रह  फोन नंबर ग्राहक पास पहुँच है। रेशम की खबर मिल है ग्लान भर जा है। आपक दोष मान है। जल्द अर्जुन जान ले है धीरज पांड  प्रशांत नारायण  सबक पीछ है। कैस अर्जुन खिलाफ सबूत जुट है  फिल्म सार है। मुख्य कह साइड में अर्जुन प्र  जैकल फर्नांडिस  की प्रेम कह ट्रेक है  जिसक उद्देश्य सिर्फ उत्तेजक दृश्य दिख है। फिल्म की कह में समय दिख है वो मात्र घंट है। इत कम समय में इत घट घट मुमकिन लगता। स्क्रीनप्ल में कई कमजोर  जिसम अहम है दर्शक कह जुड़ पात..."
          ]
        }
      ]
    }
  ]
}